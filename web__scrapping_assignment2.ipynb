{
 "cells": [
  {
   "cell_type": "code",
   "execution_count": 1,
   "metadata": {},
   "outputs": [
    {
     "name": "stdout",
     "output_type": "stream",
     "text": [
      "Collecting undetected-chromedriver\n"
     ]
    },
    {
     "name": "stderr",
     "output_type": "stream",
     "text": [
      "ERROR: After October 2020 you may experience errors when installing or updating packages. This is because pip will change the way that it resolves dependency conflicts.\n",
      "\n",
      "We recommend you use --use-feature=2020-resolver to test your packages with the new resolver before it becomes the default.\n",
      "\n",
      "requests 2.24.0 requires urllib3!=1.25.0,!=1.25.1,<1.26,>=1.21.1, but you'll have urllib3 1.26.6 which is incompatible.\n"
     ]
    },
    {
     "name": "stdout",
     "output_type": "stream",
     "text": [
      "  Downloading undetected-chromedriver-3.0.3.tar.gz (42 kB)\n",
      "Collecting selenium==4.0.0b4\n",
      "  Downloading selenium-4.0.0.b4-py3-none-any.whl (1.1 MB)\n",
      "Requirement already satisfied: requests in c:\\users\\jameel\\anaconda3\\lib\\site-packages (from undetected-chromedriver) (2.24.0)\n",
      "Collecting websockets\n",
      "  Downloading websockets-10.0-cp38-cp38-win_amd64.whl (96 kB)\n",
      "Collecting trio-websocket~=0.9\n",
      "  Downloading trio_websocket-0.9.2-py3-none-any.whl (16 kB)\n",
      "Collecting urllib3[secure]~=1.26\n",
      "  Downloading urllib3-1.26.6-py2.py3-none-any.whl (138 kB)\n",
      "Collecting trio~=0.17\n",
      "  Downloading trio-0.19.0-py3-none-any.whl (356 kB)\n",
      "Requirement already satisfied: chardet<4,>=3.0.2 in c:\\users\\jameel\\anaconda3\\lib\\site-packages (from requests->undetected-chromedriver) (3.0.4)\n",
      "Requirement already satisfied: idna<3,>=2.5 in c:\\users\\jameel\\anaconda3\\lib\\site-packages (from requests->undetected-chromedriver) (2.10)\n",
      "Requirement already satisfied: certifi>=2017.4.17 in c:\\users\\jameel\\anaconda3\\lib\\site-packages (from requests->undetected-chromedriver) (2020.6.20)\n",
      "Requirement already satisfied: async-generator>=1.10 in c:\\users\\jameel\\anaconda3\\lib\\site-packages (from trio-websocket~=0.9->selenium==4.0.0b4->undetected-chromedriver) (1.10)\n",
      "Collecting wsproto>=0.14\n",
      "  Downloading wsproto-1.0.0-py3-none-any.whl (24 kB)\n",
      "Requirement already satisfied: pyOpenSSL>=0.14; extra == \"secure\" in c:\\users\\jameel\\anaconda3\\lib\\site-packages (from urllib3[secure]~=1.26->selenium==4.0.0b4->undetected-chromedriver) (19.1.0)\n",
      "Requirement already satisfied: cryptography>=1.3.4; extra == \"secure\" in c:\\users\\jameel\\anaconda3\\lib\\site-packages (from urllib3[secure]~=1.26->selenium==4.0.0b4->undetected-chromedriver) (3.1.1)\n",
      "Requirement already satisfied: attrs>=19.2.0 in c:\\users\\jameel\\anaconda3\\lib\\site-packages (from trio~=0.17->selenium==4.0.0b4->undetected-chromedriver) (20.3.0)\n",
      "Requirement already satisfied: sortedcontainers in c:\\users\\jameel\\anaconda3\\lib\\site-packages (from trio~=0.17->selenium==4.0.0b4->undetected-chromedriver) (2.2.2)\n",
      "Collecting outcome\n",
      "  Downloading outcome-1.1.0-py2.py3-none-any.whl (9.7 kB)\n",
      "Requirement already satisfied: cffi>=1.14; os_name == \"nt\" and implementation_name != \"pypy\" in c:\\users\\jameel\\anaconda3\\lib\\site-packages (from trio~=0.17->selenium==4.0.0b4->undetected-chromedriver) (1.14.3)\n",
      "Collecting sniffio\n",
      "  Downloading sniffio-1.2.0-py3-none-any.whl (10 kB)\n",
      "Collecting h11<1,>=0.9.0\n",
      "  Downloading h11-0.12.0-py3-none-any.whl (54 kB)\n",
      "Requirement already satisfied: six>=1.5.2 in c:\\users\\jameel\\anaconda3\\lib\\site-packages (from pyOpenSSL>=0.14; extra == \"secure\"->urllib3[secure]~=1.26->selenium==4.0.0b4->undetected-chromedriver) (1.15.0)\n",
      "Requirement already satisfied: pycparser in c:\\users\\jameel\\anaconda3\\lib\\site-packages (from cffi>=1.14; os_name == \"nt\" and implementation_name != \"pypy\"->trio~=0.17->selenium==4.0.0b4->undetected-chromedriver) (2.20)\n",
      "Building wheels for collected packages: undetected-chromedriver\n",
      "  Building wheel for undetected-chromedriver (setup.py): started\n",
      "  Building wheel for undetected-chromedriver (setup.py): finished with status 'done'\n",
      "  Created wheel for undetected-chromedriver: filename=undetected_chromedriver-3.0.3-py3-none-any.whl size=31459 sha256=8b94a39fe4c0e0310e01dc615b9d417edb31c627a7a0f34ef67b3d828cac9fce\n",
      "  Stored in directory: c:\\users\\jameel\\appdata\\local\\pip\\cache\\wheels\\a3\\a9\\c1\\e6ca4d330d675cfc275209b3397bd92d38682b780ed69fa553\n",
      "Successfully built undetected-chromedriver\n",
      "Installing collected packages: h11, wsproto, outcome, sniffio, trio, trio-websocket, urllib3, selenium, websockets, undetected-chromedriver\n",
      "  Attempting uninstall: urllib3\n",
      "    Found existing installation: urllib3 1.25.11\n",
      "    Uninstalling urllib3-1.25.11:\n",
      "      Successfully uninstalled urllib3-1.25.11\n",
      "  Attempting uninstall: selenium\n",
      "    Found existing installation: selenium 3.141.0\n",
      "    Uninstalling selenium-3.141.0:\n",
      "      Successfully uninstalled selenium-3.141.0\n",
      "Successfully installed h11-0.12.0 outcome-1.1.0 selenium-4.0.0b4 sniffio-1.2.0 trio-0.19.0 trio-websocket-0.9.2 undetected-chromedriver-3.0.3 urllib3-1.26.6 websockets-10.0 wsproto-1.0.0\n"
     ]
    }
   ],
   "source": [
    "#!pip install selenium\n",
    "!pip install undetected-chromedriver"
   ]
  },
  {
   "cell_type": "code",
   "execution_count": 2,
   "metadata": {},
   "outputs": [],
   "source": [
    "# import libraries\n",
    "import selenium\n",
    "import pandas as pd\n",
    "from selenium import webdriver\n",
    "import time\n",
    "#from selenium.common.exceptions import NoSuchElementException"
   ]
  },
  {
   "cell_type": "code",
   "execution_count": 3,
   "metadata": {},
   "outputs": [
    {
     "name": "stderr",
     "output_type": "stream",
     "text": [
      "C:\\Users\\jameel\\anaconda3\\lib\\site-packages\\requests\\__init__.py:89: RequestsDependencyWarning: urllib3 (1.26.6) or chardet (3.0.4) doesn't match a supported version!\n",
      "  warnings.warn(\"urllib3 ({}) or chardet ({}) doesn't match a supported \"\n"
     ]
    }
   ],
   "source": [
    "import undetected_chromedriver as uc"
   ]
  },
  {
   "cell_type": "markdown",
   "metadata": {},
   "source": [
    "# Q1"
   ]
  },
  {
   "cell_type": "code",
   "execution_count": 5,
   "metadata": {},
   "outputs": [],
   "source": [
    "# connect to webdriver\n",
    "options = webdriver.ChromeOptions()\n",
    "options.add_argument(\"start-maximized\")\n",
    "driver = uc.Chrome(executable_path='chromedriver.exe', options=options)"
   ]
  },
  {
   "cell_type": "code",
   "execution_count": 6,
   "metadata": {},
   "outputs": [],
   "source": [
    "url = 'https://www.naukri.com/'\n",
    "driver.get(url)\n",
    "time.sleep(2)"
   ]
  },
  {
   "cell_type": "code",
   "execution_count": 7,
   "metadata": {},
   "outputs": [
    {
     "name": "stderr",
     "output_type": "stream",
     "text": [
      "C:\\Users\\jameel\\anaconda3\\lib\\site-packages\\selenium\\webdriver\\remote\\webdriver.py:443: UserWarning: find_element_by_* commands are deprecated. Please use find_element() instead\n",
      "  warnings.warn(\"find_element_by_* commands are deprecated. Please use find_element() instead\")\n"
     ]
    }
   ],
   "source": [
    "search_job = driver.find_element_by_id(\"qsb-keyword-sugg\")\n",
    "\n",
    "search_job.send_keys(\"Data Analyst\")\n",
    "\n",
    "\n",
    "search_location = driver.find_element_by_id(\"qsb-location-sugg\")\n",
    "\n",
    "search_location.send_keys(\"Bangalore\")"
   ]
  },
  {
   "cell_type": "code",
   "execution_count": 8,
   "metadata": {},
   "outputs": [
    {
     "name": "stderr",
     "output_type": "stream",
     "text": [
      "C:\\Users\\jameel\\anaconda3\\lib\\site-packages\\selenium\\webdriver\\remote\\webdriver.py:483: UserWarning: find_element_by_* commands are deprecated. Please use find_element() instead\n",
      "  warnings.warn(\"find_element_by_* commands are deprecated. Please use find_element() instead\")\n"
     ]
    }
   ],
   "source": [
    "search_btn = driver.find_element_by_xpath(\"//button[@class='btn']\")\n",
    "\n",
    "search_btn.click()"
   ]
  },
  {
   "cell_type": "code",
   "execution_count": 9,
   "metadata": {
    "scrolled": true
   },
   "outputs": [
    {
     "name": "stderr",
     "output_type": "stream",
     "text": [
      "C:\\Users\\jameel\\anaconda3\\lib\\site-packages\\selenium\\webdriver\\remote\\webdriver.py:502: UserWarning: find_elements_by_* commands are deprecated. Please use find_elements() instead\n",
      "  warnings.warn(\"find_elements_by_* commands are deprecated. Please use find_elements() instead\")\n"
     ]
    },
    {
     "data": {
      "text/plain": [
       "['SENIOR DATA ANALYST',\n",
       " 'Tcs Hiring For Senior Data Analyst (bfsi domain)',\n",
       " 'Business Data Analyst',\n",
       " 'Business Data Analyst',\n",
       " 'Business Data Analyst - Google Data Studio & SQL',\n",
       " 'Senior Data Analyst',\n",
       " 'Tcs Hiring For MDM (master data management) Data Analyst (bfsi domain)',\n",
       " 'Senior Data Analyst IDAM Services',\n",
       " 'Data Analyst/Sr.Data Engineer',\n",
       " 'People Analytics - Data Analyst',\n",
       " 'Data Analyst SAS+Alteryx',\n",
       " 'Executive Data Analyst',\n",
       " 'Senior Data Analyst IN4',\n",
       " 'Data Analyst - Python/SQL',\n",
       " 'Analyst & Designer - Software - Data Analysis',\n",
       " 'Data Analyst',\n",
       " 'Data Analyst - Vedantu',\n",
       " 'Data Analyst - I/II',\n",
       " 'Systems and Data Analyst, Safety and Provisioning',\n",
       " 'Data Analyst']"
      ]
     },
     "execution_count": 9,
     "metadata": {},
     "output_type": "execute_result"
    }
   ],
   "source": [
    "titles_tags = driver.find_elements_by_xpath(\"//a[@class='title fw500 ellipsis']\")\n",
    "\n",
    "job_titles = [] #empty list\n",
    "for i in titles_tags:\n",
    "    job_titles.append(i.text)\n",
    "    \n",
    "job_titles"
   ]
  },
  {
   "cell_type": "code",
   "execution_count": 10,
   "metadata": {
    "scrolled": true
   },
   "outputs": [
    {
     "data": {
      "text/plain": [
       "['McAfee Software (India) Pvt. Ltd',\n",
       " 'Tata Consultancy Services Ltd.',\n",
       " 'Trigent Software',\n",
       " 'Trigent Software',\n",
       " 'AVE-Promagne',\n",
       " 'Virtusa Consulting Services Pvt Ltd',\n",
       " 'Tata Consultancy Services Ltd.',\n",
       " 'GlaxoSmithKline Pharmaceuticals Limited',\n",
       " 'SYREN TECHNOLOGIES PRIVATE LIMITED',\n",
       " 'Marvell India Pvt Ltd',\n",
       " 'Podium Systems',\n",
       " 'Gokaldas Exports Ltd',\n",
       " 'Walmart Labs',\n",
       " 'Affine',\n",
       " 'HyreFox Consultants Pvt Ltd',\n",
       " 'Empower Retirement',\n",
       " 'Vedantu Innovations Private Limited',\n",
       " 'Philips India Limited',\n",
       " 'AECOM India Private Limited',\n",
       " 'IBM India Pvt. Limited']"
      ]
     },
     "execution_count": 10,
     "metadata": {},
     "output_type": "execute_result"
    }
   ],
   "source": [
    "company_name = driver.find_elements_by_xpath(\"//a[@class='subTitle ellipsis fleft']\")\n",
    "\n",
    "comp_name = [] #empty list\n",
    "for i in company_name:\n",
    "    comp_name.append(i.text)\n",
    "    \n",
    "comp_name"
   ]
  },
  {
   "cell_type": "code",
   "execution_count": 11,
   "metadata": {
    "scrolled": true
   },
   "outputs": [
    {
     "data": {
      "text/plain": [
       "['6-8 Yrs',\n",
       " '6-11 Yrs',\n",
       " '5-10 Yrs',\n",
       " '5-10 Yrs',\n",
       " '3-8 Yrs',\n",
       " '8-12 Yrs',\n",
       " '6-11 Yrs',\n",
       " '4-8 Yrs',\n",
       " '4-9 Yrs',\n",
       " '3-5 Yrs',\n",
       " '4-9 Yrs',\n",
       " '0-3 Yrs',\n",
       " '8-10 Yrs',\n",
       " '3-5 Yrs',\n",
       " '5-7 Yrs',\n",
       " '2-4 Yrs',\n",
       " '2-5 Yrs',\n",
       " '3-6 Yrs',\n",
       " '2-7 Yrs',\n",
       " '1-4 Yrs']"
      ]
     },
     "execution_count": 11,
     "metadata": {},
     "output_type": "execute_result"
    }
   ],
   "source": [
    "exp_tags = driver.find_elements_by_xpath(\"//li[@class='fleft grey-text br2 placeHolderLi experience']//span\")\n",
    "\n",
    "job_experience = [] #empty list\n",
    "for i in exp_tags:\n",
    "    job_experience.append(i.text)\n",
    "    \n",
    "job_experience"
   ]
  },
  {
   "cell_type": "code",
   "execution_count": 12,
   "metadata": {
    "scrolled": true
   },
   "outputs": [
    {
     "data": {
      "text/plain": [
       "['Bangalore/Bengaluru',\n",
       " 'Chennai, Bangalore/Bengaluru',\n",
       " 'Bangalore/Bengaluru',\n",
       " 'Bangalore/Bengaluru',\n",
       " 'Bangalore/Bengaluru',\n",
       " 'Hyderabad/Secunderabad, Pune, Gurgaon/Gurugram, Chennai, Bangalore/Bengaluru, Mumbai (All Areas)',\n",
       " 'Chennai, Bangalore/Bengaluru',\n",
       " 'Bangalore/Bengaluru',\n",
       " 'Hyderabad/Secunderabad, Chennai, Bangalore/Bengaluru',\n",
       " 'Bangalore/Bengaluru',\n",
       " 'Pune, Chennai, Gurgaon/Gurugram, Bangalore/Bengaluru',\n",
       " 'Bangalore/Bengaluru',\n",
       " 'Bangalore/Bengaluru',\n",
       " 'Bangalore/Bengaluru',\n",
       " 'Bangalore/Bengaluru',\n",
       " 'Bangalore/Bengaluru',\n",
       " 'Bangalore/Bengaluru',\n",
       " 'Bangalore/Bengaluru',\n",
       " 'Bangalore/Bengaluru',\n",
       " 'Bengaluru/Bangalore']"
      ]
     },
     "execution_count": 12,
     "metadata": {},
     "output_type": "execute_result"
    }
   ],
   "source": [
    "job_location = driver.find_elements_by_xpath(\"//li[@class='fleft grey-text br2 placeHolderLi location']//span[1]\")\n",
    "\n",
    "job_loc = [] #empty list\n",
    "for i in job_location:\n",
    "    job_loc.append(i.text)\n",
    "    \n",
    "job_loc"
   ]
  },
  {
   "cell_type": "code",
   "execution_count": 13,
   "metadata": {},
   "outputs": [
    {
     "data": {
      "text/html": [
       "<div>\n",
       "<style scoped>\n",
       "    .dataframe tbody tr th:only-of-type {\n",
       "        vertical-align: middle;\n",
       "    }\n",
       "\n",
       "    .dataframe tbody tr th {\n",
       "        vertical-align: top;\n",
       "    }\n",
       "\n",
       "    .dataframe thead th {\n",
       "        text-align: right;\n",
       "    }\n",
       "</style>\n",
       "<table border=\"1\" class=\"dataframe\">\n",
       "  <thead>\n",
       "    <tr style=\"text-align: right;\">\n",
       "      <th></th>\n",
       "      <th>Job Titles</th>\n",
       "      <th>Company</th>\n",
       "      <th>Experience</th>\n",
       "      <th>Location</th>\n",
       "    </tr>\n",
       "  </thead>\n",
       "  <tbody>\n",
       "    <tr>\n",
       "      <th>0</th>\n",
       "      <td>SENIOR DATA ANALYST</td>\n",
       "      <td>McAfee Software (India) Pvt. Ltd</td>\n",
       "      <td>6-8 Yrs</td>\n",
       "      <td>Bangalore/Bengaluru</td>\n",
       "    </tr>\n",
       "    <tr>\n",
       "      <th>1</th>\n",
       "      <td>Tcs Hiring For Senior Data Analyst (bfsi domain)</td>\n",
       "      <td>Tata Consultancy Services Ltd.</td>\n",
       "      <td>6-11 Yrs</td>\n",
       "      <td>Chennai, Bangalore/Bengaluru</td>\n",
       "    </tr>\n",
       "    <tr>\n",
       "      <th>2</th>\n",
       "      <td>Business Data Analyst</td>\n",
       "      <td>Trigent Software</td>\n",
       "      <td>5-10 Yrs</td>\n",
       "      <td>Bangalore/Bengaluru</td>\n",
       "    </tr>\n",
       "    <tr>\n",
       "      <th>3</th>\n",
       "      <td>Business Data Analyst</td>\n",
       "      <td>Trigent Software</td>\n",
       "      <td>5-10 Yrs</td>\n",
       "      <td>Bangalore/Bengaluru</td>\n",
       "    </tr>\n",
       "    <tr>\n",
       "      <th>4</th>\n",
       "      <td>Business Data Analyst - Google Data Studio &amp; SQL</td>\n",
       "      <td>AVE-Promagne</td>\n",
       "      <td>3-8 Yrs</td>\n",
       "      <td>Bangalore/Bengaluru</td>\n",
       "    </tr>\n",
       "    <tr>\n",
       "      <th>5</th>\n",
       "      <td>Senior Data Analyst</td>\n",
       "      <td>Virtusa Consulting Services Pvt Ltd</td>\n",
       "      <td>8-12 Yrs</td>\n",
       "      <td>Hyderabad/Secunderabad, Pune, Gurgaon/Gurugram...</td>\n",
       "    </tr>\n",
       "    <tr>\n",
       "      <th>6</th>\n",
       "      <td>Tcs Hiring For MDM (master data management) Da...</td>\n",
       "      <td>Tata Consultancy Services Ltd.</td>\n",
       "      <td>6-11 Yrs</td>\n",
       "      <td>Chennai, Bangalore/Bengaluru</td>\n",
       "    </tr>\n",
       "    <tr>\n",
       "      <th>7</th>\n",
       "      <td>Senior Data Analyst IDAM Services</td>\n",
       "      <td>GlaxoSmithKline Pharmaceuticals Limited</td>\n",
       "      <td>4-8 Yrs</td>\n",
       "      <td>Bangalore/Bengaluru</td>\n",
       "    </tr>\n",
       "    <tr>\n",
       "      <th>8</th>\n",
       "      <td>Data Analyst/Sr.Data Engineer</td>\n",
       "      <td>SYREN TECHNOLOGIES PRIVATE LIMITED</td>\n",
       "      <td>4-9 Yrs</td>\n",
       "      <td>Hyderabad/Secunderabad, Chennai, Bangalore/Ben...</td>\n",
       "    </tr>\n",
       "    <tr>\n",
       "      <th>9</th>\n",
       "      <td>People Analytics - Data Analyst</td>\n",
       "      <td>Marvell India Pvt Ltd</td>\n",
       "      <td>3-5 Yrs</td>\n",
       "      <td>Bangalore/Bengaluru</td>\n",
       "    </tr>\n",
       "  </tbody>\n",
       "</table>\n",
       "</div>"
      ],
      "text/plain": [
       "                                          Job Titles  \\\n",
       "0                                SENIOR DATA ANALYST   \n",
       "1   Tcs Hiring For Senior Data Analyst (bfsi domain)   \n",
       "2                              Business Data Analyst   \n",
       "3                              Business Data Analyst   \n",
       "4   Business Data Analyst - Google Data Studio & SQL   \n",
       "5                                Senior Data Analyst   \n",
       "6  Tcs Hiring For MDM (master data management) Da...   \n",
       "7                  Senior Data Analyst IDAM Services   \n",
       "8                      Data Analyst/Sr.Data Engineer   \n",
       "9                    People Analytics - Data Analyst   \n",
       "\n",
       "                                   Company Experience  \\\n",
       "0         McAfee Software (India) Pvt. Ltd    6-8 Yrs   \n",
       "1           Tata Consultancy Services Ltd.   6-11 Yrs   \n",
       "2                         Trigent Software   5-10 Yrs   \n",
       "3                         Trigent Software   5-10 Yrs   \n",
       "4                             AVE-Promagne    3-8 Yrs   \n",
       "5      Virtusa Consulting Services Pvt Ltd   8-12 Yrs   \n",
       "6           Tata Consultancy Services Ltd.   6-11 Yrs   \n",
       "7  GlaxoSmithKline Pharmaceuticals Limited    4-8 Yrs   \n",
       "8       SYREN TECHNOLOGIES PRIVATE LIMITED    4-9 Yrs   \n",
       "9                    Marvell India Pvt Ltd    3-5 Yrs   \n",
       "\n",
       "                                            Location  \n",
       "0                                Bangalore/Bengaluru  \n",
       "1                       Chennai, Bangalore/Bengaluru  \n",
       "2                                Bangalore/Bengaluru  \n",
       "3                                Bangalore/Bengaluru  \n",
       "4                                Bangalore/Bengaluru  \n",
       "5  Hyderabad/Secunderabad, Pune, Gurgaon/Gurugram...  \n",
       "6                       Chennai, Bangalore/Bengaluru  \n",
       "7                                Bangalore/Bengaluru  \n",
       "8  Hyderabad/Secunderabad, Chennai, Bangalore/Ben...  \n",
       "9                                Bangalore/Bengaluru  "
      ]
     },
     "execution_count": 13,
     "metadata": {},
     "output_type": "execute_result"
    }
   ],
   "source": [
    "# Make data frame \n",
    "job_details=pd.DataFrame({})\n",
    "job_details['Job Titles']=job_titles\n",
    "job_details['Company']=comp_name\n",
    "job_details['Experience']=job_experience\n",
    "job_details['Location']=job_loc \n",
    "job_details.head(10)"
   ]
  },
  {
   "cell_type": "markdown",
   "metadata": {},
   "source": [
    "# Q2"
   ]
  },
  {
   "cell_type": "code",
   "execution_count": 14,
   "metadata": {},
   "outputs": [],
   "source": [
    "# connect to webdriver\n",
    "options = webdriver.ChromeOptions()\n",
    "options.add_argument(\"start-maximized\")\n",
    "driver = uc.Chrome(executable_path='chromedriver.exe', options=options)"
   ]
  },
  {
   "cell_type": "code",
   "execution_count": 15,
   "metadata": {},
   "outputs": [],
   "source": [
    "url = 'https://www.naukri.com/'\n",
    "driver.get(url)"
   ]
  },
  {
   "cell_type": "code",
   "execution_count": 16,
   "metadata": {},
   "outputs": [
    {
     "name": "stderr",
     "output_type": "stream",
     "text": [
      "C:\\Users\\jameel\\anaconda3\\lib\\site-packages\\selenium\\webdriver\\remote\\webdriver.py:443: UserWarning: find_element_by_* commands are deprecated. Please use find_element() instead\n",
      "  warnings.warn(\"find_element_by_* commands are deprecated. Please use find_element() instead\")\n"
     ]
    },
    {
     "data": {
      "text/plain": [
       "<selenium.webdriver.remote.webelement.WebElement (session=\"de47f60446f05d685ff24e136851036b\", element=\"ffc6c37c-abac-45ac-83fc-098d338be1f7\")>"
      ]
     },
     "execution_count": 16,
     "metadata": {},
     "output_type": "execute_result"
    }
   ],
   "source": [
    "search_job = driver.find_element_by_id(\"qsb-keyword-sugg\")\n",
    "search_job\n",
    "search_location = driver.find_element_by_id(\"qsb-location-sugg\")\n",
    "search_location"
   ]
  },
  {
   "cell_type": "code",
   "execution_count": 17,
   "metadata": {},
   "outputs": [],
   "source": [
    "search_job.send_keys(\"Data Scientist\")\n",
    "search_location.send_keys(\"Bangalore\")"
   ]
  },
  {
   "cell_type": "code",
   "execution_count": 18,
   "metadata": {},
   "outputs": [
    {
     "name": "stderr",
     "output_type": "stream",
     "text": [
      "C:\\Users\\jameel\\anaconda3\\lib\\site-packages\\selenium\\webdriver\\remote\\webdriver.py:483: UserWarning: find_element_by_* commands are deprecated. Please use find_element() instead\n",
      "  warnings.warn(\"find_element_by_* commands are deprecated. Please use find_element() instead\")\n"
     ]
    },
    {
     "data": {
      "text/plain": [
       "<selenium.webdriver.remote.webelement.WebElement (session=\"de47f60446f05d685ff24e136851036b\", element=\"5fad545b-ea77-4ade-9e35-8209bf47ac3d\")>"
      ]
     },
     "execution_count": 18,
     "metadata": {},
     "output_type": "execute_result"
    }
   ],
   "source": [
    "search_btn = driver.find_element_by_xpath(\"//button[@class='btn']\")\n",
    "search_btn"
   ]
  },
  {
   "cell_type": "code",
   "execution_count": 19,
   "metadata": {},
   "outputs": [],
   "source": [
    "search_btn.click()"
   ]
  },
  {
   "cell_type": "code",
   "execution_count": 20,
   "metadata": {},
   "outputs": [
    {
     "name": "stderr",
     "output_type": "stream",
     "text": [
      "C:\\Users\\jameel\\anaconda3\\lib\\site-packages\\selenium\\webdriver\\remote\\webdriver.py:502: UserWarning: find_elements_by_* commands are deprecated. Please use find_elements() instead\n",
      "  warnings.warn(\"find_elements_by_* commands are deprecated. Please use find_elements() instead\")\n"
     ]
    },
    {
     "data": {
      "text/plain": [
       "['Hiring For Data Scientist',\n",
       " 'Lead Data Scientist BFSI',\n",
       " 'Associate Data Scientist',\n",
       " 'Data Scientist',\n",
       " 'Data Scientist 3',\n",
       " 'Data scientist',\n",
       " 'Data Scientist 4',\n",
       " 'Data Scientist: Advanced Analytics',\n",
       " 'Senior Data Scientist',\n",
       " 'Senior Data Scientist',\n",
       " 'Sr Data Scientist',\n",
       " 'Sr Data Scientist',\n",
       " 'SENIOR DATA SCIENTIST',\n",
       " 'Senior Data Scientist IN4',\n",
       " 'Senior Data Scientist (Marketplace)',\n",
       " 'Hiring For Manager and Sr. Manager | Data Scientist',\n",
       " 'Requirement For Data Scientist - Mumbai & Bangalore',\n",
       " 'Data Scientist (Python & SQL)',\n",
       " 'Lead Data Scientist BFSI',\n",
       " 'Data Analyst/Data Scientist']"
      ]
     },
     "execution_count": 20,
     "metadata": {},
     "output_type": "execute_result"
    }
   ],
   "source": [
    "titles_tags = driver.find_elements_by_xpath(\"//a[@class='title fw500 ellipsis']\")\n",
    "\n",
    "job_titles = [] #empty list\n",
    "for i in titles_tags:\n",
    "    job_titles.append(i.text)\n",
    "    \n",
    "job_titles"
   ]
  },
  {
   "cell_type": "code",
   "execution_count": 21,
   "metadata": {},
   "outputs": [
    {
     "data": {
      "text/plain": [
       "['Tata Consultancy Services Ltd.',\n",
       " 'IBM India Pvt. Limited',\n",
       " 'Philips India Limited',\n",
       " 'IHS Markit',\n",
       " 'Western Digital',\n",
       " 'Bloom Consulting Services, Inc.',\n",
       " 'Western Digital',\n",
       " 'IBM India Pvt. Limited',\n",
       " 'Walmart Labs',\n",
       " 'Airbnb',\n",
       " 'IBM India Pvt. Limited',\n",
       " 'IBM India Pvt. Limited',\n",
       " 'Happiest Minds Technologies Pvt.Ltd',\n",
       " 'Walmart Labs',\n",
       " 'Walmart Labs',\n",
       " 'Vision Beyond Resources India Private Limited',\n",
       " 'CRISIL LIMITED',\n",
       " 'AVE-Promagne',\n",
       " 'IBM India Pvt. Limited',\n",
       " 'Skillenable Fintech Private Limited']"
      ]
     },
     "execution_count": 21,
     "metadata": {},
     "output_type": "execute_result"
    }
   ],
   "source": [
    "company_name = driver.find_elements_by_xpath(\"//a[@class='subTitle ellipsis fleft']\")\n",
    "\n",
    "comp_name = [] #empty list\n",
    "for i in company_name:\n",
    "    comp_name.append(i.text)\n",
    "    \n",
    "comp_name"
   ]
  },
  {
   "cell_type": "code",
   "execution_count": 22,
   "metadata": {},
   "outputs": [
    {
     "data": {
      "text/plain": [
       "['Chennai, Bangalore/Bengaluru, Mumbai (All Areas)',\n",
       " 'Bengaluru/Bangalore',\n",
       " 'Bangalore/Bengaluru',\n",
       " 'Bangalore/Bengaluru',\n",
       " 'Bangalore/Bengaluru',\n",
       " 'United States (USA), Bangalore/Bengaluru',\n",
       " 'Bangalore/Bengaluru',\n",
       " 'Bengaluru/Bangalore',\n",
       " 'Bangalore/Bengaluru',\n",
       " 'Bangalore/Bengaluru',\n",
       " 'Bengaluru/Bangalore',\n",
       " 'Bangalore/Bengaluru',\n",
       " 'Bangalore/Bengaluru',\n",
       " 'Bangalore/Bengaluru',\n",
       " 'Bangalore/Bengaluru',\n",
       " 'Noida, Mumbai, New Delhi, Gurgaon/Gurugram, Bangalore/Bengaluru',\n",
       " 'Bangalore/Bengaluru, Mumbai (All Areas)',\n",
       " 'Hyderabad/Secunderabad, Chennai, Bangalore/Bengaluru',\n",
       " 'Bengaluru/Bangalore',\n",
       " 'Bangalore/Bengaluru, Delhi / NCR, Mumbai (All Areas)']"
      ]
     },
     "execution_count": 22,
     "metadata": {},
     "output_type": "execute_result"
    }
   ],
   "source": [
    "job_location = driver.find_elements_by_xpath(\"//li[@class='fleft grey-text br2 placeHolderLi location']//span[1]\")\n",
    "\n",
    "job_loc = [] #empty list\n",
    "for i in job_location:\n",
    "    job_loc.append(i.text)\n",
    "    \n",
    "job_loc"
   ]
  },
  {
   "cell_type": "code",
   "execution_count": 23,
   "metadata": {},
   "outputs": [
    {
     "data": {
      "text/plain": [
       "['https://www.naukri.com/job-listings-hiring-for-data-scientist-tata-consultancy-services-chennai-bangalore-bengaluru-mumbai-all-areas-3-to-8-years-110921000464?src=jobsearchDesk&sid=16314567150518386&xp=1&px=1',\n",
       " 'https://www.naukri.com/job-listings-lead-data-scientist-bfsi-ibm-india-pvt-limited-bengaluru-bangalore-5-to-9-years-070921901691?src=jobsearchDesk&sid=16314567150518386&xp=2&px=1',\n",
       " 'https://www.naukri.com/job-listings-associate-data-scientist-philips-india-limited-bangalore-bengaluru-3-to-5-years-060921501985?src=jobsearchDesk&sid=16314567150518386&xp=3&px=1',\n",
       " 'https://www.naukri.com/job-listings-data-scientist-ihs-markit-bangalore-bengaluru-3-to-6-years-100921500999?src=jobsearchDesk&sid=16314567150518386&xp=4&px=1',\n",
       " 'https://www.naukri.com/job-listings-data-scientist-3-western-digital-bangalore-bengaluru-6-to-9-years-100921501898?src=jobsearchDesk&sid=16314567150518386&xp=5&px=1',\n",
       " 'https://www.naukri.com/job-listings-data-scientist-bloom-consulting-services-inc-bangalore-bengaluru-united-states-usa-5-to-8-years-100921500172?src=jobsearchDesk&sid=16314567150518386&xp=6&px=1',\n",
       " 'https://www.naukri.com/job-listings-data-scientist-4-western-digital-bangalore-bengaluru-2-to-4-years-100921501899?src=jobsearchDesk&sid=16314567150518386&xp=7&px=1',\n",
       " 'https://www.naukri.com/job-listings-data-scientist-advanced-analytics-ibm-india-pvt-limited-bengaluru-bangalore-3-to-7-years-070921901677?src=jobsearchDesk&sid=16314567150518386&xp=8&px=1',\n",
       " 'https://www.naukri.com/job-listings-senior-data-scientist-walmart-labs-bangalore-bengaluru-6-to-10-years-090921501063?src=jobsearchDesk&sid=16314567150518386&xp=9&px=1',\n",
       " 'https://www.naukri.com/job-listings-senior-data-scientist-airbnb-bangalore-bengaluru-7-to-12-years-080921500017?src=jobsearchDesk&sid=16314567150518386&xp=10&px=1',\n",
       " 'https://www.naukri.com/job-listings-sr-data-scientist-ibm-india-pvt-limited-bengaluru-bangalore-6-to-8-years-010921906637?src=jobsearchDesk&sid=16314567150518386&xp=11&px=1',\n",
       " 'https://www.naukri.com/job-listings-sr-data-scientist-ibm-india-pvt-limited-bangalore-bengaluru-6-to-8-years-010921906105?src=jobsearchDesk&sid=16314567150518386&xp=12&px=1',\n",
       " 'https://www.naukri.com/job-listings-senior-data-scientist-happiest-minds-technologies-pvt-ltd-bangalore-bengaluru-5-to-10-years-070921501517?src=jobsearchDesk&sid=16314567150518386&xp=13&px=1',\n",
       " 'https://www.naukri.com/job-listings-senior-data-scientist-in4-walmart-labs-bangalore-bengaluru-7-to-10-years-090921501064?src=jobsearchDesk&sid=16314567150518386&xp=14&px=1',\n",
       " 'https://www.naukri.com/job-listings-senior-data-scientist-marketplace-walmart-labs-bangalore-bengaluru-4-to-8-years-090921500549?src=jobsearchDesk&sid=16314567150518386&xp=15&px=1',\n",
       " 'https://www.naukri.com/job-listings-hiring-for-manager-and-sr-manager-data-scientist-vision-beyond-resources-india-private-limited-noida-mumbai-new-delhi-gurgaon-gurugram-bangalore-bengaluru-8-to-13-years-090921005986?src=jobsearchDesk&sid=16314567150518386&xp=16&px=1',\n",
       " 'https://www.naukri.com/job-listings-requirement-for-data-scientist-mumbai-bangalore-crisil-limited-bangalore-bengaluru-mumbai-all-areas-2-to-6-years-080921005523?src=jobsearchDesk&sid=16314567150518386&xp=17&px=1',\n",
       " 'https://www.naukri.com/job-listings-data-scientist-python-sql-ave-promagne-hyderabad-secunderabad-chennai-bangalore-bengaluru-6-to-8-years-060921904967?src=jobsearchDesk&sid=16314567150518386&xp=18&px=1',\n",
       " 'https://www.naukri.com/job-listings-lead-data-scientist-bfsi-ibm-india-pvt-limited-bengaluru-bangalore-7-to-9-years-280821904112?src=jobsearchDesk&sid=16314567150518386&xp=19&px=1',\n",
       " 'https://www.naukri.com/job-listings-data-analyst-data-scientist-skillenable-fintech-private-limited-bangalore-bengaluru-delhi-ncr-mumbai-all-areas-2-to-5-years-280821002888?src=jobsearchDesk&sid=16314567150518386&xp=20&px=1']"
      ]
     },
     "execution_count": 23,
     "metadata": {},
     "output_type": "execute_result"
    }
   ],
   "source": [
    "url = driver.find_elements_by_xpath(\"//a[@class='title fw500 ellipsis']\")\n",
    "\n",
    "job_opening_urls = []\n",
    "\n",
    "for i in url:\n",
    "    job_opening_urls.append(i.get_attribute(\"href\"))\n",
    "    \n",
    "job_opening_urls"
   ]
  },
  {
   "cell_type": "code",
   "execution_count": 24,
   "metadata": {},
   "outputs": [
    {
     "data": {
      "text/plain": [
       "['Job description\\nMinumum 3 years of experience in Data Science/Machine learning\\n\\nLocation : PAN INDIA\\nExp : 3 - 7 Years\\n\\nMinimum 3 year of experience in being Applied Machine Learning Engineer role\\nResearch, develop, and implement prediction, optimization, and analytics tools.\\nDocument and communicate methodology and results to technical and non-technical audiences\\nGuide and implement best practices of curated data and evaluate ML models on large-scale data\\nLead design and implementation of Machine Learning algorithms, combining with rule-based optimization to deliver significant improvement in\\nproduct metrics\\nWrite production ready high quality, maintainable and scalable code.\\nDesign and analyze metrics to verify model and algorithm effectiveness.\\nExperience with data analysis languages such as Python or Scala\\nExperience with Machine Learning tools (Azure ML, SageMaker, TensorFlow, Kubernetes, etc.)\\nExperience with Machine Learning Languages (R, Python, .Net Core, etc.)\\n\\nRoleProduct Manager\\nIndustry TypeIT Services & Consulting\\nFunctional AreaIT Software - Application Programming, Maintenance\\nEmployment TypeFull Time, Permanent\\nRole CategoryProgramming & Design\\nEducation\\nUG :Any Graduate\\nKey Skills\\nData ScienceMachine LearningPython\\nTensorflowAlgorithmsSCALAData AnalysisAnalyticsKubernetes\\nSkills highlighted with ‘‘ are preferred keyskills',\n",
       " '-',\n",
       " 'Job description\\nUse predictive modeling to increase and optimize customer experiences, revenue generation, campaign optimization and other business outcomes\\nWork with product management to develop data use cases and embed predictive models in workflows on resource constrained platforms and cloud enabled.\\nSelecting features, building and optimizing classifiers using machine learning and deep learning techniques\\nCollaborates with Data Engineers to enhance data collection and ingestion/curation techniques to include information that is relevant for building analytic systems\\nProcessing, cleansing, and verifying the integrity of data used for analysis\\nDevelop processes and tools to monitor and analyze model performance and data accuracy. Life cycle management of predictive models.\\nAdherence to compliance procedures in accordance with regulatory standards, requirements, and policies. Managing and designing the reporting environment, including data sources security, and metadata.\\nJob Qualifications:\\nMaster s degree or PhD in Computer Science, Information management, Statistics or related field, with 3 to 5 years of experience in the Consumer or Healthcare industry manipulating data sets and building predictive models with focus on product development\\nExperience in statistical modelling, machine learning, data mining, unstructured data analytics and natural language processing. Sound understanding of - Bayesian Modelling, Classification Models, Cluster Analysis, Neural Network, Nonparametric Methods, Multivariate Statistics, etc.\\nStrong hands on knowledge of ML techniques like regression algorithms, K-NN, Na ve Bayes, SVM and ensemble techniques like Random forest, AdaBoost etc\\nHaving strong knowledge in unsupervised learning algorithms using Neural networks and Deep-Learning\\nStrong knowledge in Data Wrangling and Exploration techniques to identify the patterns, trends and outliners.\\nDeep knowledge and practical experience with data science toolkits, such as NumPy, Pandas, scikit-learn or equivalent\\nExperience with data visualization tools, such as QlikView, Matplotlib, seaborn or equivalent tools.\\nProficiency in using query languages, such as SQL, PL/SQL\\nHands on experience in the one or more databases like Hadoop, AWS Redshift, Snowflake etc.\\nGood applied statistics skills, such as distributions, statistical testing, regression, etc.\\nGood ETL scripting and programming skills, such as Python, R or Scala to integrate developed solution into the proposition.\\nA team player capable of working and integrating across cross-functional team for implementing project requirements. Experience in technical requirements gathering and documentation.\\nAbility to work effectively and independently in a fast-paced global collaborative agile team environment with tight deadlines\\nA flexible, pragmatic and collaborative team player with innate ability to engage with stakeholders at all levels in the organization.\\nA self-starter with high levels of drive, energy, resilience and a desire for professional excellence with a passion for data and data science\\nRoleClinical Research Associate/Scientist\\nIndustry TypeMedical Services / Hospital\\nFunctional AreaMedical, Healthcare, R&D, Pharmaceuticals, Biotechnology\\nEmployment TypeFull Time, Permanent\\nRole CategoryR&D\\nEducation\\nUG :Any Graduate\\nPG :Post Graduation Not Required\\nKey Skills\\nProduct managementComputer sciencemetadataMachine learningAgilePLSQLHealthcareQlikViewData miningPython',\n",
       " 'Job description\\n  The Automotive Supply Chain and Technology team at IHS Markit is in search of a Data Scientist to support New Product Development and global teams ongoing research and analysis efforts. The research team produces granular forecast dataset and written analyses on the supply chain of parts supplied to automakers with technology, supplier and logistic information. The team generate forecasts on technology trends through multiple research channels and by using many connected and disconnected data sources to drive the forecast.\\nThe position covers an array of critical data-centric activities aimed at enhancing the efficiency of our 70+ strong research team, sustaining the increasing data complexity and most importantly supporting new product development at one of IHS Markits fastest growing product lines. The position is based in Gurgaon or Bangalore, India and reports to our Regional Head of operations in India.\\nResponsibilities and duties\\nUnderstanding business requirements to create maintainable workflows e.g. inbound/input data from analysts and external sources to feed a set of interconnected data sets and calculations\\nData wrangling and data mining to support product innovation and model creation\\nETL process design, implementation, maintenance and documentation for large inter-connected data sets\\nData cleaning and manipulation of raw data\\nCreation of logical and physical data models\\nUtilize existing database infrastructures as well as building new DB infrastructures as required\\nData acquisition exploration\\nCreate and maintain detailed documentation of workflows\\nHarness machine learning and statistical modelling with a view to enhance automation, reduce manual data interaction from research team and develop new insightful products\\nIdentifying, assembling, and enriching a wide range of structured and unstructured data to support new automotive forecasts and analysis.\\nCreation of logical and physical data models (including creation of workflows in data science platforms such as KNIME)\\nQualifications and skills\\n3+ years experience as a data scientist\\nAt minimum, a degree in computer science, computer engineering or a related quantitative field with proven work experience in the data engineering/scientist field\\nProven experience with SQL and NoSQL databases like Oracle DB, SQL Server, Cassandra, MongoDB, MySQL, Hadoop, Spark, AWS (EC2 and S3)\\nProven experience with one or more programming/scripting languages (e.g. Python, C++, R, Matlab, Scala).\\nFamiliar with techniques to manage large databases, including partitioning, compression and indexes as well as data mining\\nAbility to build models (e.g. Linear regression, logistic, Markov models) and use one or more machine learning library/frameworks (e.g. Scikit-learn) with a view to solve complex high dimensional data\\nKnowledge of OLAP and ETL processes\\nFamiliarity with data science platforms such as KNIME is a bonus\\nKnowledge of API creation and maintenance\\nEstablished MS Office skills (including VBA and Access) , O365 desirable\\nGood communication skills, collaborative team spirit, curiosity to constantly keep thinking of unique approaches and solutions.\\nAbility to work independently.\\nExperience committing to deadlines whilst multi-tasking\\nRoleHead/VP/GM-Quality\\nIndustry TypeIT Services & Consulting\\nFunctional AreaIT Software - Application Programming, Maintenance\\nEmployment TypeFull Time, Permanent\\nRole CategorySenior Management\\nEducation\\nUG :Any Graduate\\nPG :Any Postgraduate\\nKey Skills\\nSupply chainProcess designComputer scienceC++AutomationMySQLMS OfficeOracleData miningSQL',\n",
       " 'Job description\\n  Engage with Analytics Business Partners (ABP) and customers to understand the problem statement, required data and analytics insights to solve a given business problem.\\nPerform ETL, data cleansing and feature engineering to prepare data required for Rapid Learning Cycle (RLC) projects.\\nPerform EDA and work with SMEs to establish data understanding and address data quality issues.\\nPartner with other data scientists in AAO and Asia factories to build advanced statistical, AI and ML models that are congruent with the problem being solved and optimize for performance.\\nWork closely with ML Engineers and Solution Architects in AAO to seamlessly operationalize models developed from RLC to Pilot to Production.\\nPresent findings recommendations to project stakeholders.\\nBe up to date on latest technological advancements in AI/ML space through self-learning, literature research, relevant conferences etc.\\nProvide input to technical direction of AAO Data Science teams.\\nProactively network with other data scientists and analytics professionals in WDC India to identify collaboration opportunities.\\nPreferred Qualifications:\\nBS/MS/PhD in a quantitative discipline (e.g., Computer Science, Data Science, Applied Sciences or Engineering).\\nBS 5+ years or MS 4+ years or PhD 1+ year of experience in an analytics function.\\nPrior experience in developing advanced analytics solutions to business problems.\\nStrong theoretical understanding hands-on experience in statistical data analysis, AI ML techniques (e.g., supervised and unsupervised modeling, Deep Learning, CNN, NLP, Time-series analysis) and common data analytics tools (e.g., Python, R, Tensorflow etc).\\nExperience with Database Technologies (SQL, NoSQL), Big Data Technologies (Hadoop, Hive, Spark) and Cloud Technologies (AWS, GCP).\\nAbility to work independently and with team members from different backgrounds.\\nAbility to present complex data and analytics insights in the most effective ways and communicate a compelling story.\\nStrong problem solving and critical thinking skills.\\nPositive attitude towards learning on-the-job and strive in a rapidly changing environment.\\n\\nRoleBio/Pharma Informatics-Associate/Scientist\\nIndustry TypeElectronic Components / Semiconductors\\nFunctional AreaMedical, Healthcare, R&D, Pharmaceuticals, Biotechnology\\nEmployment TypeFull Time, Permanent\\nRole CategoryR&D\\nEducation\\nUG :Any Graduate\\nPG :Any Postgraduate\\nKey Skills\\nData ScienceNlpData ScientistAdvanced AnalyticsOperations ResearchBig DataData AnalyticsSupply ChainDeep LearningPython',\n",
       " 'Job description\\nMentor junior teammates in developing clean, optimized python code.\\nDrive project deliverables, architecture design and code design.\\nMulti-task on multiple projects from different groups.\\nCommunicate project timelines in an agile work environment.\\nGather requirements from multiple stakeholders and prioritize.\\nCreate Python flows\\nWhat You Need for this Position\\nYou should have knowledge of:\\nPython\\nLinear\\nSQL / NoSQL\\nRegression models\\nRoleSoftware Developer\\nIndustry TypeRecruitment / Staffing\\nFunctional AreaIT Software - Application Programming, Maintenance\\nEmployment TypeFull Time, Permanent\\nRole CategoryProgramming & Design\\nEducation\\nUG :B.Sc in Chemistry\\nPG :MS/M.Sc(Science) in Chemistry\\nKey Skills\\nNosqlKey SkillsData ScientistAgilePythonSql',\n",
       " 'Job description\\nThe Data Engineer is responsible for supporting Snaplogic ETL, AWS Redshift, RDS, and Aurora environments, exploring performance improvement opportunities, and troubleshooting data ingestion and user queries issues. This individual will perform typical database administrative tasks such as managing user accounts, monitoring system capacity usage and performance, balancing system workload, identifying root cause of issues raised by users and provide solution proposals, as well as supporting and enhancing data ingestion processes developed by other development teams.\\nThis individual will work with business users to identify performance improvement opportunities and implement them in the order based upon urgency and priority. In addition, this individual will identify data integration, ETL and quality issues, investigate issues identified by others, research and implement solutions to correct problems (at the source where possible), collaborate with developers to correct historical data, develop reports and monitoring programs, and execute data integration initiatives.\\nJob Responsibilities:\\nManage user accounts and security in the Redshift, RDS, and Aurora environments\\nMonitor and manage system workloads in order to keep all the systems running smoothly and minimize bottlenecks.\\nConfigure system connections between data sources and targets.\\nAssist users in debugging query failure issues and data quality problems\\nAnalyze objects such as tables and views designed and deployed by the development teams and users, provide best practice solution proposals\\nAnalyze queries from users, identify performance improvement opportunities, and assist users to improve performance\\nAnalyze and manage disk space usages by users, and provide best practice to development teams and business users\\nMaintain, modify and enhance data ingestion processes per development teams request\\nDevelop and deploy data load processes per business users request, including tables, views, and data load ETL pipelines design and development\\nCreate native connections between Redshift, RDS, and Aurora\\nDevelop and maintain metrics programs to monitor system usages and performance\\nManage data Redshift archiving processes\\nDevelop Redshift Spectrum objects\\nSupport Engineering and Manufacturing Datawarehouse and related data systems and initiatives\\nSolve moderate to complex data quality/ data integration problems\\nRecognize and investigate anomalies and propose solutions\\nResearch and recommend innovative, and where possible automated, approaches for data issues\\nMonitor ETL pipelines, troubleshoot and address any issues.\\nLiaison with business users and Subject matter Experts to find permanent solution to recurring issues.\\nWork closely with managed service providers in streamlining production support processes.\\nRequired Qualifications:\\nBachelor s degree in computer science, Information Systems, (or a related field) or a minimum of seven years of relevant professional experience and training\\n7 to 9 years Data Engineer or Support Engineer roles\\n3+ year AWS Redshift experience\\n2+ year experience in performance tuning and optimization of any SQL databases\\n3+ year supporting ETL packaged software like Informatica or SnapLogic\\nFamiliarity with concept of and experiences in performance tuning approaches related to MPP databases\\nProficient in SQL\\nExperiences in data modeling, including logical and physical design, normalization and denormalization\\nExpertise in performance tuning in one or more RDBMS such as Postgres, MySQL, Oracle, DB2, MS SQL, etc.\\nExperiences in programing tools such as Linux shell scripting, Python, Java, etc.\\nExperiences in analysis, Design, Development and Implementation of ETL and exposure to any commercial ETL tools (Snaplogic, Informatica, Alteryx, Matillion) and reporting (Tableau, Spotfire) tools will be an advantage but not mandatory.\\nEffectively and efficiently work with an enterprise environment involving very large data sets - millions of records in both databases and flat files\\nExperienced in requirements analysis, design, and development in the data Management application areas\\nResponsible for working with cross-functional and cross-organizational teams to understand issues, implement solutions, and influence others to implement solutions\\nAble to be comfortable in a fast-paced environment with constantly shifting priorities and a mix of quick hit, short, medium and long-term projects of varying priorities\\nHigh-tech, or manufacturing industry experience preferred but not required\\nExcellent communication, facilitation, and interpersonal relations skills required\\nRoleDBA\\nIndustry TypeElectronic Components / Semiconductors\\nFunctional AreaIT Software - Application Programming, Maintenance\\nEmployment TypeFull Time, Permanent\\nRole CategoryAdmin/Maintenance/Security/Datawarehousing\\nEducation\\nUG :Any Graduate\\nPG :Any Postgraduate\\nKey Skills\\nJavaEtl ToolsShell ScriptingData ManagementData ModelingInformaticaPerformance TuningMs SqlPythonData Integration',\n",
       " '-',\n",
       " 'Job description\\nAs a Senior Data Scientist for Walmart, you ll have the opportunity to:\\nDrive data-derived insights across a wide range of divisions by developing advanced statistical models, machine learning algorithms and computational algorithms based on business initiatives\\nDirect the gathering of data, assessing data validity and synthesizing data into large analytics datasets to support project goals\\nUtilize big data analytics and advanced data science techniques to identify trends, patterns, and discrepancies in data. Determine additional data needed to support insights\\nBuild and train statistical models and machine learning algorithms\\nApply your semantic, natural language processing and understanding expertise where required\\nUse deep learning and image recognition project goals\\nComputer Vision will be an important focus area for this role\\nProductionize the models and make those available at scale\\nBuild and maintain end to end Machine Learning pipelines\\nBe comfortable with ambiguity and uncertainty and the eagerness to change the world in a huge way by being a self-motivated learner and builder\\nCommunicate recommendations to business partners and influencing future plans based on insights\\nYour Responsibility\\nPlay a key role to solve complex problems, pivotal to Walmart s business and drive actionable insights from petabytes of data\\nUtilize product mindset to build, scale and deploy holistic data science products after successful prototyping\\nDemonstrate incremental solution approach with agile and flexible ability to overcome practical problems\\nPartner with senior team members to assess customer needs and define business questions\\nClearly articulate and present recommendations to business partners, and influence future plans based on insights\\nWork with customer centric mindset to deliver high quality business driven analytic solution\\nDrive innovation in approach, method, practices, process, outcome, delivery, or any component of end-to-end problem solving\\nDemonstrates up-to-date expertise and applies this to the development, execution, and improvement of action plans\\nPreferred Qualifications\\nBachelors degree in Statistics, Mathematics, Computer Science or a related field and 8 years experience in an analytics/DS related field, or,\\nMasters degree in Statistics, Mathematics, Computer Science or a related field and 6 years experience in an analytics/DS related field.\\nHigh proficiency in data mining, modeling, validation and insight generation.\\nExcellent working knowledge of statistics, mathematics, machine learning, data mining, deep learning\\nHigh proficiency in coding including Python and SQL\\nExperience with databases (for example, DB2, Oracle, SQL Server)\\nExperience with Big Data technologies such as Pig, Hive and/or Spark\\nAbility to work with large data sets. Has sound understanding of big data technology stack\\nUnderstanding of cloud computing platforms and large-scale databases\\nProven ability to collaborate and work in teams\\nExcellent with communications and stakeholder engagement\\nData science publications in recognized platforms/journals\\nProven ability to work in agile mode on data science sprint projects\\nRoleDatabase Architect/Designer\\nIndustry TypeIT Services & Consulting\\nFunctional AreaIT Software - DBA, Datawarehousing\\nEmployment TypeFull Time, Permanent\\nRole CategoryProgramming & Design\\nEducation\\nUG :Any Graduate\\nPG :Any Postgraduate\\nKey Skills\\nProcurementComputer scienceCloud computingData analysisdata scienceDb2CodingAgileData miningPython',\n",
       " '-',\n",
       " '-',\n",
       " '-',\n",
       " 'Job description\\n  Skills\\nRequired Skills: Data Science, Machine Learning, Deep Learning, Python, NLP\\nDesired Skills: Computer Vision\\nRoles and responsibilities\\nExperience in Data Modelling, R, Python, SQL, Data Science, Machine Learning, Deep Learning, NLP, Statistics\\nHave ability to solve Business problems using Data\\nShould possess extensive knowledge of and experience in applying data mining and machine learning techniques on large amount of datasets\\nHigh level of proficiency in statistical tools like R, Python\\nCandidate will be expected to communicate analytical results in a way that is meaningful for business stakeholders and provides actionable insights.\\nHave the ability to discover new opportunities where advanced analytical techniques can be leveraged for solving business problems\\nGood to Have\\nExpertise in programming languages like Java/C/C /Python\\nExperience with relational databases and SQL is good to have\\nExperience in audio and video analytics\\nRelevant experience in Big Data platforms like Hadoop eco-system\\nCome up with innovative algorithms and solutions\\nStaffing Type:Permanent\\nRoleClinical Research Associate/Scientist\\nIndustry TypeIT Services & Consulting\\nFunctional AreaMedical, Healthcare, R&D, Pharmaceuticals, Biotechnology\\nEmployment TypeFull Time, Permanent\\nRole CategoryR&D\\nEducation\\nUG :Any Graduate\\nPG :Any Postgraduate\\nKey Skills\\nHospitalityNSEStaffingBfsiAnalyticalAgileData miningAnalyticsAutomotiveSQL',\n",
       " 'Job description\\nDesign, coordinate, and implement data driven business and technology solutions to support innovation initiatives\\nCommunicate complex models, analysis and recommendations in a clear and precise manner\\nProvide thought leadership in statistical modeling and machine learning/ AI. NLP and Deep Learning are the two focus areas\\nDeliver actionable insights to stakeholders through rich visualization and presentation\\nManage priorities between research and deliverables effectively\\nCollaborate actively with topic owners to understand and develop advanced analytics / data science\\nYour Qualifications\\nBachelor s degree in Engineering / Analytics or Master s Degree in Statistics/Computer Applications/ IT/Analytics /any discipline related to Data Science / Analytics.\\n7 years of progressive experience in Machine learning/Deep learning preferably working with packages like NLTK, BERT, ELMo etc\\nFluent in Python and have experience with NLP libraries like , Spacy, Genism, Glove, doc2vec etc.\\nExposure to Microsoft LUIS will be preferred\\nPossess advanced knowledge of the HuggingFace libraries and concepts like tokens, tokenization, stemming, lemmatization, regex.\\nSolid command on statistics and ability to connect theory and practice of data mining, machine learning to solve real-world use case\\nl Strong working knowledge of Python (BERT, GPT, genism, SpaCy, tensorflow, Theano, PyTorch, SciPy, scikit-learn, pandas), SQL, Unix (awk, sed, bash) for data wrangling, data analysis, modeling.\\nKnowledgeable in Natural Language processing (NLP) and quantitative analysis\\nPrevious experience building chatbots for Customer Service / specific business verticals (Bonus)\\nInteresting side projects or Kaggle competition results (Bonus)\\nExcellent critical thinking ability, result orientation and project management skills\\nSound verbal and written communication skills\\nRoleSystem Analyst\\nIndustry TypeIT Services & Consulting\\nFunctional AreaIT Software - DBA, Datawarehousing\\nEmployment TypeFull Time, Permanent\\nRole CategoryProgramming & Design\\nEducation\\nUG :B.Tech/B.E. in Production/Industrial\\nPG :M.Tech in Production/Industrial\\nKey Skills\\nUnixData analysisMachine learningCustomer supportCustomer serviceData miningmicrosoftAnalyticsSQLPython',\n",
       " 'Job description\\nPosition Responsibilities\\no Solve business problems by applying advanced Machine Learning algorithms and complex statistical models on large volumes of data.\\no Build, scale and deploy holistic data science products after successful prototyping.\\no Clearly articulate and present recommendations to business partners, and influence future plans based on insights.\\no Follow industry best practices, stay up to date with the state of the art in machine learning research and practice, drive innovation by contributing to the latest applied research in data science through publications and patents.\\no Promote and support company policies, procedures, mission, values, and standards of ethics and integrity.\\nPosition Requirements\\no Deep knowledge of the foundations of machine learning and statistics - can easily understand and implement a machine learning research paper.\\no Solid experience working with state-of-the-art supervised and unsupervised machine learning algorithms on real-world problems, preferably in ecommerce domain.\\no Strong Python coding skills and able to work with at least one other programming language such as Java/Scala.\\no Ability to work in a big data ecosystem - expert in SQL/Hive and ability to work with Spark.\\no Strong ability to understand the business and good stakeholder management capabilities.\\nQualifications\\no PhD with > 2 years of experience / 4-year bachelor s degree with > 7 years of experience / Master s degree with > 5 years of experience. Educational qualifications should be preferably in Computer Science or a related area. Experience should be relevant to the role.\\nGood to have:\\no Experience in ecommerce domain.\\no Demonstrated success in data science platforms like Kaggle.\\nRoleTeam Lead/Technical Lead\\nIndustry TypeIT Services & Consulting\\nFunctional AreaIT Software - Other\\nEmployment TypeFull Time, Permanent\\nRole CategoryProgramming & Design\\nEducation\\nUG :Any Graduate\\nPG :Any Postgraduate\\nKey Skills\\nComputer sciencedata scienceCodingMachine learningSCALAE-commerceStakeholder managementAnalyticsSQLPython',\n",
       " 'Job description\\nHello,\\nWe are hiring on behalf of one of the largest BPO/ Consulting services.\\nThe skills rquired are Natural Language Processing, Python, Data Science and Machine Learning.\\n\\nTitle: Manager / Sr. Manager\\nLocation:Bangalore , Gurugram, Mumbai\\nDuration : Fulltime\\nMax Notice:1 Month\\nRoleHead/VP/GM - Analytics & BI\\nIndustry TypeRecruitment / Staffing\\nFunctional AreaAnalytics & Business Intelligence\\nEmployment TypeFull Time, Permanent\\nRole CategorySenior Management\\nEducation\\nUG :Any Graduate\\nPG :Any Postgraduate\\nDoctorate :Any Doctorate\\nKey Skills\\nData ScienceNatural Language ProcessingMachine LearningPython',\n",
       " 'Job description\\n\\nCRISIL (formerly Credit Rating Information Services of India Limited) is an Indian analytical company providing ratings, research, and risk and policy advisory services and is a subsidiary of American company S&P Global\\n\\nWe are looking Data Scientist for Mumbai & Bangalore location\\nCandidates who can join immediately or within 30-45 need only apply\\n\\nPlease refer below JD for your reference-\\n\\nJob Description Data scientist:\\nClient oriented approach to problem solving. Individual should be able to have a holistic view of multiple businesses and develop analytic solutions accordingly.\\nOwn and deliver multiple and complex analytic projects. This would require an understanding of business context, conversion of business problems in modeling, and implementing such solutions to create business value.\\nAlways up to date with the latest use cases of modeling community, machine learning and deep learning algorithms and share knowledge within the team.\\nProficiency in basic statistics, hypothesis testing, segmentation and predictive modeling.\\nAbility to translate and articulate technical thoughts and ideas to a larger audience including influencing skills with peers and senior management.\\nStrong project management skills.\\nAbility to coach and mentor juniors.\\nEagerness to work on new and challenging tasks on a regular basis with an ability to research new ways of doing things better/efficiently.\\nContribute to organizational initiatives in wide ranging areas including competency development, training, organizational building activities etc.\\nSkills\\n\\nBasic Qualifications\\n\\nBachelors Degree with 2+ years of experience in data analytics,\\nHands-on experience in Python / SAS or R programing along with strong experience in SQL and Excel Macros.\\nExperienced in working with large and multiple datasets, data warehouses and ability to pull data using relevant programs and coding.\\nWell versed with necessary data preprocessing and feature engineering skills.\\nAt least 2 years of experience implementing Machine learning algorithms such as Random Forest and Gradient Boosting in solving business problems such as Default classification and macroeconomic forecasting.\\nAt least 1 year of experience implementing deep learning techniques like neural networks\\nExposure to deep learning packages like Tensorflow\\nStrong background in Statistical Analysis\\nBackground in BFSI space will be preferred\\n\\nRoleData Analyst\\nIndustry TypeBanking\\nFunctional AreaAnalytics & Business Intelligence\\nEmployment TypeFull Time, Permanent\\nRole CategoryAnalytics & BI\\nEducation\\nUG :Any Graduate\\nPG :Any Postgraduate\\nKey Skills\\nrMachine LearningPython\\nTensorflowPredictive ModelingSegmentationNeural NetworksDeep LearningRandom ForestSQL\\nSkills highlighted with ‘‘ are preferred keyskills',\n",
       " 'Job description\\nRequired Technical and Professional Expertise\\n• 6+ years of industry work experience in data scientist projects\\n• Master’s degree or higher in Statistics/Math/Computer Science or related field\\n• Background in applied statistical modeling on large experimental or observational data sets\\n• Experience extracting data from a variety of sources, and a desire to expand those skills (working knowledge SQL is required, Spark is a plus)\\n• Experience with one or more statistical or machine learning software such as R, Python, etc.\\n• Must showcase past work through published articles/GitHub/social media\\n\\nPreferred Technical and Professional Expertise\\n• Knowledge of distributed computing systems, e.g. Cosmos, Spark, Hadoop, and relational database management system\\n• PhD. in Statistics is preferred\\n• You love collaborative environments that use agile methodologies to encourage creative design thinking and find innovative ways to develop with cutting edge technologies\\n• Ambitious individual who can work under their own direction towards agreed targets/goals and with creative approach to work\\n• Intuitive individual with an ability to manage change and proven time management\\n• Proven interpersonal skills while contributing to team effort by accomplishing related results as needed\\nRoleData Analyst\\nIndustry TypeIT Services & Consulting\\nFunctional AreaAnalytics & Business Intelligence\\nEmployment TypeFull Time, Permanent\\nRole CategoryAnalytics & BI\\nEducation\\nUG :B.Sc in Maths, Statistics\\nPG :MS/M.Sc(Science) in Maths, Statistics\\nDoctorate :Doctorate Not Required\\nKey Skills\\nRData scienceData analyticsSQLPython',\n",
       " '-',\n",
       " 'Job description\\nJob Description:\\nMust have hands-on with Advance Excel.\\nMust be hands-on in SQL and Python.\\nShould have experience in data analysis, data mapping, data conversion\\nExperience in Reg reporting is good to have\\nHands-on experience in Python with a good understanding of the built-in data types especially lists, dictionaries, tuples, and sets\\nMastery of N-dimensional NumPy arrays- apply vectorized operations on data\\nMastery of pandas data frames.- create, manipulate, merge/join, reshape, aggregations, apply functions on a data frame, etc\\nAbility to write efficient list comprehensions instead of traditional for loops, regular expressions to clean and manipulate text data\\nAbility to write small, clean functions to clean strings, handle missing data\\nData visualization using Tableau/Power Bi, etc\\nFunctional knowledge of AI or ML concepts.\\n\\nDesired Candidate Profile:\\nGraduation degree in Mathematics/Computer Science/Economics/Statistics from a reputed university with 3 years of experience working as a Data Analyst or Business Analyst or handling a large set of data.\\nAre available to start immediately.\\nEntrepreneurial spirit with a can-do attitude.\\nAble to coordinate, organize, or directing multiple teams and departments\\nExcellent communicator in written and verbal form\\nExtremely versatile, dedicated to efficient productivity\\nExperience planning and leading strategic initiatives\\n\\nRoleData Analyst\\nIndustry TypeIT Services & Consulting\\nFunctional AreaAnalytics & Business Intelligence\\nEmployment TypeFull Time, Permanent\\nRole CategoryAnalytics & BI\\nEducation\\nUG :Any Graduate\\nPG :Any Postgraduate\\nKey Skills\\nPredictive ModelingTensorflowLogistic RegressionBusiness AnalyticsPower BiArtificial IntelligenceAlteryxNatural Language ProcessingAdvanced ExcelTableauMachine LearningNumpySQLPattern RecognitionRArtificial Neural NetworksOpencvData AnalyticsPython']"
      ]
     },
     "execution_count": 24,
     "metadata": {},
     "output_type": "execute_result"
    }
   ],
   "source": [
    "job_description = []\n",
    "\n",
    "for i in job_opening_urls:\n",
    "    driver.get(i)\n",
    "    # extracting job description\n",
    "    try:\n",
    "        job_desc = driver.find_element_by_xpath(\"//section[@class='job-desc']\")\n",
    "        job_description.append(job_desc.text)\n",
    "    except:\n",
    "        job_description.append('-')\n",
    "\n",
    "job_description"
   ]
  },
  {
   "cell_type": "code",
   "execution_count": 25,
   "metadata": {},
   "outputs": [
    {
     "data": {
      "text/html": [
       "<div>\n",
       "<style scoped>\n",
       "    .dataframe tbody tr th:only-of-type {\n",
       "        vertical-align: middle;\n",
       "    }\n",
       "\n",
       "    .dataframe tbody tr th {\n",
       "        vertical-align: top;\n",
       "    }\n",
       "\n",
       "    .dataframe thead th {\n",
       "        text-align: right;\n",
       "    }\n",
       "</style>\n",
       "<table border=\"1\" class=\"dataframe\">\n",
       "  <thead>\n",
       "    <tr style=\"text-align: right;\">\n",
       "      <th></th>\n",
       "      <th>Job Titles</th>\n",
       "      <th>Company</th>\n",
       "      <th>Location</th>\n",
       "      <th>Job Description</th>\n",
       "    </tr>\n",
       "  </thead>\n",
       "  <tbody>\n",
       "    <tr>\n",
       "      <th>0</th>\n",
       "      <td>Hiring For Data Scientist</td>\n",
       "      <td>Tata Consultancy Services Ltd.</td>\n",
       "      <td>Chennai, Bangalore/Bengaluru, Mumbai (All Areas)</td>\n",
       "      <td>Job description\\nMinumum 3 years of experience...</td>\n",
       "    </tr>\n",
       "    <tr>\n",
       "      <th>1</th>\n",
       "      <td>Lead Data Scientist BFSI</td>\n",
       "      <td>IBM India Pvt. Limited</td>\n",
       "      <td>Bengaluru/Bangalore</td>\n",
       "      <td>-</td>\n",
       "    </tr>\n",
       "    <tr>\n",
       "      <th>2</th>\n",
       "      <td>Associate Data Scientist</td>\n",
       "      <td>Philips India Limited</td>\n",
       "      <td>Bangalore/Bengaluru</td>\n",
       "      <td>Job description\\nUse predictive modeling to in...</td>\n",
       "    </tr>\n",
       "    <tr>\n",
       "      <th>3</th>\n",
       "      <td>Data Scientist</td>\n",
       "      <td>IHS Markit</td>\n",
       "      <td>Bangalore/Bengaluru</td>\n",
       "      <td>Job description\\n  The Automotive Supply Chain...</td>\n",
       "    </tr>\n",
       "    <tr>\n",
       "      <th>4</th>\n",
       "      <td>Data Scientist 3</td>\n",
       "      <td>Western Digital</td>\n",
       "      <td>Bangalore/Bengaluru</td>\n",
       "      <td>Job description\\n  Engage with Analytics Busin...</td>\n",
       "    </tr>\n",
       "    <tr>\n",
       "      <th>5</th>\n",
       "      <td>Data scientist</td>\n",
       "      <td>Bloom Consulting Services, Inc.</td>\n",
       "      <td>United States (USA), Bangalore/Bengaluru</td>\n",
       "      <td>Job description\\nMentor junior teammates in de...</td>\n",
       "    </tr>\n",
       "    <tr>\n",
       "      <th>6</th>\n",
       "      <td>Data Scientist 4</td>\n",
       "      <td>Western Digital</td>\n",
       "      <td>Bangalore/Bengaluru</td>\n",
       "      <td>Job description\\nThe Data Engineer is responsi...</td>\n",
       "    </tr>\n",
       "    <tr>\n",
       "      <th>7</th>\n",
       "      <td>Data Scientist: Advanced Analytics</td>\n",
       "      <td>IBM India Pvt. Limited</td>\n",
       "      <td>Bengaluru/Bangalore</td>\n",
       "      <td>-</td>\n",
       "    </tr>\n",
       "    <tr>\n",
       "      <th>8</th>\n",
       "      <td>Senior Data Scientist</td>\n",
       "      <td>Walmart Labs</td>\n",
       "      <td>Bangalore/Bengaluru</td>\n",
       "      <td>Job description\\nAs a Senior Data Scientist fo...</td>\n",
       "    </tr>\n",
       "    <tr>\n",
       "      <th>9</th>\n",
       "      <td>Senior Data Scientist</td>\n",
       "      <td>Airbnb</td>\n",
       "      <td>Bangalore/Bengaluru</td>\n",
       "      <td>-</td>\n",
       "    </tr>\n",
       "  </tbody>\n",
       "</table>\n",
       "</div>"
      ],
      "text/plain": [
       "                           Job Titles                          Company  \\\n",
       "0           Hiring For Data Scientist   Tata Consultancy Services Ltd.   \n",
       "1            Lead Data Scientist BFSI           IBM India Pvt. Limited   \n",
       "2            Associate Data Scientist            Philips India Limited   \n",
       "3                      Data Scientist                       IHS Markit   \n",
       "4                    Data Scientist 3                  Western Digital   \n",
       "5                      Data scientist  Bloom Consulting Services, Inc.   \n",
       "6                    Data Scientist 4                  Western Digital   \n",
       "7  Data Scientist: Advanced Analytics           IBM India Pvt. Limited   \n",
       "8               Senior Data Scientist                     Walmart Labs   \n",
       "9               Senior Data Scientist                           Airbnb   \n",
       "\n",
       "                                           Location  \\\n",
       "0  Chennai, Bangalore/Bengaluru, Mumbai (All Areas)   \n",
       "1                               Bengaluru/Bangalore   \n",
       "2                               Bangalore/Bengaluru   \n",
       "3                               Bangalore/Bengaluru   \n",
       "4                               Bangalore/Bengaluru   \n",
       "5          United States (USA), Bangalore/Bengaluru   \n",
       "6                               Bangalore/Bengaluru   \n",
       "7                               Bengaluru/Bangalore   \n",
       "8                               Bangalore/Bengaluru   \n",
       "9                               Bangalore/Bengaluru   \n",
       "\n",
       "                                     Job Description  \n",
       "0  Job description\\nMinumum 3 years of experience...  \n",
       "1                                                  -  \n",
       "2  Job description\\nUse predictive modeling to in...  \n",
       "3  Job description\\n  The Automotive Supply Chain...  \n",
       "4  Job description\\n  Engage with Analytics Busin...  \n",
       "5  Job description\\nMentor junior teammates in de...  \n",
       "6  Job description\\nThe Data Engineer is responsi...  \n",
       "7                                                  -  \n",
       "8  Job description\\nAs a Senior Data Scientist fo...  \n",
       "9                                                  -  "
      ]
     },
     "execution_count": 25,
     "metadata": {},
     "output_type": "execute_result"
    }
   ],
   "source": [
    "job_details=pd.DataFrame({})\n",
    "job_details['Job Titles']=job_titles\n",
    "job_details['Company']=comp_name\n",
    "job_details['Location']=job_loc \n",
    "job_details['Job Description']=job_description\n",
    "job_details.head(10)"
   ]
  },
  {
   "cell_type": "markdown",
   "metadata": {},
   "source": [
    "# Q3"
   ]
  },
  {
   "cell_type": "code",
   "execution_count": 26,
   "metadata": {},
   "outputs": [],
   "source": [
    "# connect to webdriver\n",
    "options = webdriver.ChromeOptions()\n",
    "options.add_argument(\"start-maximized\")\n",
    "driver = uc.Chrome(executable_path='chromedriver.exe', options=options)"
   ]
  },
  {
   "cell_type": "code",
   "execution_count": 27,
   "metadata": {},
   "outputs": [],
   "source": [
    "url = 'https://www.naukri.com/'\n",
    "driver.get(url)"
   ]
  },
  {
   "cell_type": "code",
   "execution_count": 28,
   "metadata": {},
   "outputs": [
    {
     "name": "stderr",
     "output_type": "stream",
     "text": [
      "C:\\Users\\jameel\\anaconda3\\lib\\site-packages\\selenium\\webdriver\\remote\\webdriver.py:443: UserWarning: find_element_by_* commands are deprecated. Please use find_element() instead\n",
      "  warnings.warn(\"find_element_by_* commands are deprecated. Please use find_element() instead\")\n"
     ]
    },
    {
     "data": {
      "text/plain": [
       "<selenium.webdriver.remote.webelement.WebElement (session=\"74c82df2dd7cb4667c6962b88bb6a505\", element=\"ab4af914-6429-4f0e-9876-0e8038675477\")>"
      ]
     },
     "execution_count": 28,
     "metadata": {},
     "output_type": "execute_result"
    }
   ],
   "source": [
    "search_job = driver.find_element_by_id(\"qsb-keyword-sugg\")\n",
    "search_job"
   ]
  },
  {
   "cell_type": "code",
   "execution_count": 29,
   "metadata": {},
   "outputs": [],
   "source": [
    "search_job.send_keys(\"Data Scientist\")"
   ]
  },
  {
   "cell_type": "code",
   "execution_count": 30,
   "metadata": {},
   "outputs": [
    {
     "name": "stderr",
     "output_type": "stream",
     "text": [
      "C:\\Users\\jameel\\anaconda3\\lib\\site-packages\\selenium\\webdriver\\remote\\webdriver.py:483: UserWarning: find_element_by_* commands are deprecated. Please use find_element() instead\n",
      "  warnings.warn(\"find_element_by_* commands are deprecated. Please use find_element() instead\")\n"
     ]
    },
    {
     "data": {
      "text/plain": [
       "<selenium.webdriver.remote.webelement.WebElement (session=\"74c82df2dd7cb4667c6962b88bb6a505\", element=\"879bbce9-3a54-405b-b868-006f56f1c516\")>"
      ]
     },
     "execution_count": 30,
     "metadata": {},
     "output_type": "execute_result"
    }
   ],
   "source": [
    "search_btn = driver.find_element_by_xpath(\"//button[@class='btn']\")\n",
    "search_btn"
   ]
  },
  {
   "cell_type": "code",
   "execution_count": 31,
   "metadata": {},
   "outputs": [],
   "source": [
    "search_btn.click()"
   ]
  },
  {
   "cell_type": "code",
   "execution_count": 32,
   "metadata": {},
   "outputs": [],
   "source": [
    "search_loc = driver.find_element_by_xpath(\"//span[@title='Delhi / NCR']\")\n",
    "\n",
    "search_loc.click()"
   ]
  },
  {
   "cell_type": "code",
   "execution_count": 33,
   "metadata": {},
   "outputs": [],
   "source": [
    "search_sal = driver.find_element_by_xpath(\"//span[@title='3-6 Lakhs']\")\n",
    "\n",
    "search_sal.click()"
   ]
  },
  {
   "cell_type": "code",
   "execution_count": 34,
   "metadata": {},
   "outputs": [
    {
     "name": "stderr",
     "output_type": "stream",
     "text": [
      "C:\\Users\\jameel\\anaconda3\\lib\\site-packages\\selenium\\webdriver\\remote\\webdriver.py:502: UserWarning: find_elements_by_* commands are deprecated. Please use find_elements() instead\n",
      "  warnings.warn(\"find_elements_by_* commands are deprecated. Please use find_elements() instead\")\n"
     ]
    }
   ],
   "source": [
    "titles_tags = driver.find_elements_by_xpath(\"//a[@class='title fw500 ellipsis']\")\n",
    "\n",
    "job_titles = [] #empty list\n",
    "for i in titles_tags:\n",
    "    job_titles.append(i.text)\n"
   ]
  },
  {
   "cell_type": "code",
   "execution_count": 35,
   "metadata": {},
   "outputs": [],
   "source": [
    "company_name = driver.find_elements_by_xpath(\"//a[@class='subTitle ellipsis fleft']\")\n",
    "\n",
    "comp_name = [] #empty list\n",
    "for i in company_name:\n",
    "    comp_name.append(i.text)\n"
   ]
  },
  {
   "cell_type": "code",
   "execution_count": 36,
   "metadata": {},
   "outputs": [],
   "source": [
    "exp_tags = driver.find_elements_by_xpath(\"//li[@class='fleft grey-text br2 placeHolderLi experience']//span\")\n",
    "\n",
    "job_experience = [] #empty list\n",
    "for i in exp_tags:\n",
    "    job_experience.append(i.text)\n"
   ]
  },
  {
   "cell_type": "code",
   "execution_count": 37,
   "metadata": {},
   "outputs": [],
   "source": [
    "job_location = driver.find_elements_by_xpath(\"//li[@class='fleft grey-text br2 placeHolderLi location']//span[1]\")\n",
    "\n",
    "job_loc = [] #empty list\n",
    "for i in job_location:\n",
    "    job_loc.append(i.text)\n",
    "    "
   ]
  },
  {
   "cell_type": "code",
   "execution_count": 38,
   "metadata": {},
   "outputs": [
    {
     "data": {
      "text/html": [
       "<div>\n",
       "<style scoped>\n",
       "    .dataframe tbody tr th:only-of-type {\n",
       "        vertical-align: middle;\n",
       "    }\n",
       "\n",
       "    .dataframe tbody tr th {\n",
       "        vertical-align: top;\n",
       "    }\n",
       "\n",
       "    .dataframe thead th {\n",
       "        text-align: right;\n",
       "    }\n",
       "</style>\n",
       "<table border=\"1\" class=\"dataframe\">\n",
       "  <thead>\n",
       "    <tr style=\"text-align: right;\">\n",
       "      <th></th>\n",
       "      <th>Job Titles</th>\n",
       "      <th>Company</th>\n",
       "      <th>Experience</th>\n",
       "      <th>Location</th>\n",
       "    </tr>\n",
       "  </thead>\n",
       "  <tbody>\n",
       "    <tr>\n",
       "      <th>0</th>\n",
       "      <td>Data Analyst/Data Scientist</td>\n",
       "      <td>Skillenable Fintech Private Limited</td>\n",
       "      <td>2-5 Yrs</td>\n",
       "      <td>Bangalore/Bengaluru, Delhi / NCR, Mumbai (All ...</td>\n",
       "    </tr>\n",
       "    <tr>\n",
       "      <th>1</th>\n",
       "      <td>Data Scientist/ Machine Learning Engineer</td>\n",
       "      <td>Creative Hands HR Consultancy</td>\n",
       "      <td>0-0 Yrs</td>\n",
       "      <td>Hyderabad/Secunderabad, Pune, Ahmedabad, Gurga...</td>\n",
       "    </tr>\n",
       "    <tr>\n",
       "      <th>2</th>\n",
       "      <td>Data Scientist - Insurance</td>\n",
       "      <td>Huquo Consulting Pvt. Ltd</td>\n",
       "      <td>2-7 Yrs</td>\n",
       "      <td>Noida, Gurgaon/Gurugram</td>\n",
       "    </tr>\n",
       "    <tr>\n",
       "      <th>3</th>\n",
       "      <td>Data Scientist / Data Analyst</td>\n",
       "      <td>CARS24</td>\n",
       "      <td>1-5 Yrs</td>\n",
       "      <td>Gurgaon/Gurugram</td>\n",
       "    </tr>\n",
       "    <tr>\n",
       "      <th>4</th>\n",
       "      <td>Only Fresher / Data Scientist / Data Analyst /...</td>\n",
       "      <td>GABA Consultancy services</td>\n",
       "      <td>0-0 Yrs</td>\n",
       "      <td>Noida, Gurgaon/Gurugram, Delhi / NCR</td>\n",
       "    </tr>\n",
       "    <tr>\n",
       "      <th>5</th>\n",
       "      <td>Data Scientist / Data Analyst / Business Analy...</td>\n",
       "      <td>GABA Consultancy services</td>\n",
       "      <td>0-0 Yrs</td>\n",
       "      <td>Noida, New Delhi, Gurgaon/Gurugram</td>\n",
       "    </tr>\n",
       "    <tr>\n",
       "      <th>6</th>\n",
       "      <td>Data Scientist</td>\n",
       "      <td>R Systems International Ltd.</td>\n",
       "      <td>3-6 Yrs</td>\n",
       "      <td>Noida</td>\n",
       "    </tr>\n",
       "    <tr>\n",
       "      <th>7</th>\n",
       "      <td>Data Scientist</td>\n",
       "      <td>PROCESS NINE TECHNOLOGIES PVT.LTD.</td>\n",
       "      <td>1-3 Yrs</td>\n",
       "      <td>Gurgaon/Gurugram</td>\n",
       "    </tr>\n",
       "    <tr>\n",
       "      <th>8</th>\n",
       "      <td>Data Scientist - WFH - MIND Infotech</td>\n",
       "      <td>MOTHERSONSUMI INFOTECH &amp; DESIGNS LIMITED</td>\n",
       "      <td>3-7 Yrs</td>\n",
       "      <td>Pune, Chennai, Bangalore/Bengaluru, Delhi / NC...</td>\n",
       "    </tr>\n",
       "    <tr>\n",
       "      <th>9</th>\n",
       "      <td>Junior Data Scientists &amp; Engineers</td>\n",
       "      <td>PY Consultancy</td>\n",
       "      <td>0-3 Yrs</td>\n",
       "      <td>New Delhi, Delhi / NCR</td>\n",
       "    </tr>\n",
       "  </tbody>\n",
       "</table>\n",
       "</div>"
      ],
      "text/plain": [
       "                                          Job Titles  \\\n",
       "0                        Data Analyst/Data Scientist   \n",
       "1          Data Scientist/ Machine Learning Engineer   \n",
       "2                         Data Scientist - Insurance   \n",
       "3                      Data Scientist / Data Analyst   \n",
       "4  Only Fresher / Data Scientist / Data Analyst /...   \n",
       "5  Data Scientist / Data Analyst / Business Analy...   \n",
       "6                                     Data Scientist   \n",
       "7                                     Data Scientist   \n",
       "8               Data Scientist - WFH - MIND Infotech   \n",
       "9                 Junior Data Scientists & Engineers   \n",
       "\n",
       "                                    Company Experience  \\\n",
       "0       Skillenable Fintech Private Limited    2-5 Yrs   \n",
       "1             Creative Hands HR Consultancy    0-0 Yrs   \n",
       "2                 Huquo Consulting Pvt. Ltd    2-7 Yrs   \n",
       "3                                    CARS24    1-5 Yrs   \n",
       "4                 GABA Consultancy services    0-0 Yrs   \n",
       "5                 GABA Consultancy services    0-0 Yrs   \n",
       "6              R Systems International Ltd.    3-6 Yrs   \n",
       "7        PROCESS NINE TECHNOLOGIES PVT.LTD.    1-3 Yrs   \n",
       "8  MOTHERSONSUMI INFOTECH & DESIGNS LIMITED    3-7 Yrs   \n",
       "9                            PY Consultancy    0-3 Yrs   \n",
       "\n",
       "                                            Location  \n",
       "0  Bangalore/Bengaluru, Delhi / NCR, Mumbai (All ...  \n",
       "1  Hyderabad/Secunderabad, Pune, Ahmedabad, Gurga...  \n",
       "2                            Noida, Gurgaon/Gurugram  \n",
       "3                                   Gurgaon/Gurugram  \n",
       "4               Noida, Gurgaon/Gurugram, Delhi / NCR  \n",
       "5                 Noida, New Delhi, Gurgaon/Gurugram  \n",
       "6                                              Noida  \n",
       "7                                   Gurgaon/Gurugram  \n",
       "8  Pune, Chennai, Bangalore/Bengaluru, Delhi / NC...  \n",
       "9                             New Delhi, Delhi / NCR  "
      ]
     },
     "execution_count": 38,
     "metadata": {},
     "output_type": "execute_result"
    }
   ],
   "source": [
    "# Make data frame \n",
    "job_details=pd.DataFrame({})\n",
    "job_details['Job Titles']=job_titles\n",
    "job_details['Company']=comp_name\n",
    "job_details['Experience']=job_experience\n",
    "job_details['Location']=job_loc \n",
    "job_details.head(10)"
   ]
  },
  {
   "cell_type": "markdown",
   "metadata": {},
   "source": [
    "# Q4"
   ]
  },
  {
   "cell_type": "code",
   "execution_count": 39,
   "metadata": {},
   "outputs": [],
   "source": [
    "# connect to webdriver\n",
    "options = webdriver.ChromeOptions()\n",
    "options.add_argument(\"start-maximized\")\n",
    "driver = uc.Chrome(executable_path='chromedriver.exe', options=options)"
   ]
  },
  {
   "cell_type": "code",
   "execution_count": 52,
   "metadata": {},
   "outputs": [],
   "source": [
    "url = 'https://www.glassdoor.co.in/index.htm'\n",
    "driver.get(url)"
   ]
  },
  {
   "cell_type": "code",
   "execution_count": 53,
   "metadata": {},
   "outputs": [
    {
     "data": {
      "text/plain": [
       "<selenium.webdriver.remote.webelement.WebElement (session=\"63e2f100b6b62f9176afabfaba500021\", element=\"665cbaa1-ecca-490f-a610-9345800dab23\")>"
      ]
     },
     "execution_count": 53,
     "metadata": {},
     "output_type": "execute_result"
    }
   ],
   "source": [
    "search_job = driver.find_element_by_xpath(\"//input[@name='sc.keyword']\")\n",
    "search_job"
   ]
  },
  {
   "cell_type": "code",
   "execution_count": 54,
   "metadata": {},
   "outputs": [],
   "source": [
    "search_job.send_keys(\"Data Scientist\")"
   ]
  },
  {
   "cell_type": "code",
   "execution_count": 55,
   "metadata": {},
   "outputs": [
    {
     "data": {
      "text/plain": [
       "<selenium.webdriver.remote.webelement.WebElement (session=\"63e2f100b6b62f9176afabfaba500021\", element=\"d3471e78-22c5-472f-ba7e-83463f2d5acb\")>"
      ]
     },
     "execution_count": 55,
     "metadata": {},
     "output_type": "execute_result"
    }
   ],
   "source": [
    "search_loc = driver.find_element_by_xpath(\"//input[@id='sc.location']\")\n",
    "search_loc"
   ]
  },
  {
   "cell_type": "code",
   "execution_count": 56,
   "metadata": {},
   "outputs": [],
   "source": [
    "search_loc.send_keys(\"Noida\")"
   ]
  },
  {
   "cell_type": "code",
   "execution_count": 57,
   "metadata": {},
   "outputs": [
    {
     "data": {
      "text/plain": [
       "<selenium.webdriver.remote.webelement.WebElement (session=\"63e2f100b6b62f9176afabfaba500021\", element=\"dc2137ea-b797-465b-9094-6cbe81813989\")>"
      ]
     },
     "execution_count": 57,
     "metadata": {},
     "output_type": "execute_result"
    }
   ],
   "source": [
    "search_btn = driver.find_element_by_xpath(\"//span[@class='css-8zxfjs']\")\n",
    "search_btn"
   ]
  },
  {
   "cell_type": "code",
   "execution_count": 58,
   "metadata": {},
   "outputs": [],
   "source": [
    "search_btn.click()"
   ]
  },
  {
   "cell_type": "code",
   "execution_count": 59,
   "metadata": {},
   "outputs": [
    {
     "data": {
      "text/plain": [
       "['AlgoScale Technologies Private Limited',\n",
       " 'Liberin Technologies Private Limited',\n",
       " 'Grail Insights',\n",
       " 'Noisy Lion',\n",
       " 'Lenskart',\n",
       " 'Salasar New Age Technologies',\n",
       " 'Grail Insights',\n",
       " 'IBM',\n",
       " 'Techlive',\n",
       " 'Ishatva Management Solutions',\n",
       " 'Emerging India Group',\n",
       " 'Newgen Software',\n",
       " 'Ericsson',\n",
       " 'Salasar New Age Technologies',\n",
       " 'NEC Opportunities',\n",
       " 'SearchUrCollege',\n",
       " 'Biz2Credit Inc',\n",
       " 'Crowe',\n",
       " 'WishFin',\n",
       " 'limeroad.com',\n",
       " '.Kreate',\n",
       " 'Saishaa Services',\n",
       " 'xtLytics',\n",
       " 'ING',\n",
       " 'CSTEP',\n",
       " 'Monotype',\n",
       " 'Badatya Private Limited',\n",
       " 'Emerging India Analytics',\n",
       " 'OneAssist Consumer Solutions Private Limited',\n",
       " 'Airtel India']"
      ]
     },
     "execution_count": 59,
     "metadata": {},
     "output_type": "execute_result"
    }
   ],
   "source": [
    "Comp_name = driver.find_elements_by_xpath(\"//a[@class=' job-search-key-l2wjgv e1n63ojh0 jobLink']\")\n",
    "\n",
    "company_name = [] #empty list\n",
    "for i in Comp_name:\n",
    "    company_name.append(i.text)\n",
    "    \n",
    "company_name    \n"
   ]
  },
  {
   "cell_type": "code",
   "execution_count": 60,
   "metadata": {},
   "outputs": [
    {
     "data": {
      "text/plain": [
       "['18d',\n",
       " '30d+',\n",
       " '4d',\n",
       " '3d',\n",
       " '5d',\n",
       " '30d+',\n",
       " '4d',\n",
       " '1d',\n",
       " '30d+',\n",
       " '13d',\n",
       " '30d+',\n",
       " '30d+',\n",
       " '11d',\n",
       " '30d+',\n",
       " '25d',\n",
       " '30d+',\n",
       " '30d+',\n",
       " '30d+',\n",
       " '30d+',\n",
       " '18d',\n",
       " '3d',\n",
       " '20d',\n",
       " '30d+',\n",
       " '9d',\n",
       " '30d+',\n",
       " '3d',\n",
       " '15d',\n",
       " '30d+',\n",
       " '3d',\n",
       " '23d']"
      ]
     },
     "execution_count": 60,
     "metadata": {},
     "output_type": "execute_result"
    }
   ],
   "source": [
    "No_days = driver.find_elements_by_xpath(\"//div[@class='d-flex align-items-end pl-std css-17n8uzw']\")\n",
    "\n",
    "no_of_days_ago = [] #empty list\n",
    "for i in No_days:\n",
    "    no_of_days_ago.append(i.text)\n",
    "    \n",
    "no_of_days_ago"
   ]
  },
  {
   "cell_type": "code",
   "execution_count": 61,
   "metadata": {},
   "outputs": [
    {
     "data": {
      "text/plain": [
       "['https://www.glassdoor.co.in/partner/jobListing.htm?pos=101&ao=1136043&s=58&guid=0000017bda756e27906eb13f4f04a979&src=GD_JOB_AD&t=SR&vt=w&uido=DCC7AB98FCB25072B81F75F4CB8093F4&ea=1&cs=1_8836e133&cb=1631457734432&jobListingId=1007258785216&jrtk=2-0-1ffd7arihu4p2801-1ffd7arj0u3ut800-c33fbbcb496aaf48',\n",
       " 'https://www.glassdoor.co.in/partner/jobListing.htm?pos=102&ao=1136043&s=58&guid=0000017bda756e27906eb13f4f04a979&src=GD_JOB_AD&t=SR&vt=w&uido=DCC7AB98FCB25072B81F75F4CB8093F4&ea=1&cs=1_73511b5d&cb=1631457734432&jobListingId=1007200389479&jrtk=2-0-1ffd7arihu4p2801-1ffd7arj0u3ut800-97d4c65035600d81',\n",
       " 'https://www.glassdoor.co.in/partner/jobListing.htm?pos=103&ao=1136043&s=58&guid=0000017bda756e27906eb13f4f04a979&src=GD_JOB_AD&t=SR&vt=w&uido=DCC7AB98FCB25072B81F75F4CB8093F4&cs=1_80e789fb&cb=1631457734431&jobListingId=1007289606692&jrtk=2-0-1ffd7arihu4p2801-1ffd7arj0u3ut800-cd81678964ea464c',\n",
       " 'https://www.glassdoor.co.in/partner/jobListing.htm?pos=104&ao=1136043&s=58&guid=0000017bda756e27906eb13f4f04a979&src=GD_JOB_AD&t=SR&vt=w&uido=DCC7AB98FCB25072B81F75F4CB8093F4&cs=1_7badc997&cb=1631457734431&jobListingId=1007290108522&jrtk=2-0-1ffd7arihu4p2801-1ffd7arj0u3ut800-5728b4a211ea2e96',\n",
       " 'https://www.glassdoor.co.in/partner/jobListing.htm?pos=105&ao=1136043&s=58&guid=0000017bda756e27906eb13f4f04a979&src=GD_JOB_AD&t=SR&vt=w&uido=DCC7AB98FCB25072B81F75F4CB8093F4&ea=1&cs=1_e1c5de8a&cb=1631457734433&jobListingId=1007285294048&jrtk=2-0-1ffd7arihu4p2801-1ffd7arj0u3ut800-13027c95012596b8',\n",
       " 'https://www.glassdoor.co.in/partner/jobListing.htm?pos=106&ao=1136043&s=58&guid=0000017bda756e27906eb13f4f04a979&src=GD_JOB_AD&t=SR&vt=w&uido=DCC7AB98FCB25072B81F75F4CB8093F4&cs=1_55bb67a1&cb=1631457734433&jobListingId=1006624053994&jrtk=2-0-1ffd7arihu4p2801-1ffd7arj0u3ut800-a8cb856cd397a474',\n",
       " 'https://www.glassdoor.co.in/partner/jobListing.htm?pos=107&ao=1136043&s=58&guid=0000017bda756e27906eb13f4f04a979&src=GD_JOB_AD&t=SR&vt=w&uido=DCC7AB98FCB25072B81F75F4CB8093F4&cs=1_324f4e84&cb=1631457734433&jobListingId=1007289606693&jrtk=2-0-1ffd7arihu4p2801-1ffd7arj0u3ut800-a8c1cf7bed67fe43',\n",
       " 'https://www.glassdoor.co.in/partner/jobListing.htm?pos=108&ao=1136043&s=58&guid=0000017bda756e27906eb13f4f04a979&src=GD_JOB_AD&t=SR&vt=w&uido=DCC7AB98FCB25072B81F75F4CB8093F4&cs=1_67f35716&cb=1631457734434&jobListingId=1007296242943&jrtk=2-0-1ffd7arihu4p2801-1ffd7arj0u3ut800-ffacc24eba7bd52e',\n",
       " 'https://www.glassdoor.co.in/partner/jobListing.htm?pos=109&ao=1136043&s=58&guid=0000017bda756e27906eb13f4f04a979&src=GD_JOB_AD&t=SR&vt=w&uido=DCC7AB98FCB25072B81F75F4CB8093F4&cs=1_4e0d1884&cb=1631457734434&jobListingId=1006461286442&jrtk=2-0-1ffd7arihu4p2801-1ffd7arj0u3ut800-a1ea358f023a69b7',\n",
       " 'https://www.glassdoor.co.in/partner/jobListing.htm?pos=110&ao=1136043&s=58&guid=0000017bda756e27906eb13f4f04a979&src=GD_JOB_AD&t=SR&vt=w&uido=DCC7AB98FCB25072B81F75F4CB8093F4&ea=1&cs=1_1e1dede4&cb=1631457734436&jobListingId=1007267967133&jrtk=2-0-1ffd7arihu4p2801-1ffd7arj0u3ut800-b3c352ca79ca6d73',\n",
       " 'https://www.glassdoor.co.in/partner/jobListing.htm?pos=111&ao=1136043&s=58&guid=0000017bda756e27906eb13f4f04a979&src=GD_JOB_AD&t=SR&vt=w&uido=DCC7AB98FCB25072B81F75F4CB8093F4&cs=1_f5a7d801&cb=1631457734435&jobListingId=1007044567503&jrtk=2-0-1ffd7arihu4p2801-1ffd7arj0u3ut800-5092deea13fb4f8b',\n",
       " 'https://www.glassdoor.co.in/partner/jobListing.htm?pos=112&ao=1136043&s=58&guid=0000017bda756e27906eb13f4f04a979&src=GD_JOB_AD&t=SR&vt=w&uido=DCC7AB98FCB25072B81F75F4CB8093F4&cs=1_25aab518&cb=1631457734435&jobListingId=1007179647282&jrtk=2-0-1ffd7arihu4p2801-1ffd7arj0u3ut800-553f505b050aa33e',\n",
       " 'https://www.glassdoor.co.in/partner/jobListing.htm?pos=113&ao=1136043&s=58&guid=0000017bda756e27906eb13f4f04a979&src=GD_JOB_AD&t=SR&vt=w&uido=DCC7AB98FCB25072B81F75F4CB8093F4&cs=1_87e44982&cb=1631457734436&jobListingId=1007275121225&jrtk=2-0-1ffd7arihu4p2801-1ffd7arj0u3ut800-59eb9dcaa5a68f12',\n",
       " 'https://www.glassdoor.co.in/partner/jobListing.htm?pos=114&ao=1136043&s=58&guid=0000017bda756e27906eb13f4f04a979&src=GD_JOB_AD&t=SR&vt=w&uido=DCC7AB98FCB25072B81F75F4CB8093F4&cs=1_11ae7d0c&cb=1631457734437&jobListingId=1006624054035&jrtk=2-0-1ffd7arihu4p2801-1ffd7arj0u3ut800-c47c5ae51c2ed2ee',\n",
       " 'https://www.glassdoor.co.in/partner/jobListing.htm?pos=115&ao=1136043&s=58&guid=0000017bda756e27906eb13f4f04a979&src=GD_JOB_AD&t=SR&vt=w&uido=DCC7AB98FCB25072B81F75F4CB8093F4&cs=1_ceea5a20&cb=1631457734437&jobListingId=1007245257958&jrtk=2-0-1ffd7arihu4p2801-1ffd7arj0u3ut800-d0893868ee842eed',\n",
       " 'https://www.glassdoor.co.in/partner/jobListing.htm?pos=116&ao=1136043&s=58&guid=0000017bda756e27906eb13f4f04a979&src=GD_JOB_AD&t=SR&vt=w&uido=DCC7AB98FCB25072B81F75F4CB8093F4&cs=1_8d17fd21&cb=1631457734438&jobListingId=1006500025617&jrtk=2-0-1ffd7arihu4p2801-1ffd7arj0u3ut800-221d6afa3757039d',\n",
       " 'https://www.glassdoor.co.in/partner/jobListing.htm?pos=117&ao=1136043&s=58&guid=0000017bda756e27906eb13f4f04a979&src=GD_JOB_AD&t=SR&vt=w&uido=DCC7AB98FCB25072B81F75F4CB8093F4&ea=1&cs=1_d0621c40&cb=1631457734439&jobListingId=1006687249100&jrtk=2-0-1ffd7arihu4p2801-1ffd7arj0u3ut800-94036c835379de77',\n",
       " 'https://www.glassdoor.co.in/partner/jobListing.htm?pos=118&ao=1136043&s=58&guid=0000017bda756e27906eb13f4f04a979&src=GD_JOB_AD&t=SR&vt=w&uido=DCC7AB98FCB25072B81F75F4CB8093F4&cs=1_b1f505cb&cb=1631457734438&jobListingId=1007095133299&jrtk=2-0-1ffd7arihu4p2801-1ffd7arj0u3ut800-84db922a59ad7885',\n",
       " 'https://www.glassdoor.co.in/partner/jobListing.htm?pos=119&ao=1136043&s=58&guid=0000017bda756e27906eb13f4f04a979&src=GD_JOB_AD&t=SR&vt=w&uido=DCC7AB98FCB25072B81F75F4CB8093F4&cs=1_a848b389&cb=1631457734438&jobListingId=1006867507716&jrtk=2-0-1ffd7arihu4p2801-1ffd7arj0u3ut800-83f3ba54497948c9',\n",
       " 'https://www.glassdoor.co.in/partner/jobListing.htm?pos=120&ao=1136043&s=58&guid=0000017bda756e27906eb13f4f04a979&src=GD_JOB_AD&t=SR&vt=w&uido=DCC7AB98FCB25072B81F75F4CB8093F4&ea=1&cs=1_8c7f5cdf&cb=1631457734440&jobListingId=1007258812550&jrtk=2-0-1ffd7arihu4p2801-1ffd7arj0u3ut800-223dcefd7d2a9c1c',\n",
       " 'https://www.glassdoor.co.in/partner/jobListing.htm?pos=121&ao=1136043&s=58&guid=0000017bda756e27906eb13f4f04a979&src=GD_JOB_AD&t=SR&vt=w&uido=DCC7AB98FCB25072B81F75F4CB8093F4&cs=1_c7350ccf&cb=1631457734439&jobListingId=1007290108369&jrtk=2-0-1ffd7arihu4p2801-1ffd7arj0u3ut800-6d37c05a5a473e40',\n",
       " 'https://www.glassdoor.co.in/partner/jobListing.htm?pos=122&ao=1136043&s=58&guid=0000017bda756e27906eb13f4f04a979&src=GD_JOB_AD&t=SR&vt=w&uido=DCC7AB98FCB25072B81F75F4CB8093F4&ea=1&cs=1_05972779&cb=1631457734440&jobListingId=1007254252559&jrtk=2-0-1ffd7arihu4p2801-1ffd7arj0u3ut800-4a6ae5c940239506',\n",
       " 'https://www.glassdoor.co.in/partner/jobListing.htm?pos=123&ao=1136043&s=58&guid=0000017bda756e27906eb13f4f04a979&src=GD_JOB_AD&t=SR&vt=w&uido=DCC7AB98FCB25072B81F75F4CB8093F4&cs=1_61c08190&cb=1631457734439&jobListingId=1006729351157&jrtk=2-0-1ffd7arihu4p2801-1ffd7arj0u3ut800-1e445c06f2f3d94b',\n",
       " 'https://www.glassdoor.co.in/partner/jobListing.htm?pos=124&ao=1136043&s=58&guid=0000017bda756e27906eb13f4f04a979&src=GD_JOB_AD&t=SR&vt=w&uido=DCC7AB98FCB25072B81F75F4CB8093F4&cs=1_1fad5a7b&cb=1631457734440&jobListingId=1007279789126&jrtk=2-0-1ffd7arihu4p2801-1ffd7arj0u3ut800-696539a2bd423b28',\n",
       " 'https://www.glassdoor.co.in/partner/jobListing.htm?pos=125&ao=1136043&s=58&guid=0000017bda756e27906eb13f4f04a979&src=GD_JOB_AD&t=SR&vt=w&uido=DCC7AB98FCB25072B81F75F4CB8093F4&cs=1_07217cd2&cb=1631457734440&jobListingId=1007117935447&jrtk=2-0-1ffd7arihu4p2801-1ffd7arj0u3ut800-614dc0248a6019b0',\n",
       " 'https://www.glassdoor.co.in/partner/jobListing.htm?pos=126&ao=1136043&s=58&guid=0000017bda756e27906eb13f4f04a979&src=GD_JOB_AD&t=SR&vt=w&uido=DCC7AB98FCB25072B81F75F4CB8093F4&cs=1_9e8ca6c2&cb=1631457734440&jobListingId=1007292216912&jrtk=2-0-1ffd7arihu4p2801-1ffd7arj0u3ut800-9a26187856f229b6',\n",
       " 'https://www.glassdoor.co.in/partner/jobListing.htm?pos=127&ao=1136043&s=58&guid=0000017bda756e27906eb13f4f04a979&src=GD_JOB_AD&t=SR&vt=w&uido=DCC7AB98FCB25072B81F75F4CB8093F4&ea=1&cs=1_2f4f697c&cb=1631457734441&jobListingId=1007266328290&jrtk=2-0-1ffd7arihu4p2801-1ffd7arj0u3ut800-eae3ece86db0d172',\n",
       " 'https://www.glassdoor.co.in/partner/jobListing.htm?pos=128&ao=1136043&s=58&guid=0000017bda756e27906eb13f4f04a979&src=GD_JOB_AD&t=SR&vt=w&uido=DCC7AB98FCB25072B81F75F4CB8093F4&ea=1&cs=1_98631902&cb=1631457734441&jobListingId=1007219231719&jrtk=2-0-1ffd7arihu4p2801-1ffd7arj0u3ut800-97e5e173cec15330',\n",
       " 'https://www.glassdoor.co.in/partner/jobListing.htm?pos=129&ao=1136043&s=58&guid=0000017bda756e27906eb13f4f04a979&src=GD_JOB_AD&t=SR&vt=w&uido=DCC7AB98FCB25072B81F75F4CB8093F4&cs=1_6888b46f&cb=1631457734440&jobListingId=1007290108300&jrtk=2-0-1ffd7arihu4p2801-1ffd7arj0u3ut800-24c9e34f75a94d14',\n",
       " 'https://www.glassdoor.co.in/partner/jobListing.htm?pos=130&ao=1136043&s=58&guid=0000017bda756e27906eb13f4f04a979&src=GD_JOB_AD&t=SR&vt=w&uido=DCC7AB98FCB25072B81F75F4CB8093F4&cs=1_d3030429&cb=1631457734441&jobListingId=1007248250199&jrtk=2-0-1ffd7arihu4p2801-1ffd7arj0u3ut800-86be4fb99f638f8b']"
      ]
     },
     "execution_count": 61,
     "metadata": {},
     "output_type": "execute_result"
    }
   ],
   "source": [
    "url = driver.find_elements_by_xpath(\"//a[@class=' job-search-key-l2wjgv e1n63ojh0 jobLink']\")\n",
    "\n",
    "job_opening_urls = []\n",
    "\n",
    "for i in url:\n",
    "    job_opening_urls.append(i.get_attribute(\"href\"))\n",
    "    \n",
    "job_opening_urls"
   ]
  },
  {
   "cell_type": "code",
   "execution_count": 62,
   "metadata": {},
   "outputs": [
    {
     "data": {
      "text/plain": [
       "['N/A',\n",
       " 'N/A',\n",
       " '3.5★',\n",
       " '3.9★',\n",
       " '3.6★',\n",
       " 'N/A',\n",
       " '3.5★',\n",
       " '3.9★',\n",
       " 'N/A',\n",
       " 'N/A',\n",
       " '2.4★',\n",
       " '3.3★',\n",
       " '4.1★',\n",
       " 'N/A',\n",
       " 'N/A',\n",
       " 'N/A',\n",
       " '4.2★',\n",
       " '3.8★',\n",
       " '3.8★',\n",
       " 'N/A',\n",
       " '4.1★',\n",
       " 'N/A',\n",
       " '3.0★',\n",
       " '4.0★',\n",
       " '3.2★',\n",
       " '3.9★',\n",
       " '4.5★',\n",
       " 'N/A',\n",
       " '3.6★',\n",
       " '3.8★']"
      ]
     },
     "execution_count": 62,
     "metadata": {},
     "output_type": "execute_result"
    }
   ],
   "source": [
    "#rating = driver.find_elements_by_xpath(\"//span[@class=' job-search-key-srfzj0 e1cjmv6j0']\")\n",
    "\n",
    "rating = [] #empty list\n",
    "#for i in rating:\n",
    "#   comp_rating.append(i.text)\n",
    "    \n",
    "#comp_rating\n",
    "\n",
    "for i in job_opening_urls:\n",
    "    driver.get(i)\n",
    "    # extracting rating\n",
    "    try:\n",
    "        comp_rating = driver.find_element_by_xpath(\"//span[@class='css-1pmc6te e11nt52q4']\")\n",
    "        rating.append(comp_rating.text.replace(\"\\n\", \"\"))\n",
    "    except:\n",
    "        rating.append('N/A')\n",
    "\n",
    "rating"
   ]
  },
  {
   "cell_type": "code",
   "execution_count": 63,
   "metadata": {},
   "outputs": [
    {
     "data": {
      "text/html": [
       "<div>\n",
       "<style scoped>\n",
       "    .dataframe tbody tr th:only-of-type {\n",
       "        vertical-align: middle;\n",
       "    }\n",
       "\n",
       "    .dataframe tbody tr th {\n",
       "        vertical-align: top;\n",
       "    }\n",
       "\n",
       "    .dataframe thead th {\n",
       "        text-align: right;\n",
       "    }\n",
       "</style>\n",
       "<table border=\"1\" class=\"dataframe\">\n",
       "  <thead>\n",
       "    <tr style=\"text-align: right;\">\n",
       "      <th></th>\n",
       "      <th>Company</th>\n",
       "      <th>No of Days Ago</th>\n",
       "      <th>Rating</th>\n",
       "    </tr>\n",
       "  </thead>\n",
       "  <tbody>\n",
       "    <tr>\n",
       "      <th>0</th>\n",
       "      <td>AlgoScale Technologies Private Limited</td>\n",
       "      <td>18d</td>\n",
       "      <td>N/A</td>\n",
       "    </tr>\n",
       "    <tr>\n",
       "      <th>1</th>\n",
       "      <td>Liberin Technologies Private Limited</td>\n",
       "      <td>30d+</td>\n",
       "      <td>N/A</td>\n",
       "    </tr>\n",
       "    <tr>\n",
       "      <th>2</th>\n",
       "      <td>Grail Insights</td>\n",
       "      <td>4d</td>\n",
       "      <td>3.5★</td>\n",
       "    </tr>\n",
       "    <tr>\n",
       "      <th>3</th>\n",
       "      <td>Noisy Lion</td>\n",
       "      <td>3d</td>\n",
       "      <td>3.9★</td>\n",
       "    </tr>\n",
       "    <tr>\n",
       "      <th>4</th>\n",
       "      <td>Lenskart</td>\n",
       "      <td>5d</td>\n",
       "      <td>3.6★</td>\n",
       "    </tr>\n",
       "    <tr>\n",
       "      <th>5</th>\n",
       "      <td>Salasar New Age Technologies</td>\n",
       "      <td>30d+</td>\n",
       "      <td>N/A</td>\n",
       "    </tr>\n",
       "    <tr>\n",
       "      <th>6</th>\n",
       "      <td>Grail Insights</td>\n",
       "      <td>4d</td>\n",
       "      <td>3.5★</td>\n",
       "    </tr>\n",
       "    <tr>\n",
       "      <th>7</th>\n",
       "      <td>IBM</td>\n",
       "      <td>1d</td>\n",
       "      <td>3.9★</td>\n",
       "    </tr>\n",
       "    <tr>\n",
       "      <th>8</th>\n",
       "      <td>Techlive</td>\n",
       "      <td>30d+</td>\n",
       "      <td>N/A</td>\n",
       "    </tr>\n",
       "    <tr>\n",
       "      <th>9</th>\n",
       "      <td>Ishatva Management Solutions</td>\n",
       "      <td>13d</td>\n",
       "      <td>N/A</td>\n",
       "    </tr>\n",
       "  </tbody>\n",
       "</table>\n",
       "</div>"
      ],
      "text/plain": [
       "                                  Company No of Days Ago Rating\n",
       "0  AlgoScale Technologies Private Limited            18d    N/A\n",
       "1    Liberin Technologies Private Limited           30d+    N/A\n",
       "2                          Grail Insights             4d   3.5★\n",
       "3                              Noisy Lion             3d   3.9★\n",
       "4                                Lenskart             5d   3.6★\n",
       "5            Salasar New Age Technologies           30d+    N/A\n",
       "6                          Grail Insights             4d   3.5★\n",
       "7                                     IBM             1d   3.9★\n",
       "8                                Techlive           30d+    N/A\n",
       "9            Ishatva Management Solutions            13d    N/A"
      ]
     },
     "execution_count": 63,
     "metadata": {},
     "output_type": "execute_result"
    }
   ],
   "source": [
    "job_details=pd.DataFrame({}) \n",
    "job_details['Company']=company_name  \n",
    "job_details['No of Days Ago']=no_of_days_ago\n",
    "job_details['Rating']=rating \n",
    "job_details.head(10)"
   ]
  },
  {
   "cell_type": "markdown",
   "metadata": {},
   "source": [
    "# Q5"
   ]
  },
  {
   "cell_type": "code",
   "execution_count": 64,
   "metadata": {},
   "outputs": [],
   "source": [
    "# connect to webdriver\n",
    "options = webdriver.ChromeOptions()\n",
    "options.add_argument(\"start-maximized\")\n",
    "driver = uc.Chrome(executable_path='chromedriver.exe', options=options)"
   ]
  },
  {
   "cell_type": "code",
   "execution_count": 65,
   "metadata": {},
   "outputs": [],
   "source": [
    "url = 'https://www.glassdoor.co.in/Salaries/index.htm'\n",
    "driver.get(url)"
   ]
  },
  {
   "cell_type": "code",
   "execution_count": 66,
   "metadata": {},
   "outputs": [
    {
     "name": "stderr",
     "output_type": "stream",
     "text": [
      "C:\\Users\\jameel\\anaconda3\\lib\\site-packages\\selenium\\webdriver\\remote\\webdriver.py:483: UserWarning: find_element_by_* commands are deprecated. Please use find_element() instead\n",
      "  warnings.warn(\"find_element_by_* commands are deprecated. Please use find_element() instead\")\n"
     ]
    },
    {
     "data": {
      "text/plain": [
       "<selenium.webdriver.remote.webelement.WebElement (session=\"48db25e36f694686cb2dc24895f0ca77\", element=\"c164a8c8-29e1-4519-9c5a-2c5bb8f2dbda\")>"
      ]
     },
     "execution_count": 66,
     "metadata": {},
     "output_type": "execute_result"
    }
   ],
   "source": [
    "search_job = driver.find_element_by_xpath(\"//input[@id='KeywordSearch']\")\n",
    "search_job"
   ]
  },
  {
   "cell_type": "code",
   "execution_count": 67,
   "metadata": {},
   "outputs": [
    {
     "data": {
      "text/plain": [
       "<selenium.webdriver.remote.webelement.WebElement (session=\"48db25e36f694686cb2dc24895f0ca77\", element=\"cdd50da3-5888-4b3c-90ef-d0492a1083f7\")>"
      ]
     },
     "execution_count": 67,
     "metadata": {},
     "output_type": "execute_result"
    }
   ],
   "source": [
    "search_loc = driver.find_element_by_xpath(\"//input[@id='LocationSearch']\")\n",
    "search_loc"
   ]
  },
  {
   "cell_type": "code",
   "execution_count": 68,
   "metadata": {},
   "outputs": [],
   "source": [
    "search_job.send_keys(\"Data Scientist\")"
   ]
  },
  {
   "cell_type": "code",
   "execution_count": 69,
   "metadata": {},
   "outputs": [],
   "source": [
    "search_loc.send_keys(\"Noida\")"
   ]
  },
  {
   "cell_type": "code",
   "execution_count": 70,
   "metadata": {},
   "outputs": [
    {
     "data": {
      "text/plain": [
       "<selenium.webdriver.remote.webelement.WebElement (session=\"48db25e36f694686cb2dc24895f0ca77\", element=\"83f09d64-9ce2-4806-81b7-fc40fccdf046\")>"
      ]
     },
     "execution_count": 70,
     "metadata": {},
     "output_type": "execute_result"
    }
   ],
   "source": [
    "search_btn = driver.find_element_by_xpath(\"//button[@id='HeroSearchButton']\")\n",
    "search_btn"
   ]
  },
  {
   "cell_type": "code",
   "execution_count": 71,
   "metadata": {},
   "outputs": [],
   "source": [
    "search_btn.click()"
   ]
  },
  {
   "cell_type": "code",
   "execution_count": 72,
   "metadata": {},
   "outputs": [
    {
     "name": "stderr",
     "output_type": "stream",
     "text": [
      "C:\\Users\\jameel\\anaconda3\\lib\\site-packages\\selenium\\webdriver\\remote\\webdriver.py:502: UserWarning: find_elements_by_* commands are deprecated. Please use find_elements() instead\n",
      "  warnings.warn(\"find_elements_by_* commands are deprecated. Please use find_elements() instead\")\n"
     ]
    },
    {
     "data": {
      "text/plain": [
       "['Tata Consultancy Services',\n",
       " 'IBM',\n",
       " 'Accenture',\n",
       " 'Delhivery',\n",
       " 'Ericsson-Worldwide',\n",
       " 'UnitedHealth Group',\n",
       " 'Optum',\n",
       " 'Optum Global Solutions',\n",
       " 'Valiance Solutions',\n",
       " 'EXL Service',\n",
       " 'Cognizant Technology Solutions',\n",
       " 'ZS Associates',\n",
       " 'Nagarro',\n",
       " 'Innovaccer',\n",
       " 'OYO',\n",
       " 'dunnhumby',\n",
       " 'Amazon',\n",
       " 'Fresher',\n",
       " 'CARS24.com',\n",
       " 'Vidooly Media Tech']"
      ]
     },
     "execution_count": 72,
     "metadata": {},
     "output_type": "execute_result"
    }
   ],
   "source": [
    "Comp_name = driver.find_elements_by_xpath(\"//a[@class='css-f3vw95 e1aj7ssy3']\")\n",
    "\n",
    "company_name = [] #empty list\n",
    "for i in Comp_name:\n",
    "    company_name.append(i.text)\n",
    "    \n",
    "company_name"
   ]
  },
  {
   "cell_type": "code",
   "execution_count": 73,
   "metadata": {},
   "outputs": [
    {
     "data": {
      "text/plain": [
       "['22 salaries',\n",
       " '20 salaries',\n",
       " '15 salaries',\n",
       " '15 salaries',\n",
       " '14 salaries',\n",
       " '14 salaries',\n",
       " '10 salaries',\n",
       " '10 salaries',\n",
       " '10 salaries',\n",
       " '9 salaries',\n",
       " '8 salaries',\n",
       " '8 salaries',\n",
       " '8 salaries',\n",
       " '8 salaries',\n",
       " '7 salaries',\n",
       " '7 salaries',\n",
       " '6 salaries',\n",
       " '6 salaries',\n",
       " '6 salaries',\n",
       " '6 salaries']"
      ]
     },
     "execution_count": 73,
     "metadata": {},
     "output_type": "execute_result"
    }
   ],
   "source": [
    "salary_no = driver.find_elements_by_xpath(\"//div[@class='col-12 col-lg-auto']//span\")\n",
    "\n",
    "no_of_sal = [] #empty list\n",
    "for i in salary_no:\n",
    "    no_of_sal.append(i.text)\n",
    "    \n",
    "no_of_sal"
   ]
  },
  {
   "cell_type": "code",
   "execution_count": 74,
   "metadata": {},
   "outputs": [
    {
     "data": {
      "text/plain": [
       "['₹6,28,021',\n",
       " '₹9,08,246',\n",
       " '₹11,93,390',\n",
       " '₹12,49,716',\n",
       " '₹7,58,335',\n",
       " '₹12,80,000',\n",
       " '₹13,55,086',\n",
       " '₹14,55,430',\n",
       " '₹8,86,064',\n",
       " '₹11,10,000',\n",
       " '₹9,62,227',\n",
       " '₹11,71,868',\n",
       " '₹11,01,815',\n",
       " '₹12,40,275',\n",
       " '₹14,51,902',\n",
       " '₹11,30,374',\n",
       " '₹20,63,782',\n",
       " '₹61,566',\n",
       " '₹10,80,727',\n",
       " '₹35,040']"
      ]
     },
     "execution_count": 74,
     "metadata": {},
     "output_type": "execute_result"
    }
   ],
   "source": [
    "avg_sal = driver.find_elements_by_xpath(\"//div[@class='col-12 col-lg-4 px-lg-0 d-flex align-items-baseline']//h3\")\n",
    "\n",
    "Avg_salary = [] #empty list\n",
    "for i in avg_sal:\n",
    "    Avg_salary.append(i.text)\n",
    "    \n",
    "Avg_salary"
   ]
  },
  {
   "cell_type": "code",
   "execution_count": 77,
   "metadata": {},
   "outputs": [
    {
     "data": {
      "text/plain": [
       "['Range: ₹4L - ₹13L',\n",
       " 'Range: ₹1L - ₹28L',\n",
       " 'Range: ₹6L - ₹23L',\n",
       " 'Range: ₹5L - ₹1Cr',\n",
       " 'Range: ₹4L - ₹17L',\n",
       " 'Range: ₹8L - ₹16L',\n",
       " 'Range: ₹8L - ₹20L',\n",
       " 'Range: ₹10L - ₹18L',\n",
       " 'Range: ₹5L - ₹15L',\n",
       " 'Range: ₹6L - ₹16L',\n",
       " 'Range: ₹4L - ₹13L',\n",
       " 'Range: ₹2L - ₹19L',\n",
       " 'Range: ₹4L - ₹21L',\n",
       " 'Range: ₹6L - ₹17L',\n",
       " 'Range: ₹10L - ₹21L',\n",
       " 'Range: ₹8L - ₹21L',\n",
       " 'Range: ₹10L - ₹30L',\n",
       " 'Range: ₹25T - ₹1L',\n",
       " 'Range: ₹9L - ₹15L',\n",
       " 'Range: ₹12T - ₹64T']"
      ]
     },
     "execution_count": 77,
     "metadata": {},
     "output_type": "execute_result"
    }
   ],
   "source": [
    "min_max = driver.find_elements_by_xpath(\"//span[@class='d-block d-lg-none m-0 css-1b6bxoo']\")\n",
    "\n",
    "min_to_max_sal = [] #empty list\n",
    "for i in min_max:\n",
    "    min_to_max_sal.append(i.text)\n",
    "    \n",
    "min_to_max_sal"
   ]
  },
  {
   "cell_type": "code",
   "execution_count": 76,
   "metadata": {},
   "outputs": [
    {
     "data": {
      "text/plain": [
       "['3.9',\n",
       " '3.9',\n",
       " '4.1',\n",
       " '3.8',\n",
       " '4',\n",
       " '3.7',\n",
       " '3.7',\n",
       " '3.9',\n",
       " '4.2',\n",
       " '3.6',\n",
       " '3.8',\n",
       " '4',\n",
       " '4',\n",
       " '3.8',\n",
       " '3.3',\n",
       " '4.1',\n",
       " '3.8',\n",
       " '4.1',\n",
       " '4.1',\n",
       " '3.8']"
      ]
     },
     "execution_count": 76,
     "metadata": {},
     "output_type": "execute_result"
    }
   ],
   "source": [
    "Rating = driver.find_elements_by_xpath(\"//span[@class='m-0 css-kyx745']\")\n",
    "\n",
    "comp_rating = [] #empty list\n",
    "for i in Rating:\n",
    "    comp_rating.append(i.text)\n",
    "    \n",
    "comp_rating"
   ]
  },
  {
   "cell_type": "code",
   "execution_count": 78,
   "metadata": {},
   "outputs": [
    {
     "data": {
      "text/html": [
       "<div>\n",
       "<style scoped>\n",
       "    .dataframe tbody tr th:only-of-type {\n",
       "        vertical-align: middle;\n",
       "    }\n",
       "\n",
       "    .dataframe tbody tr th {\n",
       "        vertical-align: top;\n",
       "    }\n",
       "\n",
       "    .dataframe thead th {\n",
       "        text-align: right;\n",
       "    }\n",
       "</style>\n",
       "<table border=\"1\" class=\"dataframe\">\n",
       "  <thead>\n",
       "    <tr style=\"text-align: right;\">\n",
       "      <th></th>\n",
       "      <th>Company</th>\n",
       "      <th>No of Salary</th>\n",
       "      <th>Average Salary</th>\n",
       "      <th>Min and Max Salary range</th>\n",
       "      <th>Rating</th>\n",
       "    </tr>\n",
       "  </thead>\n",
       "  <tbody>\n",
       "    <tr>\n",
       "      <th>0</th>\n",
       "      <td>Tata Consultancy Services</td>\n",
       "      <td>22 salaries</td>\n",
       "      <td>₹6,28,021</td>\n",
       "      <td>Range: ₹4L - ₹13L</td>\n",
       "      <td>3.9</td>\n",
       "    </tr>\n",
       "    <tr>\n",
       "      <th>1</th>\n",
       "      <td>IBM</td>\n",
       "      <td>20 salaries</td>\n",
       "      <td>₹9,08,246</td>\n",
       "      <td>Range: ₹1L - ₹28L</td>\n",
       "      <td>3.9</td>\n",
       "    </tr>\n",
       "    <tr>\n",
       "      <th>2</th>\n",
       "      <td>Accenture</td>\n",
       "      <td>15 salaries</td>\n",
       "      <td>₹11,93,390</td>\n",
       "      <td>Range: ₹6L - ₹23L</td>\n",
       "      <td>4.1</td>\n",
       "    </tr>\n",
       "    <tr>\n",
       "      <th>3</th>\n",
       "      <td>Delhivery</td>\n",
       "      <td>15 salaries</td>\n",
       "      <td>₹12,49,716</td>\n",
       "      <td>Range: ₹5L - ₹1Cr</td>\n",
       "      <td>3.8</td>\n",
       "    </tr>\n",
       "    <tr>\n",
       "      <th>4</th>\n",
       "      <td>Ericsson-Worldwide</td>\n",
       "      <td>14 salaries</td>\n",
       "      <td>₹7,58,335</td>\n",
       "      <td>Range: ₹4L - ₹17L</td>\n",
       "      <td>4</td>\n",
       "    </tr>\n",
       "    <tr>\n",
       "      <th>5</th>\n",
       "      <td>UnitedHealth Group</td>\n",
       "      <td>14 salaries</td>\n",
       "      <td>₹12,80,000</td>\n",
       "      <td>Range: ₹8L - ₹16L</td>\n",
       "      <td>3.7</td>\n",
       "    </tr>\n",
       "    <tr>\n",
       "      <th>6</th>\n",
       "      <td>Optum</td>\n",
       "      <td>10 salaries</td>\n",
       "      <td>₹13,55,086</td>\n",
       "      <td>Range: ₹8L - ₹20L</td>\n",
       "      <td>3.7</td>\n",
       "    </tr>\n",
       "    <tr>\n",
       "      <th>7</th>\n",
       "      <td>Optum Global Solutions</td>\n",
       "      <td>10 salaries</td>\n",
       "      <td>₹14,55,430</td>\n",
       "      <td>Range: ₹10L - ₹18L</td>\n",
       "      <td>3.9</td>\n",
       "    </tr>\n",
       "    <tr>\n",
       "      <th>8</th>\n",
       "      <td>Valiance Solutions</td>\n",
       "      <td>10 salaries</td>\n",
       "      <td>₹8,86,064</td>\n",
       "      <td>Range: ₹5L - ₹15L</td>\n",
       "      <td>4.2</td>\n",
       "    </tr>\n",
       "    <tr>\n",
       "      <th>9</th>\n",
       "      <td>EXL Service</td>\n",
       "      <td>9 salaries</td>\n",
       "      <td>₹11,10,000</td>\n",
       "      <td>Range: ₹6L - ₹16L</td>\n",
       "      <td>3.6</td>\n",
       "    </tr>\n",
       "  </tbody>\n",
       "</table>\n",
       "</div>"
      ],
      "text/plain": [
       "                     Company No of Salary Average Salary  \\\n",
       "0  Tata Consultancy Services  22 salaries      ₹6,28,021   \n",
       "1                        IBM  20 salaries      ₹9,08,246   \n",
       "2                  Accenture  15 salaries     ₹11,93,390   \n",
       "3                  Delhivery  15 salaries     ₹12,49,716   \n",
       "4         Ericsson-Worldwide  14 salaries      ₹7,58,335   \n",
       "5         UnitedHealth Group  14 salaries     ₹12,80,000   \n",
       "6                      Optum  10 salaries     ₹13,55,086   \n",
       "7     Optum Global Solutions  10 salaries     ₹14,55,430   \n",
       "8         Valiance Solutions  10 salaries      ₹8,86,064   \n",
       "9                EXL Service   9 salaries     ₹11,10,000   \n",
       "\n",
       "  Min and Max Salary range Rating  \n",
       "0        Range: ₹4L - ₹13L    3.9  \n",
       "1        Range: ₹1L - ₹28L    3.9  \n",
       "2        Range: ₹6L - ₹23L    4.1  \n",
       "3        Range: ₹5L - ₹1Cr    3.8  \n",
       "4        Range: ₹4L - ₹17L      4  \n",
       "5        Range: ₹8L - ₹16L    3.7  \n",
       "6        Range: ₹8L - ₹20L    3.7  \n",
       "7       Range: ₹10L - ₹18L    3.9  \n",
       "8        Range: ₹5L - ₹15L    4.2  \n",
       "9        Range: ₹6L - ₹16L    3.6  "
      ]
     },
     "execution_count": 78,
     "metadata": {},
     "output_type": "execute_result"
    }
   ],
   "source": [
    "job_details=pd.DataFrame({}) \n",
    "job_details['Company']=company_name  \n",
    "job_details['No of Salary']=no_of_sal\n",
    "job_details['Average Salary']=Avg_salary\n",
    "job_details['Min and Max Salary range']=min_to_max_sal\n",
    "job_details['Rating']=comp_rating\n",
    "job_details.head(10)"
   ]
  },
  {
   "cell_type": "markdown",
   "metadata": {},
   "source": [
    "# Q6"
   ]
  },
  {
   "cell_type": "code",
   "execution_count": 79,
   "metadata": {},
   "outputs": [],
   "source": [
    "# connect to webdriver\n",
    "options = webdriver.ChromeOptions()\n",
    "options.add_argument(\"start-maximized\")\n",
    "driver = uc.Chrome(executable_path='chromedriver.exe', options=options)"
   ]
  },
  {
   "cell_type": "code",
   "execution_count": 80,
   "metadata": {},
   "outputs": [],
   "source": [
    "url = 'https://www.flipkart.com/'\n",
    "driver.get(url)"
   ]
  },
  {
   "cell_type": "code",
   "execution_count": 81,
   "metadata": {},
   "outputs": [
    {
     "name": "stderr",
     "output_type": "stream",
     "text": [
      "C:\\Users\\jameel\\anaconda3\\lib\\site-packages\\selenium\\webdriver\\remote\\webdriver.py:483: UserWarning: find_element_by_* commands are deprecated. Please use find_element() instead\n",
      "  warnings.warn(\"find_element_by_* commands are deprecated. Please use find_element() instead\")\n"
     ]
    },
    {
     "data": {
      "text/plain": [
       "<selenium.webdriver.remote.webelement.WebElement (session=\"d2db1c46a43a5310828fda0171f918d9\", element=\"4e1ba117-6171-4781-9b0c-0be5e4dfb6b4\")>"
      ]
     },
     "execution_count": 81,
     "metadata": {},
     "output_type": "execute_result"
    }
   ],
   "source": [
    "search_product = driver.find_element_by_xpath(\"//input[@title='Search for products, brands and more']\")\n",
    "search_product"
   ]
  },
  {
   "cell_type": "code",
   "execution_count": 82,
   "metadata": {},
   "outputs": [],
   "source": [
    "search_product.send_keys(\"sunglasses\")"
   ]
  },
  {
   "cell_type": "code",
   "execution_count": 85,
   "metadata": {},
   "outputs": [
    {
     "data": {
      "text/plain": [
       "<selenium.webdriver.remote.webelement.WebElement (session=\"d2db1c46a43a5310828fda0171f918d9\", element=\"748bc034-cb33-4617-8d47-eb5c3fdd7100\")>"
      ]
     },
     "execution_count": 85,
     "metadata": {},
     "output_type": "execute_result"
    }
   ],
   "source": [
    "search_btn = driver.find_element_by_xpath(\"//button[@class='L0Z3Pu']\")\n",
    "search_btn"
   ]
  },
  {
   "cell_type": "code",
   "execution_count": 86,
   "metadata": {},
   "outputs": [],
   "source": [
    "search_btn.click()"
   ]
  },
  {
   "cell_type": "code",
   "execution_count": 87,
   "metadata": {
    "scrolled": true
   },
   "outputs": [
    {
     "name": "stderr",
     "output_type": "stream",
     "text": [
      "C:\\Users\\jameel\\anaconda3\\lib\\site-packages\\selenium\\webdriver\\remote\\webdriver.py:502: UserWarning: find_elements_by_* commands are deprecated. Please use find_elements() instead\n",
      "  warnings.warn(\"find_elements_by_* commands are deprecated. Please use find_elements() instead\")\n"
     ]
    }
   ],
   "source": [
    "brand_name = driver.find_elements_by_xpath(\"//div[@class='_2WkVRV']\")\n",
    "Product_desc = driver.find_elements_by_xpath(\"//a[@class='IRpwTa']\")\n",
    "prod_price = driver.find_elements_by_xpath(\"//div[@class='_30jeq3']\")\n",
    "disc_perc = driver.find_elements_by_xpath(\"//div[@class='_3Ay6Sb']\")\n",
    "\n",
    "brand = [] #empty list\n",
    "product = [] #empty list\n",
    "price = [] #empty list\n",
    "discount = [] #empty list\n",
    "\n",
    "for i in brand_name:\n",
    "    brand.append(i.text)\n",
    "\n",
    "for i in Product_desc:\n",
    "    product.append(i.text)\n",
    "\n",
    "for i in prod_price:\n",
    "    price.append(i.text)\n",
    "\n",
    "for i in disc_perc:\n",
    "    discount.append(i.text)\n",
    "    \n",
    "\n",
    "next_btn = driver.find_element_by_xpath(\"//a[@class='_1LKTO3']\")  #Next page button\n",
    "next_btn.click()\n",
    "\n"
   ]
  },
  {
   "cell_type": "code",
   "execution_count": 88,
   "metadata": {
    "scrolled": true
   },
   "outputs": [],
   "source": [
    "brand_name1 = driver.find_elements_by_xpath(\"//div[@class='_2WkVRV']\")\n",
    "Product_desc1 = driver.find_elements_by_xpath(\"//a[@class='IRpwTa']\")\n",
    "prod_price1 = driver.find_elements_by_xpath(\"//div[@class='_30jeq3']\")\n",
    "disc_perc1 = driver.find_elements_by_xpath(\"//div[@class='_3Ay6Sb']\")\n",
    "\n",
    "for i in brand_name1:\n",
    "    brand.append(i.text)\n",
    "    \n",
    "for i in Product_desc1:\n",
    "    product.append(i.text)\n",
    "\n",
    "for i in prod_price1:\n",
    "    price.append(i.text)\n",
    "\n",
    "for i in disc_perc1:\n",
    "    discount.append(i.text)\n",
    "    \n",
    "next_btn1 = driver.find_element_by_xpath(\"//nav[@class='yFHi8N']//a[12]\") #Next page button\n",
    "next_btn1.click()\n"
   ]
  },
  {
   "cell_type": "code",
   "execution_count": 89,
   "metadata": {
    "scrolled": true
   },
   "outputs": [],
   "source": [
    "brand_name2 = driver.find_elements_by_xpath(\"//div[@class='_2WkVRV']\")\n",
    "Product_desc2 = driver.find_elements_by_xpath(\"//a[@class='IRpwTa']\")\n",
    "prod_price2 = driver.find_elements_by_xpath(\"//div[@class='_30jeq3']\")\n",
    "disc_perc2 = driver.find_elements_by_xpath(\"//div[@class='_3Ay6Sb']\")\n",
    "\n",
    "for i in brand_name2[:20]:\n",
    "    brand.append(i.text)\n",
    "    \n",
    "for i in Product_desc2[:20]:\n",
    "    product.append(i.text)\n",
    "\n",
    "for i in prod_price2[:20]:\n",
    "    price.append(i.text)\n",
    "\n",
    "for i in disc_perc2[:20]:\n",
    "    discount.append(i.text)\n",
    "\n"
   ]
  },
  {
   "cell_type": "code",
   "execution_count": 90,
   "metadata": {},
   "outputs": [
    {
     "data": {
      "text/html": [
       "<div>\n",
       "<style scoped>\n",
       "    .dataframe tbody tr th:only-of-type {\n",
       "        vertical-align: middle;\n",
       "    }\n",
       "\n",
       "    .dataframe tbody tr th {\n",
       "        vertical-align: top;\n",
       "    }\n",
       "\n",
       "    .dataframe thead th {\n",
       "        text-align: right;\n",
       "    }\n",
       "</style>\n",
       "<table border=\"1\" class=\"dataframe\">\n",
       "  <thead>\n",
       "    <tr style=\"text-align: right;\">\n",
       "      <th></th>\n",
       "      <th>Brand Name</th>\n",
       "      <th>Description</th>\n",
       "      <th>Price</th>\n",
       "      <th>Discount Percent</th>\n",
       "    </tr>\n",
       "  </thead>\n",
       "  <tbody>\n",
       "    <tr>\n",
       "      <th>0</th>\n",
       "      <td>NuVew</td>\n",
       "      <td>UV Protection Aviator Sunglasses (57)</td>\n",
       "      <td>₹258</td>\n",
       "      <td>72% off</td>\n",
       "    </tr>\n",
       "    <tr>\n",
       "      <th>1</th>\n",
       "      <td>NuVew</td>\n",
       "      <td>UV Protection, Night Vision, Riding Glasses, P...</td>\n",
       "      <td>₹375</td>\n",
       "      <td>77% off</td>\n",
       "    </tr>\n",
       "    <tr>\n",
       "      <th>2</th>\n",
       "      <td>Elligator</td>\n",
       "      <td>UV Protection Round Sunglasses (54)</td>\n",
       "      <td>₹295</td>\n",
       "      <td>88% off</td>\n",
       "    </tr>\n",
       "    <tr>\n",
       "      <th>3</th>\n",
       "      <td>ROZZETTA CRAFT</td>\n",
       "      <td>UV Protection, Gradient Rectangular Sunglasses...</td>\n",
       "      <td>₹404</td>\n",
       "      <td>79% off</td>\n",
       "    </tr>\n",
       "    <tr>\n",
       "      <th>4</th>\n",
       "      <td>kingsunglasses</td>\n",
       "      <td>Mirrored, UV Protection Wayfarer Sunglasses (F...</td>\n",
       "      <td>₹284</td>\n",
       "      <td>89% off</td>\n",
       "    </tr>\n",
       "    <tr>\n",
       "      <th>...</th>\n",
       "      <td>...</td>\n",
       "      <td>...</td>\n",
       "      <td>...</td>\n",
       "      <td>...</td>\n",
       "    </tr>\n",
       "    <tr>\n",
       "      <th>95</th>\n",
       "      <td>NuVew</td>\n",
       "      <td>UV Protection, Mirrored Wayfarer Sunglasses (53)</td>\n",
       "      <td>₹403</td>\n",
       "      <td>67% off</td>\n",
       "    </tr>\n",
       "    <tr>\n",
       "      <th>96</th>\n",
       "      <td>GANSTA</td>\n",
       "      <td>Night Vision, Riding Glasses, UV Protection Wr...</td>\n",
       "      <td>₹221</td>\n",
       "      <td>77% off</td>\n",
       "    </tr>\n",
       "    <tr>\n",
       "      <th>97</th>\n",
       "      <td>PETER JONES</td>\n",
       "      <td>UV Protection, Others Round Sunglasses (48)</td>\n",
       "      <td>₹549</td>\n",
       "      <td>63% off</td>\n",
       "    </tr>\n",
       "    <tr>\n",
       "      <th>98</th>\n",
       "      <td>Rich Club</td>\n",
       "      <td>UV Protection, Gradient Over-sized Sunglasses ...</td>\n",
       "      <td>₹299</td>\n",
       "      <td>62% off</td>\n",
       "    </tr>\n",
       "    <tr>\n",
       "      <th>99</th>\n",
       "      <td>AISLIN</td>\n",
       "      <td>NaN</td>\n",
       "      <td>₹1,025</td>\n",
       "      <td>75% off</td>\n",
       "    </tr>\n",
       "  </tbody>\n",
       "</table>\n",
       "<p>100 rows × 4 columns</p>\n",
       "</div>"
      ],
      "text/plain": [
       "        Brand Name                                        Description   Price  \\\n",
       "0            NuVew              UV Protection Aviator Sunglasses (57)    ₹258   \n",
       "1            NuVew  UV Protection, Night Vision, Riding Glasses, P...    ₹375   \n",
       "2        Elligator                UV Protection Round Sunglasses (54)    ₹295   \n",
       "3   ROZZETTA CRAFT  UV Protection, Gradient Rectangular Sunglasses...    ₹404   \n",
       "4   kingsunglasses  Mirrored, UV Protection Wayfarer Sunglasses (F...    ₹284   \n",
       "..             ...                                                ...     ...   \n",
       "95           NuVew   UV Protection, Mirrored Wayfarer Sunglasses (53)    ₹403   \n",
       "96          GANSTA  Night Vision, Riding Glasses, UV Protection Wr...    ₹221   \n",
       "97     PETER JONES        UV Protection, Others Round Sunglasses (48)    ₹549   \n",
       "98       Rich Club  UV Protection, Gradient Over-sized Sunglasses ...    ₹299   \n",
       "99          AISLIN                                                NaN  ₹1,025   \n",
       "\n",
       "   Discount Percent  \n",
       "0           72% off  \n",
       "1           77% off  \n",
       "2           88% off  \n",
       "3           79% off  \n",
       "4           89% off  \n",
       "..              ...  \n",
       "95          67% off  \n",
       "96          77% off  \n",
       "97          63% off  \n",
       "98          62% off  \n",
       "99          75% off  \n",
       "\n",
       "[100 rows x 4 columns]"
      ]
     },
     "execution_count": 90,
     "metadata": {},
     "output_type": "execute_result"
    }
   ],
   "source": [
    "sunglasses=pd.DataFrame({}) \n",
    "sunglasses['Brand Name']=brand  \n",
    "sunglasses['Description']=pd.Series(product)\n",
    "sunglasses['Price']=price\n",
    "sunglasses['Discount Percent']=discount\n",
    "sunglasses"
   ]
  },
  {
   "cell_type": "markdown",
   "metadata": {},
   "source": [
    "# Q7"
   ]
  },
  {
   "cell_type": "code",
   "execution_count": 91,
   "metadata": {},
   "outputs": [],
   "source": [
    "# connect to webdriver\n",
    "options = webdriver.ChromeOptions()\n",
    "options.add_argument(\"start-maximized\")\n",
    "driver = uc.Chrome(executable_path='chromedriver.exe', options=options)"
   ]
  },
  {
   "cell_type": "code",
   "execution_count": 92,
   "metadata": {},
   "outputs": [],
   "source": [
    "url = 'https://www.flipkart.com/apple-iphone-11-black-64-gb-includesearpods-poweradapter/p/itm0f37c2240b217?pid=MOBFKCTSVZAXUHGR&lid=LSTMOBFKCTSVZAXUHGREPBFGI&marketplace'\n",
    "driver.get(url)"
   ]
  },
  {
   "cell_type": "code",
   "execution_count": 93,
   "metadata": {},
   "outputs": [
    {
     "name": "stderr",
     "output_type": "stream",
     "text": [
      "C:\\Users\\jameel\\anaconda3\\lib\\site-packages\\selenium\\webdriver\\remote\\webdriver.py:483: UserWarning: find_element_by_* commands are deprecated. Please use find_element() instead\n",
      "  warnings.warn(\"find_element_by_* commands are deprecated. Please use find_element() instead\")\n"
     ]
    },
    {
     "data": {
      "text/plain": [
       "<selenium.webdriver.remote.webelement.WebElement (session=\"dcaa6af268103f1d4f1b2d2f879dea15\", element=\"fc617a3b-d5f9-4338-bde9-55dd2d026905\")>"
      ]
     },
     "execution_count": 93,
     "metadata": {},
     "output_type": "execute_result"
    }
   ],
   "source": [
    "All_reviews = driver.find_element_by_xpath(\"//div[@class='_3UAT2v _16PBlm']//span\")\n",
    "All_reviews"
   ]
  },
  {
   "cell_type": "code",
   "execution_count": 94,
   "metadata": {},
   "outputs": [],
   "source": [
    "All_reviews.click()"
   ]
  },
  {
   "cell_type": "code",
   "execution_count": 95,
   "metadata": {},
   "outputs": [
    {
     "name": "stderr",
     "output_type": "stream",
     "text": [
      "C:\\Users\\jameel\\anaconda3\\lib\\site-packages\\selenium\\webdriver\\remote\\webdriver.py:502: UserWarning: find_elements_by_* commands are deprecated. Please use find_elements() instead\n",
      "  warnings.warn(\"find_elements_by_* commands are deprecated. Please use find_elements() instead\")\n"
     ]
    }
   ],
   "source": [
    "#first 10 reveiws for one page\n",
    "\n",
    "product_rating = driver.find_elements_by_xpath(\"//div[@class='_3LWZlK _1BLPMq']\")\n",
    "short_reveiw = driver.find_elements_by_xpath(\"//p[@class='_2-N8zT']\")\n",
    "reveiw_full = driver.find_elements_by_xpath(\"//div[@class='t-ZTKy']\")\n",
    "\n",
    "\n",
    "rating = [] #empty list\n",
    "review_summary  = [] #empty list\n",
    "full_review = [] #empty list\n",
    "\n",
    "\n",
    "for i in product_rating:\n",
    "    rating.append(i.text)\n",
    "\n",
    "for i in short_reveiw:\n",
    "    review_summary.append(i.text)\n",
    "\n",
    "for i in reveiw_full:\n",
    "    full_review.append(i.text)\n",
    "    \n",
    "next_btn = driver.find_element_by_xpath(\"//nav[@class='yFHi8N']//a[11]\")  #Next page button\n",
    "next_btn.click()"
   ]
  },
  {
   "cell_type": "code",
   "execution_count": 96,
   "metadata": {},
   "outputs": [],
   "source": [
    "product_rating = driver.find_elements_by_xpath(\"//div[@class='_3LWZlK _1BLPMq']\")\n",
    "short_reveiw = driver.find_elements_by_xpath(\"//p[@class='_2-N8zT']\")\n",
    "reveiw_full = driver.find_elements_by_xpath(\"//div[@class='t-ZTKy']\")\n",
    "\n",
    "\n",
    "for i in product_rating:\n",
    "    rating.append(i.text)\n",
    "\n",
    "for i in short_reveiw:\n",
    "    review_summary.append(i.text)\n",
    "\n",
    "for i in reveiw_full:\n",
    "    full_review.append(i.text)\n",
    "    \n",
    "next_btn = driver.find_element_by_xpath(\"//nav[@class='yFHi8N']//a[12]\")  #Next page button\n",
    "next_btn.click()"
   ]
  },
  {
   "cell_type": "code",
   "execution_count": 97,
   "metadata": {},
   "outputs": [],
   "source": [
    "product_rating = driver.find_elements_by_xpath(\"//div[@class='_3LWZlK _1BLPMq']\")\n",
    "short_reveiw = driver.find_elements_by_xpath(\"//p[@class='_2-N8zT']\")\n",
    "reveiw_full = driver.find_elements_by_xpath(\"//div[@class='t-ZTKy']\")\n",
    "\n",
    "\n",
    "for i in product_rating:\n",
    "    rating.append(i.text)\n",
    "\n",
    "for i in short_reveiw:\n",
    "    review_summary.append(i.text)\n",
    "\n",
    "for i in reveiw_full:\n",
    "    full_review.append(i.text)\n",
    "    \n",
    "next_btn = driver.find_element_by_xpath(\"//nav[@class='yFHi8N']//a[12]\")  #Next page button\n",
    "next_btn.click()"
   ]
  },
  {
   "cell_type": "code",
   "execution_count": 98,
   "metadata": {},
   "outputs": [],
   "source": [
    "product_rating = driver.find_elements_by_xpath(\"//div[@class='_3LWZlK _1BLPMq']\")\n",
    "short_reveiw = driver.find_elements_by_xpath(\"//p[@class='_2-N8zT']\")\n",
    "reveiw_full = driver.find_elements_by_xpath(\"//div[@class='t-ZTKy']\")\n",
    "\n",
    "\n",
    "for i in product_rating:\n",
    "    rating.append(i.text)\n",
    "\n",
    "for i in short_reveiw:\n",
    "    review_summary.append(i.text)\n",
    "\n",
    "for i in reveiw_full:\n",
    "    full_review.append(i.text)\n",
    "    \n",
    "next_btn = driver.find_element_by_xpath(\"//nav[@class='yFHi8N']//a[12]\")  #Next page button\n",
    "next_btn.click()"
   ]
  },
  {
   "cell_type": "code",
   "execution_count": 99,
   "metadata": {},
   "outputs": [],
   "source": [
    "product_rating = driver.find_elements_by_xpath(\"//div[@class='_3LWZlK _1BLPMq']\")\n",
    "short_reveiw = driver.find_elements_by_xpath(\"//p[@class='_2-N8zT']\")\n",
    "reveiw_full = driver.find_elements_by_xpath(\"//div[@class='t-ZTKy']\")\n",
    "\n",
    "\n",
    "for i in product_rating:\n",
    "    rating.append(i.text)\n",
    "\n",
    "for i in short_reveiw:\n",
    "    review_summary.append(i.text)\n",
    "\n",
    "for i in reveiw_full:\n",
    "    full_review.append(i.text)\n",
    "    \n",
    "next_btn = driver.find_element_by_xpath(\"//nav[@class='yFHi8N']//a[12]\")  #Next page button\n",
    "next_btn.click()"
   ]
  },
  {
   "cell_type": "code",
   "execution_count": 100,
   "metadata": {},
   "outputs": [],
   "source": [
    "product_rating = driver.find_elements_by_xpath(\"//div[@class='_3LWZlK _1BLPMq']\")\n",
    "short_reveiw = driver.find_elements_by_xpath(\"//p[@class='_2-N8zT']\")\n",
    "reveiw_full = driver.find_elements_by_xpath(\"//div[@class='t-ZTKy']\")\n",
    "\n",
    "\n",
    "for i in product_rating:\n",
    "    rating.append(i.text)\n",
    "\n",
    "for i in short_reveiw:\n",
    "    review_summary.append(i.text)\n",
    "\n",
    "for i in reveiw_full:\n",
    "    full_review.append(i.text)\n",
    "    \n",
    "next_btn = driver.find_element_by_xpath(\"//nav[@class='yFHi8N']//a[12]\")  #Next page button\n",
    "next_btn.click()"
   ]
  },
  {
   "cell_type": "code",
   "execution_count": 101,
   "metadata": {},
   "outputs": [],
   "source": [
    "product_rating = driver.find_elements_by_xpath(\"//div[@class='_3LWZlK _1BLPMq']\")\n",
    "short_reveiw = driver.find_elements_by_xpath(\"//p[@class='_2-N8zT']\")\n",
    "reveiw_full = driver.find_elements_by_xpath(\"//div[@class='t-ZTKy']\")\n",
    "\n",
    "\n",
    "for i in product_rating:\n",
    "    rating.append(i.text)\n",
    "\n",
    "for i in short_reveiw:\n",
    "    review_summary.append(i.text)\n",
    "\n",
    "for i in reveiw_full:\n",
    "    full_review.append(i.text)\n",
    "    \n",
    "next_btn = driver.find_element_by_xpath(\"//nav[@class='yFHi8N']//a[12]\")  #Next page button\n",
    "next_btn.click()"
   ]
  },
  {
   "cell_type": "code",
   "execution_count": 102,
   "metadata": {},
   "outputs": [],
   "source": [
    "product_rating = driver.find_elements_by_xpath(\"//div[@class='_3LWZlK _1BLPMq']\")\n",
    "short_reveiw = driver.find_elements_by_xpath(\"//p[@class='_2-N8zT']\")\n",
    "reveiw_full = driver.find_elements_by_xpath(\"//div[@class='t-ZTKy']\")\n",
    "\n",
    "\n",
    "for i in product_rating:\n",
    "    rating.append(i.text)\n",
    "\n",
    "for i in short_reveiw:\n",
    "    review_summary.append(i.text)\n",
    "\n",
    "for i in reveiw_full:\n",
    "    full_review.append(i.text)\n",
    "    \n",
    "next_btn = driver.find_element_by_xpath(\"//nav[@class='yFHi8N']//a[12]\")  #Next page button\n",
    "next_btn.click()"
   ]
  },
  {
   "cell_type": "code",
   "execution_count": 103,
   "metadata": {},
   "outputs": [],
   "source": [
    "product_rating = driver.find_elements_by_xpath(\"//div[@class='_3LWZlK _1BLPMq']\")\n",
    "short_reveiw = driver.find_elements_by_xpath(\"//p[@class='_2-N8zT']\")\n",
    "reveiw_full = driver.find_elements_by_xpath(\"//div[@class='t-ZTKy']\")\n",
    "\n",
    "\n",
    "for i in product_rating:\n",
    "    rating.append(i.text)\n",
    "\n",
    "for i in short_reveiw:\n",
    "    review_summary.append(i.text)\n",
    "\n",
    "for i in reveiw_full:\n",
    "    full_review.append(i.text)\n",
    "    \n",
    "next_btn = driver.find_element_by_xpath(\"//nav[@class='yFHi8N']//a[12]\")  #Next page button\n",
    "next_btn.click()"
   ]
  },
  {
   "cell_type": "code",
   "execution_count": 104,
   "metadata": {},
   "outputs": [],
   "source": [
    "product_rating = driver.find_elements_by_xpath(\"//div[@class='_3LWZlK _1BLPMq']\")\n",
    "short_reveiw = driver.find_elements_by_xpath(\"//p[@class='_2-N8zT']\")\n",
    "reveiw_full = driver.find_elements_by_xpath(\"//div[@class='t-ZTKy']\")\n",
    "\n",
    "\n",
    "for i in product_rating:\n",
    "    rating.append(i.text)\n",
    "\n",
    "for i in short_reveiw:\n",
    "    review_summary.append(i.text)\n",
    "\n",
    "for i in reveiw_full:\n",
    "    full_review.append(i.text)\n",
    "    \n",
    "next_btn = driver.find_element_by_xpath(\"//nav[@class='yFHi8N']//a[12]\")  #Next page button\n",
    "next_btn.click()"
   ]
  },
  {
   "cell_type": "code",
   "execution_count": 105,
   "metadata": {},
   "outputs": [],
   "source": [
    "product_rating = driver.find_elements_by_xpath(\"//div[@class='_3LWZlK _1BLPMq']\")\n",
    "short_reveiw = driver.find_elements_by_xpath(\"//p[@class='_2-N8zT']\")\n",
    "reveiw_full = driver.find_elements_by_xpath(\"//div[@class='t-ZTKy']\")\n",
    "\n",
    "\n",
    "for i in product_rating[:2]:\n",
    "    rating.append(i.text)\n",
    "\n",
    "for i in short_reveiw[:2]:\n",
    "    review_summary.append(i.text)\n",
    "\n",
    "for i in reveiw_full[:2]:\n",
    "    full_review.append(i.text)"
   ]
  },
  {
   "cell_type": "code",
   "execution_count": 106,
   "metadata": {},
   "outputs": [
    {
     "data": {
      "text/html": [
       "<div>\n",
       "<style scoped>\n",
       "    .dataframe tbody tr th:only-of-type {\n",
       "        vertical-align: middle;\n",
       "    }\n",
       "\n",
       "    .dataframe tbody tr th {\n",
       "        vertical-align: top;\n",
       "    }\n",
       "\n",
       "    .dataframe thead th {\n",
       "        text-align: right;\n",
       "    }\n",
       "</style>\n",
       "<table border=\"1\" class=\"dataframe\">\n",
       "  <thead>\n",
       "    <tr style=\"text-align: right;\">\n",
       "      <th></th>\n",
       "      <th>Rating</th>\n",
       "      <th>Reveiw Summary</th>\n",
       "      <th>Full Review</th>\n",
       "    </tr>\n",
       "  </thead>\n",
       "  <tbody>\n",
       "    <tr>\n",
       "      <th>0</th>\n",
       "      <td>5</td>\n",
       "      <td>Brilliant</td>\n",
       "      <td>The Best Phone for the Money\\n\\nThe iPhone 11 ...</td>\n",
       "    </tr>\n",
       "    <tr>\n",
       "      <th>1</th>\n",
       "      <td>5</td>\n",
       "      <td>Simply awesome</td>\n",
       "      <td>Really satisfied with the Product I received.....</td>\n",
       "    </tr>\n",
       "    <tr>\n",
       "      <th>2</th>\n",
       "      <td>5</td>\n",
       "      <td>Best in the market!</td>\n",
       "      <td>Great iPhone very snappy experience as apple k...</td>\n",
       "    </tr>\n",
       "    <tr>\n",
       "      <th>3</th>\n",
       "      <td>5</td>\n",
       "      <td>Perfect product!</td>\n",
       "      <td>Amazing phone with great cameras and better ba...</td>\n",
       "    </tr>\n",
       "    <tr>\n",
       "      <th>4</th>\n",
       "      <td>5</td>\n",
       "      <td>Fabulous!</td>\n",
       "      <td>This is my first iOS phone. I am very happy wi...</td>\n",
       "    </tr>\n",
       "    <tr>\n",
       "      <th>...</th>\n",
       "      <td>...</td>\n",
       "      <td>...</td>\n",
       "      <td>...</td>\n",
       "    </tr>\n",
       "    <tr>\n",
       "      <th>95</th>\n",
       "      <td>5</td>\n",
       "      <td>Just wow!</td>\n",
       "      <td>The ultimate performance\\nCamera is superb\\nTh...</td>\n",
       "    </tr>\n",
       "    <tr>\n",
       "      <th>96</th>\n",
       "      <td>3</td>\n",
       "      <td>Terrific purchase</td>\n",
       "      <td>I use a Note10+ and have been using both iOS a...</td>\n",
       "    </tr>\n",
       "    <tr>\n",
       "      <th>97</th>\n",
       "      <td>5</td>\n",
       "      <td>Awesome</td>\n",
       "      <td>The phone is completely good\\nAs far as camera...</td>\n",
       "    </tr>\n",
       "    <tr>\n",
       "      <th>98</th>\n",
       "      <td>5</td>\n",
       "      <td>Decent product</td>\n",
       "      <td>Everything u ll like it when u use this iPhone...</td>\n",
       "    </tr>\n",
       "    <tr>\n",
       "      <th>99</th>\n",
       "      <td>5</td>\n",
       "      <td>Awesome</td>\n",
       "      <td>Can’t beat the software and hardware integrati...</td>\n",
       "    </tr>\n",
       "  </tbody>\n",
       "</table>\n",
       "<p>100 rows × 3 columns</p>\n",
       "</div>"
      ],
      "text/plain": [
       "   Rating       Reveiw Summary  \\\n",
       "0       5            Brilliant   \n",
       "1       5       Simply awesome   \n",
       "2       5  Best in the market!   \n",
       "3       5     Perfect product!   \n",
       "4       5            Fabulous!   \n",
       "..    ...                  ...   \n",
       "95      5            Just wow!   \n",
       "96      3    Terrific purchase   \n",
       "97      5              Awesome   \n",
       "98      5       Decent product   \n",
       "99      5              Awesome   \n",
       "\n",
       "                                          Full Review  \n",
       "0   The Best Phone for the Money\\n\\nThe iPhone 11 ...  \n",
       "1   Really satisfied with the Product I received.....  \n",
       "2   Great iPhone very snappy experience as apple k...  \n",
       "3   Amazing phone with great cameras and better ba...  \n",
       "4   This is my first iOS phone. I am very happy wi...  \n",
       "..                                                ...  \n",
       "95  The ultimate performance\\nCamera is superb\\nTh...  \n",
       "96  I use a Note10+ and have been using both iOS a...  \n",
       "97  The phone is completely good\\nAs far as camera...  \n",
       "98  Everything u ll like it when u use this iPhone...  \n",
       "99  Can’t beat the software and hardware integrati...  \n",
       "\n",
       "[100 rows x 3 columns]"
      ]
     },
     "execution_count": 106,
     "metadata": {},
     "output_type": "execute_result"
    }
   ],
   "source": [
    "Iphone11=pd.DataFrame({}) \n",
    "Iphone11['Rating']=rating  \n",
    "Iphone11['Reveiw Summary']=pd.Series(review_summary)\n",
    "Iphone11['Full Review']=pd.Series(full_review)\n",
    "Iphone11"
   ]
  },
  {
   "cell_type": "markdown",
   "metadata": {},
   "source": [
    "# Q8"
   ]
  },
  {
   "cell_type": "code",
   "execution_count": 107,
   "metadata": {},
   "outputs": [],
   "source": [
    "# connect to webdriver\n",
    "options = webdriver.ChromeOptions()\n",
    "options.add_argument(\"start-maximized\")\n",
    "driver = uc.Chrome(executable_path='chromedriver.exe', options=options)"
   ]
  },
  {
   "cell_type": "code",
   "execution_count": 108,
   "metadata": {},
   "outputs": [],
   "source": [
    "url = 'https://www.flipkart.com/'\n",
    "driver.get(url)"
   ]
  },
  {
   "cell_type": "code",
   "execution_count": 109,
   "metadata": {},
   "outputs": [
    {
     "name": "stderr",
     "output_type": "stream",
     "text": [
      "C:\\Users\\jameel\\anaconda3\\lib\\site-packages\\selenium\\webdriver\\remote\\webdriver.py:483: UserWarning: find_element_by_* commands are deprecated. Please use find_element() instead\n",
      "  warnings.warn(\"find_element_by_* commands are deprecated. Please use find_element() instead\")\n"
     ]
    },
    {
     "data": {
      "text/plain": [
       "<selenium.webdriver.remote.webelement.WebElement (session=\"9009fc834a8f64ec8919536de6170088\", element=\"1ea9d886-8b0b-4284-9c22-5fc09b4b2760\")>"
      ]
     },
     "execution_count": 109,
     "metadata": {},
     "output_type": "execute_result"
    }
   ],
   "source": [
    "search_product = driver.find_element_by_xpath(\"//input[@title='Search for products, brands and more']\")\n",
    "search_product"
   ]
  },
  {
   "cell_type": "code",
   "execution_count": 110,
   "metadata": {},
   "outputs": [],
   "source": [
    "search_product.send_keys(\"sneakers\")"
   ]
  },
  {
   "cell_type": "code",
   "execution_count": 111,
   "metadata": {},
   "outputs": [
    {
     "data": {
      "text/plain": [
       "<selenium.webdriver.remote.webelement.WebElement (session=\"9009fc834a8f64ec8919536de6170088\", element=\"8771ddf0-917d-4abc-9fa7-e69b26f33939\")>"
      ]
     },
     "execution_count": 111,
     "metadata": {},
     "output_type": "execute_result"
    }
   ],
   "source": [
    "search_btn = driver.find_element_by_xpath(\"//button[@class='L0Z3Pu']\")\n",
    "search_btn"
   ]
  },
  {
   "cell_type": "code",
   "execution_count": 112,
   "metadata": {},
   "outputs": [],
   "source": [
    "search_btn.click()"
   ]
  },
  {
   "cell_type": "code",
   "execution_count": 113,
   "metadata": {},
   "outputs": [
    {
     "name": "stderr",
     "output_type": "stream",
     "text": [
      "C:\\Users\\jameel\\anaconda3\\lib\\site-packages\\selenium\\webdriver\\remote\\webdriver.py:502: UserWarning: find_elements_by_* commands are deprecated. Please use find_elements() instead\n",
      "  warnings.warn(\"find_elements_by_* commands are deprecated. Please use find_elements() instead\")\n"
     ]
    }
   ],
   "source": [
    "brand_name = driver.find_elements_by_xpath(\"//div[@class='_2WkVRV']\")\n",
    "Product_desc = driver.find_elements_by_xpath(\"//a[@class='IRpwTa']\")\n",
    "prod_price = driver.find_elements_by_xpath(\"//div[@class='_30jeq3']\")\n",
    "disc_perc = driver.find_elements_by_xpath(\"//div[@class='_3Ay6Sb']\")\n",
    "\n",
    "brand = [] #empty list\n",
    "product = [] #empty list\n",
    "price = [] #empty list\n",
    "discount = [] #empty list\n",
    "\n",
    "for i in brand_name:\n",
    "    brand.append(i.text)\n",
    "\n",
    "for i in Product_desc:\n",
    "    product.append(i.text)\n",
    "\n",
    "for i in prod_price:\n",
    "    price.append(i.text)\n",
    "\n",
    "for i in disc_perc:\n",
    "    discount.append(i.text)\n",
    "    \n",
    "\n",
    "next_btn = driver.find_element_by_xpath(\"//nav[@class='yFHi8N']//a[11]\")  #Next page button\n",
    "next_btn.click()"
   ]
  },
  {
   "cell_type": "code",
   "execution_count": 114,
   "metadata": {},
   "outputs": [],
   "source": [
    "brand_name = driver.find_elements_by_xpath(\"//div[@class='_2WkVRV']\")\n",
    "Product_desc = driver.find_elements_by_xpath(\"//a[@class='IRpwTa'] \")\n",
    "prod_price = driver.find_elements_by_xpath(\"//div[@class='_30jeq3']\")\n",
    "disc_perc = driver.find_elements_by_xpath(\"//div[@class='_3Ay6Sb']\")\n",
    "\n",
    "\n",
    "for i in brand_name:\n",
    "    brand.append(i.text)\n",
    "\n",
    "for i in Product_desc:\n",
    "    product.append(i.text)\n",
    "\n",
    "for i in prod_price:\n",
    "    price.append(i.text)\n",
    "\n",
    "for i in disc_perc:\n",
    "    discount.append(i.text)\n",
    "    \n",
    "\n",
    "next_btn = driver.find_element_by_xpath(\"//nav[@class='yFHi8N']//a[12]\")  #Next page button\n",
    "next_btn.click()"
   ]
  },
  {
   "cell_type": "code",
   "execution_count": 115,
   "metadata": {},
   "outputs": [],
   "source": [
    "brand_name = driver.find_elements_by_xpath(\"//div[@class='_2WkVRV']\")\n",
    "Product_desc = driver.find_elements_by_xpath(\"//a[@class='IRpwTa']\")\n",
    "prod_price = driver.find_elements_by_xpath(\"//div[@class='_30jeq3']\")\n",
    "disc_perc = driver.find_elements_by_xpath(\"//div[@class='_3Ay6Sb']\")\n",
    "\n",
    "\n",
    "for i in brand_name[:20]:\n",
    "    brand.append(i.text)\n",
    "\n",
    "for i in Product_desc[:20]:\n",
    "    product.append(i.text)\n",
    "\n",
    "for i in prod_price[:20]:\n",
    "    price.append(i.text)\n",
    "\n",
    "for i in disc_perc[:20]:\n",
    "    discount.append(i.text)"
   ]
  },
  {
   "cell_type": "code",
   "execution_count": 116,
   "metadata": {},
   "outputs": [
    {
     "data": {
      "text/html": [
       "<div>\n",
       "<style scoped>\n",
       "    .dataframe tbody tr th:only-of-type {\n",
       "        vertical-align: middle;\n",
       "    }\n",
       "\n",
       "    .dataframe tbody tr th {\n",
       "        vertical-align: top;\n",
       "    }\n",
       "\n",
       "    .dataframe thead th {\n",
       "        text-align: right;\n",
       "    }\n",
       "</style>\n",
       "<table border=\"1\" class=\"dataframe\">\n",
       "  <thead>\n",
       "    <tr style=\"text-align: right;\">\n",
       "      <th></th>\n",
       "      <th>Brand Name</th>\n",
       "      <th>Description</th>\n",
       "      <th>Price</th>\n",
       "      <th>Discount Percent</th>\n",
       "    </tr>\n",
       "  </thead>\n",
       "  <tbody>\n",
       "    <tr>\n",
       "      <th>0</th>\n",
       "      <td>HOC</td>\n",
       "      <td>Luxury Fashionable Breathable Casual Sneakers ...</td>\n",
       "      <td>₹449</td>\n",
       "      <td>77% off</td>\n",
       "    </tr>\n",
       "    <tr>\n",
       "      <th>1</th>\n",
       "      <td>HOC</td>\n",
       "      <td>Luxury Fashionable Breathable Casual Sneakers ...</td>\n",
       "      <td>₹388</td>\n",
       "      <td>80% off</td>\n",
       "    </tr>\n",
       "    <tr>\n",
       "      <th>2</th>\n",
       "      <td>Magnolia</td>\n",
       "      <td>Sneakers For Men</td>\n",
       "      <td>₹356</td>\n",
       "      <td>64% off</td>\n",
       "    </tr>\n",
       "    <tr>\n",
       "      <th>3</th>\n",
       "      <td>Chevit</td>\n",
       "      <td>Perfect &amp; Affordable Combo Pack of 02 Pairs Sn...</td>\n",
       "      <td>₹599</td>\n",
       "      <td>66% off</td>\n",
       "    </tr>\n",
       "    <tr>\n",
       "      <th>4</th>\n",
       "      <td>BRUTON</td>\n",
       "      <td>Combo Pack Of 4 Casual Shoes Loafer Shoes Snea...</td>\n",
       "      <td>₹474</td>\n",
       "      <td>86% off</td>\n",
       "    </tr>\n",
       "    <tr>\n",
       "      <th>...</th>\n",
       "      <td>...</td>\n",
       "      <td>...</td>\n",
       "      <td>...</td>\n",
       "      <td>...</td>\n",
       "    </tr>\n",
       "    <tr>\n",
       "      <th>95</th>\n",
       "      <td>Stinson</td>\n",
       "      <td>NaN</td>\n",
       "      <td>₹494</td>\n",
       "      <td>67% off</td>\n",
       "    </tr>\n",
       "    <tr>\n",
       "      <th>96</th>\n",
       "      <td>tigonis</td>\n",
       "      <td>NaN</td>\n",
       "      <td>₹399</td>\n",
       "      <td>77% off</td>\n",
       "    </tr>\n",
       "    <tr>\n",
       "      <th>97</th>\n",
       "      <td>D-SNEAKERZ</td>\n",
       "      <td>NaN</td>\n",
       "      <td>₹346</td>\n",
       "      <td>65% off</td>\n",
       "    </tr>\n",
       "    <tr>\n",
       "      <th>98</th>\n",
       "      <td>Edoeviv</td>\n",
       "      <td>NaN</td>\n",
       "      <td>₹499</td>\n",
       "      <td>37% off</td>\n",
       "    </tr>\n",
       "    <tr>\n",
       "      <th>99</th>\n",
       "      <td>VORII</td>\n",
       "      <td>NaN</td>\n",
       "      <td>₹379</td>\n",
       "      <td>62% off</td>\n",
       "    </tr>\n",
       "  </tbody>\n",
       "</table>\n",
       "<p>100 rows × 4 columns</p>\n",
       "</div>"
      ],
      "text/plain": [
       "    Brand Name                                        Description Price  \\\n",
       "0          HOC  Luxury Fashionable Breathable Casual Sneakers ...  ₹449   \n",
       "1          HOC  Luxury Fashionable Breathable Casual Sneakers ...  ₹388   \n",
       "2     Magnolia                                   Sneakers For Men  ₹356   \n",
       "3       Chevit  Perfect & Affordable Combo Pack of 02 Pairs Sn...  ₹599   \n",
       "4       BRUTON  Combo Pack Of 4 Casual Shoes Loafer Shoes Snea...  ₹474   \n",
       "..         ...                                                ...   ...   \n",
       "95     Stinson                                                NaN  ₹494   \n",
       "96     tigonis                                                NaN  ₹399   \n",
       "97  D-SNEAKERZ                                                NaN  ₹346   \n",
       "98     Edoeviv                                                NaN  ₹499   \n",
       "99       VORII                                                NaN  ₹379   \n",
       "\n",
       "   Discount Percent  \n",
       "0           77% off  \n",
       "1           80% off  \n",
       "2           64% off  \n",
       "3           66% off  \n",
       "4           86% off  \n",
       "..              ...  \n",
       "95          67% off  \n",
       "96          77% off  \n",
       "97          65% off  \n",
       "98          37% off  \n",
       "99          62% off  \n",
       "\n",
       "[100 rows x 4 columns]"
      ]
     },
     "execution_count": 116,
     "metadata": {},
     "output_type": "execute_result"
    }
   ],
   "source": [
    "sneakers=pd.DataFrame({}) \n",
    "sneakers['Brand Name']=brand\n",
    "sneakers['Description']=pd.Series(product)\n",
    "sneakers['Price']=price\n",
    "sneakers['Discount Percent']=discount\n",
    "sneakers"
   ]
  },
  {
   "cell_type": "markdown",
   "metadata": {},
   "source": [
    "# Q9 - not completed"
   ]
  },
  {
   "cell_type": "code",
   "execution_count": 138,
   "metadata": {},
   "outputs": [],
   "source": [
    "# connect to webdriver\n",
    "options = webdriver.ChromeOptions()\n",
    "options.add_argument(\"start-maximized\")\n",
    "driver = uc.Chrome(executable_path='chromedriver.exe', options=options)"
   ]
  },
  {
   "cell_type": "code",
   "execution_count": 139,
   "metadata": {},
   "outputs": [],
   "source": [
    "#get the URL\n",
    "url = 'https://www.myntra.com/shoes'\n",
    "driver.get(url)"
   ]
  },
  {
   "cell_type": "code",
   "execution_count": 150,
   "metadata": {},
   "outputs": [
    {
     "name": "stderr",
     "output_type": "stream",
     "text": [
      "C:\\Users\\jameel\\anaconda3\\lib\\site-packages\\selenium\\webdriver\\remote\\webdriver.py:502: UserWarning: find_elements_by_* commands are deprecated. Please use find_elements() instead\n",
      "  warnings.warn(\"find_elements_by_* commands are deprecated. Please use find_elements() instead\")\n"
     ]
    }
   ],
   "source": [
    "price_filter = driver.find_elements_by_xpath(\"//lable[@class='common-customCheckbox vertical-filters-label']//input\")\n",
    "\n",
    "for i in color_filter:\n",
    "    if i.text == 'Rs. 6935 to Rs. 13621':\n",
    "        i.click()\n",
    "        break\n"
   ]
  },
  {
   "cell_type": "code",
   "execution_count": 151,
   "metadata": {},
   "outputs": [],
   "source": [
    "color_filter = driver.find_elements_by_xpath(\"//label[@class='common-customCheckbox']//span\")\n",
    "\n",
    "for i in color_filter:\n",
    "    if i.text == 'Black':\n",
    "        i.click()\n",
    "        break"
   ]
  },
  {
   "cell_type": "code",
   "execution_count": 152,
   "metadata": {},
   "outputs": [
    {
     "data": {
      "text/plain": [
       "['Puma',\n",
       " 'Puma',\n",
       " 'Hush Puppies',\n",
       " 'Hush Puppies',\n",
       " 'Puma',\n",
       " 'Puma',\n",
       " 'Puma',\n",
       " 'Puma',\n",
       " 'UNDER ARMOUR',\n",
       " 'UNDER ARMOUR',\n",
       " 'Puma',\n",
       " 'ROSSO BRUNELLO',\n",
       " 'Hush Puppies',\n",
       " 'Puma',\n",
       " 'Nike',\n",
       " 'Puma',\n",
       " 'Tommy Hilfiger',\n",
       " 'UNDER ARMOUR',\n",
       " 'Hush Puppies',\n",
       " 'UNDER ARMOUR',\n",
       " 'Tommy Hilfiger',\n",
       " 'Calvin Klein',\n",
       " 'FORCLAZ By Decathlon',\n",
       " 'UNDER ARMOUR',\n",
       " 'PUMA Motorsport',\n",
       " 'J.FONTINI',\n",
       " 'UNDER ARMOUR',\n",
       " 'ASICS',\n",
       " 'Hush Puppies',\n",
       " 'PUMA Motorsport',\n",
       " 'Quechua By Decathlon',\n",
       " 'Puma',\n",
       " 'Bugatti',\n",
       " 'ASICS',\n",
       " 'PUMA Hoops',\n",
       " 'Tommy Hilfiger',\n",
       " 'Puma',\n",
       " 'Puma',\n",
       " 'UNDER ARMOUR',\n",
       " 'Puma',\n",
       " 'PUMA Motorsport',\n",
       " 'Puma',\n",
       " 'PUMA Motorsport',\n",
       " 'J.FONTINI',\n",
       " 'ROSSO BRUNELLO',\n",
       " 'Saint G',\n",
       " 'Geox',\n",
       " 'Geox',\n",
       " 'ASICS',\n",
       " 'J.FONTINI']"
      ]
     },
     "execution_count": 152,
     "metadata": {},
     "output_type": "execute_result"
    }
   ],
   "source": [
    "brand_name = driver.find_elements_by_xpath(\"//h3[@class='product-brand']\")\n",
    "Product_desc = driver.find_elements_by_xpath(\"//h4[@class='product-product']\")\n",
    "prod_price = driver.find_elements_by_xpath(\"//div[@class='product-price']//span[1] or \")\n",
    "\n",
    "brand = [] #empty list\n",
    "product = [] #empty list\n",
    "price = [] #empty list\n",
    "\n",
    "for i in brand_name:\n",
    "    brand.append(i.text)\n",
    "\n",
    "brand"
   ]
  },
  {
   "cell_type": "code",
   "execution_count": 153,
   "metadata": {},
   "outputs": [
    {
     "data": {
      "text/plain": [
       "['Men BlackTraining or Gym Shoes',\n",
       " 'Men Cell Fraction Fade Running',\n",
       " 'Men Solid Leather Formal Slip-Ons',\n",
       " 'Men Solid Leather Formal Slip-Ons',\n",
       " 'Mesh Hybrid Fuego Running',\n",
       " 'Men FUSE Training Shoes',\n",
       " 'Women Deviate Nitro Running',\n",
       " 'Men Velocity Nitro Running',\n",
       " 'Women HOVR Sonic 4 Running',\n",
       " 'Men HOVR Infinite Running',\n",
       " 'Men Football Shoes',\n",
       " 'Men Leather Formal Loafers',\n",
       " 'Men Leather Slip-On Sneakers',\n",
       " 'Men Black Shoes',\n",
       " \"Men BlazerLow '77 Sneakers\",\n",
       " 'Women Eternity Nitro Running',\n",
       " 'Men Striped Leather Sneakers',\n",
       " 'Women HOVR Sonic 4 FnRn',\n",
       " 'Men Formal Derbys',\n",
       " 'Men HOVR Sonic STRT Tech Shoes',\n",
       " 'Men Leather Sneakers',\n",
       " 'Men Loafers',\n",
       " 'TREKKING 100 Boots',\n",
       " 'Women Charged Vantage ClrShft',\n",
       " 'Unisex FerrariRS-Fast Sneakers',\n",
       " 'Men Solid Loafers',\n",
       " 'Women Charged Assert 8 Running',\n",
       " 'Women GlideRide Running Shoes',\n",
       " 'Men Solid Leather Formal Derbys',\n",
       " 'Unisex Ferrari Drift8 Sneakers',\n",
       " 'Men Trekking Shoes',\n",
       " 'Men Liberate NITRO Running',\n",
       " 'Men Running Shoes',\n",
       " 'Women Running Shoes',\n",
       " 'Unisex Clyde Basketball Shoes',\n",
       " 'Men Lightweight Sneakers',\n",
       " 'Unisex RS-Z Running Shoes',\n",
       " 'Women Provoke XT FTR Shoes',\n",
       " 'Women Charged Bandit 6 Running',\n",
       " 'Unisex Leather Trainers',\n",
       " 'Scuderia Ferrari A3ROCAT Shoes',\n",
       " 'Unisex Colourblocked Sneakers',\n",
       " 'Mercedes F1 Drift Cat Shoes',\n",
       " 'Men Black Leather Loafers',\n",
       " 'Men Solid Leather Formal Monk Shoes',\n",
       " 'Leather Block Sandals',\n",
       " 'Men Printed Slip-On Sneakers',\n",
       " 'Men Solid Sneakers',\n",
       " 'Women GlideRide Running Shoes',\n",
       " 'Men Solid Leather Formal Derbys']"
      ]
     },
     "execution_count": 153,
     "metadata": {},
     "output_type": "execute_result"
    }
   ],
   "source": [
    "for i in Product_desc:\n",
    "    product.append(i.text)\n",
    "    \n",
    "product"
   ]
  },
  {
   "cell_type": "code",
   "execution_count": 154,
   "metadata": {},
   "outputs": [
    {
     "data": {
      "text/plain": [
       "['Rs. 6999',\n",
       " 'Rs. 6999',\n",
       " 'Rs. 8099Rs. 8999',\n",
       " 'Rs. 8099',\n",
       " 'Rs. 8999Rs. 9999',\n",
       " 'Rs. 8999',\n",
       " 'Rs. 6999',\n",
       " 'Rs. 7999',\n",
       " 'Rs. 8999Rs. 14999',\n",
       " 'Rs. 8999',\n",
       " 'Rs. 10999',\n",
       " 'Rs. 7149Rs. 10999',\n",
       " 'Rs. 7149',\n",
       " 'Rs. 11999',\n",
       " 'Rs. 12749Rs. 16999',\n",
       " 'Rs. 12749',\n",
       " 'Rs. 12999',\n",
       " 'Rs. 6999Rs. 9999',\n",
       " 'Rs. 6999',\n",
       " 'Rs. 6999',\n",
       " 'Rs. 7195',\n",
       " 'Rs. 7149Rs. 12999',\n",
       " 'Rs. 7149',\n",
       " 'Rs. 7599',\n",
       " 'Rs. 10999',\n",
       " 'Rs. 8999Rs. 9999',\n",
       " 'Rs. 8999',\n",
       " 'Rs. 9999',\n",
       " 'Rs. 6999',\n",
       " 'Rs. 7649Rs. 8999',\n",
       " 'Rs. 7649',\n",
       " 'Rs. 6999',\n",
       " 'Rs. 7999',\n",
       " 'Rs. 9999',\n",
       " 'Rs. 8990',\n",
       " 'Rs. 6999',\n",
       " 'Rs. 11199Rs. 13999',\n",
       " 'Rs. 11199',\n",
       " 'Rs. 8999Rs. 9999',\n",
       " 'Rs. 8999',\n",
       " 'Rs. 7999',\n",
       " 'Rs. 9999',\n",
       " 'Rs. 9999',\n",
       " 'Rs. 9999',\n",
       " 'Rs. 8999',\n",
       " 'Rs. 8999',\n",
       " 'Rs. 6999',\n",
       " 'Rs. 9999',\n",
       " 'Rs. 7499',\n",
       " 'Rs. 8999',\n",
       " 'Rs. 9999',\n",
       " 'Rs. 7999',\n",
       " 'Rs. 6999',\n",
       " 'Rs. 7999',\n",
       " 'Rs. 8490',\n",
       " 'Rs. 12999',\n",
       " 'Rs. 10355Rs. 10900',\n",
       " 'Rs. 10355',\n",
       " 'Rs. 10999',\n",
       " 'Rs. 9999',\n",
       " 'Rs. 11199Rs. 13999',\n",
       " 'Rs. 11199',\n",
       " 'Rs. 6990']"
      ]
     },
     "execution_count": 154,
     "metadata": {},
     "output_type": "execute_result"
    }
   ],
   "source": [
    "for i in prod_price:\n",
    "    price.append(i.text)\n",
    "    \n",
    "price"
   ]
  },
  {
   "cell_type": "code",
   "execution_count": 155,
   "metadata": {},
   "outputs": [
    {
     "data": {
      "text/html": [
       "<div>\n",
       "<style scoped>\n",
       "    .dataframe tbody tr th:only-of-type {\n",
       "        vertical-align: middle;\n",
       "    }\n",
       "\n",
       "    .dataframe tbody tr th {\n",
       "        vertical-align: top;\n",
       "    }\n",
       "\n",
       "    .dataframe thead th {\n",
       "        text-align: right;\n",
       "    }\n",
       "</style>\n",
       "<table border=\"1\" class=\"dataframe\">\n",
       "  <thead>\n",
       "    <tr style=\"text-align: right;\">\n",
       "      <th></th>\n",
       "      <th>Brand Name</th>\n",
       "      <th>Description</th>\n",
       "      <th>Price</th>\n",
       "    </tr>\n",
       "  </thead>\n",
       "  <tbody>\n",
       "    <tr>\n",
       "      <th>0</th>\n",
       "      <td>Puma</td>\n",
       "      <td>Men BlackTraining or Gym Shoes</td>\n",
       "      <td>Rs. 6999</td>\n",
       "    </tr>\n",
       "    <tr>\n",
       "      <th>1</th>\n",
       "      <td>Puma</td>\n",
       "      <td>Men Cell Fraction Fade Running</td>\n",
       "      <td>Rs. 6999</td>\n",
       "    </tr>\n",
       "    <tr>\n",
       "      <th>2</th>\n",
       "      <td>Hush Puppies</td>\n",
       "      <td>Men Solid Leather Formal Slip-Ons</td>\n",
       "      <td>Rs. 8099Rs. 8999</td>\n",
       "    </tr>\n",
       "    <tr>\n",
       "      <th>3</th>\n",
       "      <td>Hush Puppies</td>\n",
       "      <td>Men Solid Leather Formal Slip-Ons</td>\n",
       "      <td>Rs. 8099</td>\n",
       "    </tr>\n",
       "    <tr>\n",
       "      <th>4</th>\n",
       "      <td>Puma</td>\n",
       "      <td>Mesh Hybrid Fuego Running</td>\n",
       "      <td>Rs. 8999Rs. 9999</td>\n",
       "    </tr>\n",
       "    <tr>\n",
       "      <th>5</th>\n",
       "      <td>Puma</td>\n",
       "      <td>Men FUSE Training Shoes</td>\n",
       "      <td>Rs. 8999</td>\n",
       "    </tr>\n",
       "    <tr>\n",
       "      <th>6</th>\n",
       "      <td>Puma</td>\n",
       "      <td>Women Deviate Nitro Running</td>\n",
       "      <td>Rs. 6999</td>\n",
       "    </tr>\n",
       "    <tr>\n",
       "      <th>7</th>\n",
       "      <td>Puma</td>\n",
       "      <td>Men Velocity Nitro Running</td>\n",
       "      <td>Rs. 7999</td>\n",
       "    </tr>\n",
       "    <tr>\n",
       "      <th>8</th>\n",
       "      <td>UNDER ARMOUR</td>\n",
       "      <td>Women HOVR Sonic 4 Running</td>\n",
       "      <td>Rs. 8999Rs. 14999</td>\n",
       "    </tr>\n",
       "    <tr>\n",
       "      <th>9</th>\n",
       "      <td>UNDER ARMOUR</td>\n",
       "      <td>Men HOVR Infinite Running</td>\n",
       "      <td>Rs. 8999</td>\n",
       "    </tr>\n",
       "    <tr>\n",
       "      <th>10</th>\n",
       "      <td>Puma</td>\n",
       "      <td>Men Football Shoes</td>\n",
       "      <td>Rs. 10999</td>\n",
       "    </tr>\n",
       "    <tr>\n",
       "      <th>11</th>\n",
       "      <td>ROSSO BRUNELLO</td>\n",
       "      <td>Men Leather Formal Loafers</td>\n",
       "      <td>Rs. 7149Rs. 10999</td>\n",
       "    </tr>\n",
       "    <tr>\n",
       "      <th>12</th>\n",
       "      <td>Hush Puppies</td>\n",
       "      <td>Men Leather Slip-On Sneakers</td>\n",
       "      <td>Rs. 7149</td>\n",
       "    </tr>\n",
       "    <tr>\n",
       "      <th>13</th>\n",
       "      <td>Puma</td>\n",
       "      <td>Men Black Shoes</td>\n",
       "      <td>Rs. 11999</td>\n",
       "    </tr>\n",
       "    <tr>\n",
       "      <th>14</th>\n",
       "      <td>Nike</td>\n",
       "      <td>Men BlazerLow '77 Sneakers</td>\n",
       "      <td>Rs. 12749Rs. 16999</td>\n",
       "    </tr>\n",
       "    <tr>\n",
       "      <th>15</th>\n",
       "      <td>Puma</td>\n",
       "      <td>Women Eternity Nitro Running</td>\n",
       "      <td>Rs. 12749</td>\n",
       "    </tr>\n",
       "    <tr>\n",
       "      <th>16</th>\n",
       "      <td>Tommy Hilfiger</td>\n",
       "      <td>Men Striped Leather Sneakers</td>\n",
       "      <td>Rs. 12999</td>\n",
       "    </tr>\n",
       "    <tr>\n",
       "      <th>17</th>\n",
       "      <td>UNDER ARMOUR</td>\n",
       "      <td>Women HOVR Sonic 4 FnRn</td>\n",
       "      <td>Rs. 6999Rs. 9999</td>\n",
       "    </tr>\n",
       "    <tr>\n",
       "      <th>18</th>\n",
       "      <td>Hush Puppies</td>\n",
       "      <td>Men Formal Derbys</td>\n",
       "      <td>Rs. 6999</td>\n",
       "    </tr>\n",
       "    <tr>\n",
       "      <th>19</th>\n",
       "      <td>UNDER ARMOUR</td>\n",
       "      <td>Men HOVR Sonic STRT Tech Shoes</td>\n",
       "      <td>Rs. 6999</td>\n",
       "    </tr>\n",
       "    <tr>\n",
       "      <th>20</th>\n",
       "      <td>Tommy Hilfiger</td>\n",
       "      <td>Men Leather Sneakers</td>\n",
       "      <td>Rs. 7195</td>\n",
       "    </tr>\n",
       "    <tr>\n",
       "      <th>21</th>\n",
       "      <td>Calvin Klein</td>\n",
       "      <td>Men Loafers</td>\n",
       "      <td>Rs. 7149Rs. 12999</td>\n",
       "    </tr>\n",
       "    <tr>\n",
       "      <th>22</th>\n",
       "      <td>FORCLAZ By Decathlon</td>\n",
       "      <td>TREKKING 100 Boots</td>\n",
       "      <td>Rs. 7149</td>\n",
       "    </tr>\n",
       "    <tr>\n",
       "      <th>23</th>\n",
       "      <td>UNDER ARMOUR</td>\n",
       "      <td>Women Charged Vantage ClrShft</td>\n",
       "      <td>Rs. 7599</td>\n",
       "    </tr>\n",
       "    <tr>\n",
       "      <th>24</th>\n",
       "      <td>PUMA Motorsport</td>\n",
       "      <td>Unisex FerrariRS-Fast Sneakers</td>\n",
       "      <td>Rs. 10999</td>\n",
       "    </tr>\n",
       "    <tr>\n",
       "      <th>25</th>\n",
       "      <td>J.FONTINI</td>\n",
       "      <td>Men Solid Loafers</td>\n",
       "      <td>Rs. 8999Rs. 9999</td>\n",
       "    </tr>\n",
       "    <tr>\n",
       "      <th>26</th>\n",
       "      <td>UNDER ARMOUR</td>\n",
       "      <td>Women Charged Assert 8 Running</td>\n",
       "      <td>Rs. 8999</td>\n",
       "    </tr>\n",
       "    <tr>\n",
       "      <th>27</th>\n",
       "      <td>ASICS</td>\n",
       "      <td>Women GlideRide Running Shoes</td>\n",
       "      <td>Rs. 9999</td>\n",
       "    </tr>\n",
       "    <tr>\n",
       "      <th>28</th>\n",
       "      <td>Hush Puppies</td>\n",
       "      <td>Men Solid Leather Formal Derbys</td>\n",
       "      <td>Rs. 6999</td>\n",
       "    </tr>\n",
       "    <tr>\n",
       "      <th>29</th>\n",
       "      <td>PUMA Motorsport</td>\n",
       "      <td>Unisex Ferrari Drift8 Sneakers</td>\n",
       "      <td>Rs. 7649Rs. 8999</td>\n",
       "    </tr>\n",
       "    <tr>\n",
       "      <th>30</th>\n",
       "      <td>Quechua By Decathlon</td>\n",
       "      <td>Men Trekking Shoes</td>\n",
       "      <td>Rs. 7649</td>\n",
       "    </tr>\n",
       "    <tr>\n",
       "      <th>31</th>\n",
       "      <td>Puma</td>\n",
       "      <td>Men Liberate NITRO Running</td>\n",
       "      <td>Rs. 6999</td>\n",
       "    </tr>\n",
       "    <tr>\n",
       "      <th>32</th>\n",
       "      <td>Bugatti</td>\n",
       "      <td>Men Running Shoes</td>\n",
       "      <td>Rs. 7999</td>\n",
       "    </tr>\n",
       "    <tr>\n",
       "      <th>33</th>\n",
       "      <td>ASICS</td>\n",
       "      <td>Women Running Shoes</td>\n",
       "      <td>Rs. 9999</td>\n",
       "    </tr>\n",
       "    <tr>\n",
       "      <th>34</th>\n",
       "      <td>PUMA Hoops</td>\n",
       "      <td>Unisex Clyde Basketball Shoes</td>\n",
       "      <td>Rs. 8990</td>\n",
       "    </tr>\n",
       "    <tr>\n",
       "      <th>35</th>\n",
       "      <td>Tommy Hilfiger</td>\n",
       "      <td>Men Lightweight Sneakers</td>\n",
       "      <td>Rs. 6999</td>\n",
       "    </tr>\n",
       "    <tr>\n",
       "      <th>36</th>\n",
       "      <td>Puma</td>\n",
       "      <td>Unisex RS-Z Running Shoes</td>\n",
       "      <td>Rs. 11199Rs. 13999</td>\n",
       "    </tr>\n",
       "    <tr>\n",
       "      <th>37</th>\n",
       "      <td>Puma</td>\n",
       "      <td>Women Provoke XT FTR Shoes</td>\n",
       "      <td>Rs. 11199</td>\n",
       "    </tr>\n",
       "    <tr>\n",
       "      <th>38</th>\n",
       "      <td>UNDER ARMOUR</td>\n",
       "      <td>Women Charged Bandit 6 Running</td>\n",
       "      <td>Rs. 8999Rs. 9999</td>\n",
       "    </tr>\n",
       "    <tr>\n",
       "      <th>39</th>\n",
       "      <td>Puma</td>\n",
       "      <td>Unisex Leather Trainers</td>\n",
       "      <td>Rs. 8999</td>\n",
       "    </tr>\n",
       "    <tr>\n",
       "      <th>40</th>\n",
       "      <td>PUMA Motorsport</td>\n",
       "      <td>Scuderia Ferrari A3ROCAT Shoes</td>\n",
       "      <td>Rs. 7999</td>\n",
       "    </tr>\n",
       "    <tr>\n",
       "      <th>41</th>\n",
       "      <td>Puma</td>\n",
       "      <td>Unisex Colourblocked Sneakers</td>\n",
       "      <td>Rs. 9999</td>\n",
       "    </tr>\n",
       "    <tr>\n",
       "      <th>42</th>\n",
       "      <td>PUMA Motorsport</td>\n",
       "      <td>Mercedes F1 Drift Cat Shoes</td>\n",
       "      <td>Rs. 9999</td>\n",
       "    </tr>\n",
       "    <tr>\n",
       "      <th>43</th>\n",
       "      <td>J.FONTINI</td>\n",
       "      <td>Men Black Leather Loafers</td>\n",
       "      <td>Rs. 9999</td>\n",
       "    </tr>\n",
       "    <tr>\n",
       "      <th>44</th>\n",
       "      <td>ROSSO BRUNELLO</td>\n",
       "      <td>Men Solid Leather Formal Monk Shoes</td>\n",
       "      <td>Rs. 8999</td>\n",
       "    </tr>\n",
       "    <tr>\n",
       "      <th>45</th>\n",
       "      <td>Saint G</td>\n",
       "      <td>Leather Block Sandals</td>\n",
       "      <td>Rs. 8999</td>\n",
       "    </tr>\n",
       "    <tr>\n",
       "      <th>46</th>\n",
       "      <td>Geox</td>\n",
       "      <td>Men Printed Slip-On Sneakers</td>\n",
       "      <td>Rs. 6999</td>\n",
       "    </tr>\n",
       "    <tr>\n",
       "      <th>47</th>\n",
       "      <td>Geox</td>\n",
       "      <td>Men Solid Sneakers</td>\n",
       "      <td>Rs. 9999</td>\n",
       "    </tr>\n",
       "    <tr>\n",
       "      <th>48</th>\n",
       "      <td>ASICS</td>\n",
       "      <td>Women GlideRide Running Shoes</td>\n",
       "      <td>Rs. 7499</td>\n",
       "    </tr>\n",
       "    <tr>\n",
       "      <th>49</th>\n",
       "      <td>J.FONTINI</td>\n",
       "      <td>Men Solid Leather Formal Derbys</td>\n",
       "      <td>Rs. 8999</td>\n",
       "    </tr>\n",
       "  </tbody>\n",
       "</table>\n",
       "</div>"
      ],
      "text/plain": [
       "              Brand Name                          Description  \\\n",
       "0                   Puma       Men BlackTraining or Gym Shoes   \n",
       "1                   Puma       Men Cell Fraction Fade Running   \n",
       "2           Hush Puppies    Men Solid Leather Formal Slip-Ons   \n",
       "3           Hush Puppies    Men Solid Leather Formal Slip-Ons   \n",
       "4                   Puma            Mesh Hybrid Fuego Running   \n",
       "5                   Puma              Men FUSE Training Shoes   \n",
       "6                   Puma          Women Deviate Nitro Running   \n",
       "7                   Puma           Men Velocity Nitro Running   \n",
       "8           UNDER ARMOUR           Women HOVR Sonic 4 Running   \n",
       "9           UNDER ARMOUR            Men HOVR Infinite Running   \n",
       "10                  Puma                   Men Football Shoes   \n",
       "11        ROSSO BRUNELLO           Men Leather Formal Loafers   \n",
       "12          Hush Puppies         Men Leather Slip-On Sneakers   \n",
       "13                  Puma                      Men Black Shoes   \n",
       "14                  Nike           Men BlazerLow '77 Sneakers   \n",
       "15                  Puma         Women Eternity Nitro Running   \n",
       "16        Tommy Hilfiger         Men Striped Leather Sneakers   \n",
       "17          UNDER ARMOUR              Women HOVR Sonic 4 FnRn   \n",
       "18          Hush Puppies                    Men Formal Derbys   \n",
       "19          UNDER ARMOUR       Men HOVR Sonic STRT Tech Shoes   \n",
       "20        Tommy Hilfiger                 Men Leather Sneakers   \n",
       "21          Calvin Klein                          Men Loafers   \n",
       "22  FORCLAZ By Decathlon                   TREKKING 100 Boots   \n",
       "23          UNDER ARMOUR        Women Charged Vantage ClrShft   \n",
       "24       PUMA Motorsport       Unisex FerrariRS-Fast Sneakers   \n",
       "25             J.FONTINI                    Men Solid Loafers   \n",
       "26          UNDER ARMOUR       Women Charged Assert 8 Running   \n",
       "27                 ASICS        Women GlideRide Running Shoes   \n",
       "28          Hush Puppies      Men Solid Leather Formal Derbys   \n",
       "29       PUMA Motorsport       Unisex Ferrari Drift8 Sneakers   \n",
       "30  Quechua By Decathlon                   Men Trekking Shoes   \n",
       "31                  Puma           Men Liberate NITRO Running   \n",
       "32               Bugatti                    Men Running Shoes   \n",
       "33                 ASICS                  Women Running Shoes   \n",
       "34            PUMA Hoops        Unisex Clyde Basketball Shoes   \n",
       "35        Tommy Hilfiger             Men Lightweight Sneakers   \n",
       "36                  Puma            Unisex RS-Z Running Shoes   \n",
       "37                  Puma           Women Provoke XT FTR Shoes   \n",
       "38          UNDER ARMOUR       Women Charged Bandit 6 Running   \n",
       "39                  Puma              Unisex Leather Trainers   \n",
       "40       PUMA Motorsport       Scuderia Ferrari A3ROCAT Shoes   \n",
       "41                  Puma        Unisex Colourblocked Sneakers   \n",
       "42       PUMA Motorsport          Mercedes F1 Drift Cat Shoes   \n",
       "43             J.FONTINI            Men Black Leather Loafers   \n",
       "44        ROSSO BRUNELLO  Men Solid Leather Formal Monk Shoes   \n",
       "45               Saint G                Leather Block Sandals   \n",
       "46                  Geox         Men Printed Slip-On Sneakers   \n",
       "47                  Geox                   Men Solid Sneakers   \n",
       "48                 ASICS        Women GlideRide Running Shoes   \n",
       "49             J.FONTINI      Men Solid Leather Formal Derbys   \n",
       "\n",
       "                 Price  \n",
       "0             Rs. 6999  \n",
       "1             Rs. 6999  \n",
       "2     Rs. 8099Rs. 8999  \n",
       "3             Rs. 8099  \n",
       "4     Rs. 8999Rs. 9999  \n",
       "5             Rs. 8999  \n",
       "6             Rs. 6999  \n",
       "7             Rs. 7999  \n",
       "8    Rs. 8999Rs. 14999  \n",
       "9             Rs. 8999  \n",
       "10           Rs. 10999  \n",
       "11   Rs. 7149Rs. 10999  \n",
       "12            Rs. 7149  \n",
       "13           Rs. 11999  \n",
       "14  Rs. 12749Rs. 16999  \n",
       "15           Rs. 12749  \n",
       "16           Rs. 12999  \n",
       "17    Rs. 6999Rs. 9999  \n",
       "18            Rs. 6999  \n",
       "19            Rs. 6999  \n",
       "20            Rs. 7195  \n",
       "21   Rs. 7149Rs. 12999  \n",
       "22            Rs. 7149  \n",
       "23            Rs. 7599  \n",
       "24           Rs. 10999  \n",
       "25    Rs. 8999Rs. 9999  \n",
       "26            Rs. 8999  \n",
       "27            Rs. 9999  \n",
       "28            Rs. 6999  \n",
       "29    Rs. 7649Rs. 8999  \n",
       "30            Rs. 7649  \n",
       "31            Rs. 6999  \n",
       "32            Rs. 7999  \n",
       "33            Rs. 9999  \n",
       "34            Rs. 8990  \n",
       "35            Rs. 6999  \n",
       "36  Rs. 11199Rs. 13999  \n",
       "37           Rs. 11199  \n",
       "38    Rs. 8999Rs. 9999  \n",
       "39            Rs. 8999  \n",
       "40            Rs. 7999  \n",
       "41            Rs. 9999  \n",
       "42            Rs. 9999  \n",
       "43            Rs. 9999  \n",
       "44            Rs. 8999  \n",
       "45            Rs. 8999  \n",
       "46            Rs. 6999  \n",
       "47            Rs. 9999  \n",
       "48            Rs. 7499  \n",
       "49            Rs. 8999  "
      ]
     },
     "execution_count": 155,
     "metadata": {},
     "output_type": "execute_result"
    }
   ],
   "source": [
    "sneakers=pd.DataFrame({}) \n",
    "sneakers['Brand Name']=brand\n",
    "sneakers['Description']=pd.Series(product)\n",
    "sneakers['Price']=pd.Series(price)\n",
    "sneakers"
   ]
  },
  {
   "cell_type": "markdown",
   "metadata": {},
   "source": [
    "# Q10"
   ]
  },
  {
   "cell_type": "code",
   "execution_count": 123,
   "metadata": {},
   "outputs": [],
   "source": [
    "# connect to webdriver\n",
    "options = webdriver.ChromeOptions()\n",
    "options.add_argument(\"start-maximized\")\n",
    "driver = uc.Chrome(executable_path='chromedriver.exe', options=options)"
   ]
  },
  {
   "cell_type": "code",
   "execution_count": 124,
   "metadata": {},
   "outputs": [],
   "source": [
    "url = 'https://www.amazon.in/'\n",
    "driver.get(url)"
   ]
  },
  {
   "cell_type": "code",
   "execution_count": 125,
   "metadata": {},
   "outputs": [
    {
     "data": {
      "text/plain": [
       "<selenium.webdriver.remote.webelement.WebElement (session=\"df22689f400212fc099c4a271f93f180\", element=\"d0c1614c-faea-412a-806f-4f3a2696fb13\")>"
      ]
     },
     "execution_count": 125,
     "metadata": {},
     "output_type": "execute_result"
    }
   ],
   "source": [
    "search_tag = driver.find_element_by_xpath(\"//input[@id='twotabsearchtextbox']\")\n",
    "search_tag"
   ]
  },
  {
   "cell_type": "code",
   "execution_count": 126,
   "metadata": {},
   "outputs": [],
   "source": [
    "search_tag.send_keys(\"Laptop\")"
   ]
  },
  {
   "cell_type": "code",
   "execution_count": 127,
   "metadata": {},
   "outputs": [
    {
     "data": {
      "text/plain": [
       "<selenium.webdriver.remote.webelement.WebElement (session=\"df22689f400212fc099c4a271f93f180\", element=\"23897153-2b0f-4327-81e3-0a00740e83c2\")>"
      ]
     },
     "execution_count": 127,
     "metadata": {},
     "output_type": "execute_result"
    }
   ],
   "source": [
    "search_btn = driver.find_element_by_xpath(\"//input[@id='nav-search-submit-button']\")\n",
    "search_btn"
   ]
  },
  {
   "cell_type": "code",
   "execution_count": 128,
   "metadata": {},
   "outputs": [],
   "source": [
    "search_btn.click()"
   ]
  },
  {
   "cell_type": "code",
   "execution_count": 129,
   "metadata": {},
   "outputs": [],
   "source": [
    "filter_button = driver.find_elements_by_xpath(\"//a[@class='a-link-normal s-navigation-item']//span\")\n",
    "\n",
    "for i in filter_button:\n",
    "    if i.text == 'Intel Core i7':\n",
    "        i.click()\n",
    "        break"
   ]
  },
  {
   "cell_type": "code",
   "execution_count": 130,
   "metadata": {},
   "outputs": [],
   "source": [
    "filter_button = driver.find_elements_by_xpath(\"//a[@class='a-link-normal s-navigation-item']//span\")\n",
    "\n",
    "for i in filter_button:\n",
    "    if i.text == 'Intel Core i9':\n",
    "        i.click()\n",
    "        break"
   ]
  },
  {
   "cell_type": "code",
   "execution_count": 131,
   "metadata": {},
   "outputs": [],
   "source": [
    "title_details = driver.find_elements_by_xpath(\"//span[@class='a-size-medium a-color-base a-text-normal']\")\n",
    "Product_rating = driver.find_elements_by_xpath(\"//span[@class='a-icon-alt']\")\n",
    "prod_price = driver.find_elements_by_xpath(\"//span[@class='a-price-whole']\")\n",
    "\n",
    "title = []\n",
    "ratings = []\n",
    "price = []\n",
    "\n",
    "for i in title_details:\n",
    "    title.append(i.text)\n"
   ]
  },
  {
   "cell_type": "code",
   "execution_count": 132,
   "metadata": {},
   "outputs": [],
   "source": [
    "for i in Product_rating:\n",
    "    ratings.append(i.text)\n",
    "    "
   ]
  },
  {
   "cell_type": "code",
   "execution_count": 133,
   "metadata": {},
   "outputs": [],
   "source": [
    "for i in prod_price:\n",
    "    price.append(i.text)\n",
    "    "
   ]
  },
  {
   "cell_type": "code",
   "execution_count": 134,
   "metadata": {},
   "outputs": [
    {
     "data": {
      "text/html": [
       "<div>\n",
       "<style scoped>\n",
       "    .dataframe tbody tr th:only-of-type {\n",
       "        vertical-align: middle;\n",
       "    }\n",
       "\n",
       "    .dataframe tbody tr th {\n",
       "        vertical-align: top;\n",
       "    }\n",
       "\n",
       "    .dataframe thead th {\n",
       "        text-align: right;\n",
       "    }\n",
       "</style>\n",
       "<table border=\"1\" class=\"dataframe\">\n",
       "  <thead>\n",
       "    <tr style=\"text-align: right;\">\n",
       "      <th></th>\n",
       "      <th>Brand Name</th>\n",
       "      <th>Rating</th>\n",
       "      <th>Price</th>\n",
       "    </tr>\n",
       "  </thead>\n",
       "  <tbody>\n",
       "    <tr>\n",
       "      <th>0</th>\n",
       "      <td>ASUS TUF Dash F15 (2021), 15.6\" (39.62 cms) FH...</td>\n",
       "      <td></td>\n",
       "      <td>95,990</td>\n",
       "    </tr>\n",
       "    <tr>\n",
       "      <th>1</th>\n",
       "      <td>HP Envy 11th Gen Core i7 Processor 13.3-inch (...</td>\n",
       "      <td></td>\n",
       "      <td>1,23,350</td>\n",
       "    </tr>\n",
       "    <tr>\n",
       "      <th>2</th>\n",
       "      <td>Mi Notebook Horizon Edition 14 Intel Core i7-1...</td>\n",
       "      <td></td>\n",
       "      <td>57,990</td>\n",
       "    </tr>\n",
       "    <tr>\n",
       "      <th>3</th>\n",
       "      <td>Lenovo IdeaPad S540 11th Gen Intel Core i7 13....</td>\n",
       "      <td></td>\n",
       "      <td>77,990</td>\n",
       "    </tr>\n",
       "    <tr>\n",
       "      <th>4</th>\n",
       "      <td>HP Pavilion Gaming 11th Gen Intel Core i7 15.6...</td>\n",
       "      <td></td>\n",
       "      <td>89,990</td>\n",
       "    </tr>\n",
       "    <tr>\n",
       "      <th>5</th>\n",
       "      <td>ASUS TUF Dash F15 (2021) 15.6\" (39.62 cm) FHD ...</td>\n",
       "      <td></td>\n",
       "      <td>1,09,990</td>\n",
       "    </tr>\n",
       "    <tr>\n",
       "      <th>6</th>\n",
       "      <td>Lenovo Yoga 7 11th Gen Intel Core i7 14\" Full ...</td>\n",
       "      <td></td>\n",
       "      <td>97,989</td>\n",
       "    </tr>\n",
       "    <tr>\n",
       "      <th>7</th>\n",
       "      <td>ASUS TUF Dash F15 (2021), 15.6-inch (39.62 cms...</td>\n",
       "      <td></td>\n",
       "      <td>84,990</td>\n",
       "    </tr>\n",
       "    <tr>\n",
       "      <th>8</th>\n",
       "      <td>Lenovo IdeaPad Flex 5 11th Gen Intel Core i7 1...</td>\n",
       "      <td></td>\n",
       "      <td>97,600</td>\n",
       "    </tr>\n",
       "    <tr>\n",
       "      <th>9</th>\n",
       "      <td>Lenovo IdeaPad Gaming 3 Intel Core i7 10th Gen...</td>\n",
       "      <td></td>\n",
       "      <td>73,990</td>\n",
       "    </tr>\n",
       "  </tbody>\n",
       "</table>\n",
       "</div>"
      ],
      "text/plain": [
       "                                          Brand Name Rating     Price\n",
       "0  ASUS TUF Dash F15 (2021), 15.6\" (39.62 cms) FH...           95,990\n",
       "1  HP Envy 11th Gen Core i7 Processor 13.3-inch (...         1,23,350\n",
       "2  Mi Notebook Horizon Edition 14 Intel Core i7-1...           57,990\n",
       "3  Lenovo IdeaPad S540 11th Gen Intel Core i7 13....           77,990\n",
       "4  HP Pavilion Gaming 11th Gen Intel Core i7 15.6...           89,990\n",
       "5  ASUS TUF Dash F15 (2021) 15.6\" (39.62 cm) FHD ...         1,09,990\n",
       "6  Lenovo Yoga 7 11th Gen Intel Core i7 14\" Full ...           97,989\n",
       "7  ASUS TUF Dash F15 (2021), 15.6-inch (39.62 cms...           84,990\n",
       "8  Lenovo IdeaPad Flex 5 11th Gen Intel Core i7 1...           97,600\n",
       "9  Lenovo IdeaPad Gaming 3 Intel Core i7 10th Gen...           73,990"
      ]
     },
     "execution_count": 134,
     "metadata": {},
     "output_type": "execute_result"
    }
   ],
   "source": [
    "laptop=pd.DataFrame({}) \n",
    "laptop['Brand Name']=title\n",
    "laptop['Rating']=pd.Series(ratings)\n",
    "laptop['Price']=pd.Series(price)\n",
    "laptop.head(10)"
   ]
  },
  {
   "cell_type": "code",
   "execution_count": null,
   "metadata": {},
   "outputs": [],
   "source": []
  }
 ],
 "metadata": {
  "kernelspec": {
   "display_name": "Python 3",
   "language": "python",
   "name": "python3"
  },
  "language_info": {
   "codemirror_mode": {
    "name": "ipython",
    "version": 3
   },
   "file_extension": ".py",
   "mimetype": "text/x-python",
   "name": "python",
   "nbconvert_exporter": "python",
   "pygments_lexer": "ipython3",
   "version": "3.8.5"
  }
 },
 "nbformat": 4,
 "nbformat_minor": 4
}
