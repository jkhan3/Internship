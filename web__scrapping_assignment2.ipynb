{
 "cells": [
  {
   "cell_type": "code",
   "execution_count": null,
   "metadata": {},
   "outputs": [],
   "source": [
    "!pip install selenium"
   ]
  },
  {
   "cell_type": "code",
   "execution_count": null,
   "metadata": {},
   "outputs": [],
   "source": [
    "# import libraries\n",
    "import selenium\n",
    "import pandas as pd\n",
    "from selenium import webdriver "
   ]
  },
  {
   "cell_type": "code",
   "execution_count": null,
   "metadata": {},
   "outputs": [],
   "source": [
    "# connect to webdriver\n",
    "driver=webdriver.Chrome(\"chromedriver.exe\")"
   ]
  },
  {
   "cell_type": "markdown",
   "metadata": {},
   "source": [
    "# Q1"
   ]
  },
  {
   "cell_type": "code",
   "execution_count": null,
   "metadata": {},
   "outputs": [],
   "source": [
    "url = 'https://www.naukri.com/'\n",
    "driver.get(url)"
   ]
  },
  {
   "cell_type": "code",
   "execution_count": null,
   "metadata": {},
   "outputs": [],
   "source": [
    "search_job = driver.find_element_by_id(\"qsb-keyword-sugg\")\n",
    "search_job\n",
    "search_location = driver.find_element_by_id(\"qsb-location-sugg\")\n",
    "search_location"
   ]
  },
  {
   "cell_type": "code",
   "execution_count": null,
   "metadata": {},
   "outputs": [],
   "source": [
    "search_job.send_keys(\"Data Analyst\")\n",
    "search_location.send_keys(\"Bangalore\")"
   ]
  },
  {
   "cell_type": "code",
   "execution_count": null,
   "metadata": {},
   "outputs": [],
   "source": [
    "search_btn = driver.find_element_by_xpath(\"//button[@class='btn']\")\n",
    "search_btn"
   ]
  },
  {
   "cell_type": "code",
   "execution_count": null,
   "metadata": {},
   "outputs": [],
   "source": [
    "search_btn.click()"
   ]
  },
  {
   "cell_type": "code",
   "execution_count": null,
   "metadata": {
    "scrolled": true
   },
   "outputs": [],
   "source": [
    "titles_tags = driver.find_elements_by_xpath(\"//a[@class='title fw500 ellipsis']\")\n",
    "titles_tags"
   ]
  },
  {
   "cell_type": "code",
   "execution_count": null,
   "metadata": {},
   "outputs": [],
   "source": [
    "job_titles = [] #empty list\n",
    "for i in titles_tags:\n",
    "    job_titles.append(i.text)\n",
    "    \n",
    "job_titles"
   ]
  },
  {
   "cell_type": "code",
   "execution_count": null,
   "metadata": {
    "scrolled": true
   },
   "outputs": [],
   "source": [
    "company_name = driver.find_elements_by_xpath(\"//a[@class='subTitle ellipsis fleft']\")\n",
    "company_name"
   ]
  },
  {
   "cell_type": "code",
   "execution_count": null,
   "metadata": {},
   "outputs": [],
   "source": [
    "comp_name = [] #empty list\n",
    "for i in company_name:\n",
    "    comp_name.append(i.text)\n",
    "    \n",
    "comp_name"
   ]
  },
  {
   "cell_type": "code",
   "execution_count": null,
   "metadata": {
    "scrolled": true
   },
   "outputs": [],
   "source": [
    "exp_tags = driver.find_elements_by_xpath(\"//li[@class='fleft grey-text br2 placeHolderLi experience']//span\")\n",
    "exp_tags"
   ]
  },
  {
   "cell_type": "code",
   "execution_count": null,
   "metadata": {
    "scrolled": true
   },
   "outputs": [],
   "source": [
    "job_experience = [] #empty list\n",
    "for i in exp_tags:\n",
    "    job_experience.append(i.text)\n",
    "    \n",
    "job_experience"
   ]
  },
  {
   "cell_type": "code",
   "execution_count": null,
   "metadata": {
    "scrolled": true
   },
   "outputs": [],
   "source": [
    "job_location = driver.find_elements_by_xpath(\"//li[@class='fleft grey-text br2 placeHolderLi location']//span[1]\")\n",
    "job_location"
   ]
  },
  {
   "cell_type": "code",
   "execution_count": null,
   "metadata": {
    "scrolled": true
   },
   "outputs": [],
   "source": [
    "job_loc = [] #empty list\n",
    "for i in job_location:\n",
    "    job_loc.append(i.text)\n",
    "    \n",
    "job_loc"
   ]
  },
  {
   "cell_type": "code",
   "execution_count": null,
   "metadata": {},
   "outputs": [],
   "source": [
    "# Make data frame \n",
    "job_details=pd.DataFrame({})\n",
    "job_details['Job Titles']=job_titles\n",
    "job_details['Company']=comp_name\n",
    "job_details['Experience']=job_experience\n",
    "job_details['Location']=job_loc \n",
    "job_details.head(10)"
   ]
  },
  {
   "cell_type": "markdown",
   "metadata": {},
   "source": [
    "# Q2"
   ]
  },
  {
   "cell_type": "code",
   "execution_count": null,
   "metadata": {},
   "outputs": [],
   "source": [
    "# connect to webdriver\n",
    "driver=webdriver.Chrome(\"chromedriver.exe\")"
   ]
  },
  {
   "cell_type": "code",
   "execution_count": null,
   "metadata": {},
   "outputs": [],
   "source": [
    "url = 'https://www.naukri.com/'\n",
    "driver.get(url)"
   ]
  },
  {
   "cell_type": "code",
   "execution_count": null,
   "metadata": {},
   "outputs": [],
   "source": [
    "search_job = driver.find_element_by_id(\"qsb-keyword-sugg\")\n",
    "search_job\n",
    "search_location = driver.find_element_by_id(\"qsb-location-sugg\")\n",
    "search_location"
   ]
  },
  {
   "cell_type": "code",
   "execution_count": null,
   "metadata": {},
   "outputs": [],
   "source": [
    "search_job.send_keys(\"Data Scientist\")\n",
    "search_location.send_keys(\"Bangalore\")"
   ]
  },
  {
   "cell_type": "code",
   "execution_count": null,
   "metadata": {},
   "outputs": [],
   "source": [
    "search_btn = driver.find_element_by_xpath(\"//button[@class='btn']\")\n",
    "search_btn"
   ]
  },
  {
   "cell_type": "code",
   "execution_count": null,
   "metadata": {},
   "outputs": [],
   "source": [
    "search_btn.click()"
   ]
  },
  {
   "cell_type": "code",
   "execution_count": null,
   "metadata": {},
   "outputs": [],
   "source": [
    "titles_tags = driver.find_elements_by_xpath(\"//a[@class='title fw500 ellipsis']\")\n",
    "\n",
    "job_titles = [] #empty list\n",
    "for i in titles_tags:\n",
    "    job_titles.append(i.text)\n",
    "    \n",
    "job_titles"
   ]
  },
  {
   "cell_type": "code",
   "execution_count": null,
   "metadata": {},
   "outputs": [],
   "source": [
    "company_name = driver.find_elements_by_xpath(\"//a[@class='subTitle ellipsis fleft']\")\n",
    "\n",
    "comp_name = [] #empty list\n",
    "for i in company_name:\n",
    "    comp_name.append(i.text)\n",
    "    \n",
    "comp_name"
   ]
  },
  {
   "cell_type": "code",
   "execution_count": null,
   "metadata": {},
   "outputs": [],
   "source": [
    "job_location = driver.find_elements_by_xpath(\"//li[@class='fleft grey-text br2 placeHolderLi location']//span[1]\")\n",
    "\n",
    "job_loc = [] #empty list\n",
    "for i in job_location:\n",
    "    job_loc.append(i.text)\n",
    "    \n",
    "job_loc"
   ]
  },
  {
   "cell_type": "code",
   "execution_count": null,
   "metadata": {},
   "outputs": [],
   "source": [
    "url = driver.find_elements_by_xpath(\"//a[@class='title fw500 ellipsis']\")\n",
    "\n",
    "job_opening_urls = []\n",
    "\n",
    "for i in url:\n",
    "    job_opening_urls.append(i.get_attribute(\"href\"))\n",
    "    \n",
    "job_opening_urls"
   ]
  },
  {
   "cell_type": "code",
   "execution_count": null,
   "metadata": {},
   "outputs": [],
   "source": [
    "import time\n",
    "from selenium.common.exceptions import NoSuchElementException"
   ]
  },
  {
   "cell_type": "code",
   "execution_count": null,
   "metadata": {},
   "outputs": [],
   "source": [
    "job_description = []\n",
    "\n",
    "for i in job_opening_urls:\n",
    "    driver.get(i)\n",
    "    # extracting job description\n",
    "    try:\n",
    "        job_desc = driver.find_element_by_xpath(\"//section[@class='job-desc']\")\n",
    "        job_description.append(job_desc.text)\n",
    "    except:\n",
    "        job_description.append('-')\n",
    "\n",
    "job_description"
   ]
  },
  {
   "cell_type": "code",
   "execution_count": null,
   "metadata": {},
   "outputs": [],
   "source": [
    "job_details=pd.DataFrame({})\n",
    "job_details['Job Titles']=job_titles\n",
    "job_details['Company']=comp_name\n",
    "job_details['Location']=job_loc \n",
    "job_details['Job Description']=job_description\n",
    "job_details.head(10)"
   ]
  },
  {
   "cell_type": "markdown",
   "metadata": {},
   "source": [
    "# Q3"
   ]
  },
  {
   "cell_type": "code",
   "execution_count": null,
   "metadata": {},
   "outputs": [],
   "source": [
    "# connect to webdriver\n",
    "driver=webdriver.Chrome(\"chromedriver.exe\")"
   ]
  },
  {
   "cell_type": "code",
   "execution_count": null,
   "metadata": {},
   "outputs": [],
   "source": [
    "url = 'https://www.naukri.com/'\n",
    "driver.get(url)"
   ]
  },
  {
   "cell_type": "code",
   "execution_count": null,
   "metadata": {},
   "outputs": [],
   "source": [
    "search_job = driver.find_element_by_id(\"qsb-keyword-sugg\")\n",
    "search_job"
   ]
  },
  {
   "cell_type": "code",
   "execution_count": null,
   "metadata": {},
   "outputs": [],
   "source": [
    "search_job.send_keys(\"Data Scientist\")"
   ]
  },
  {
   "cell_type": "code",
   "execution_count": null,
   "metadata": {},
   "outputs": [],
   "source": [
    "search_btn = driver.find_element_by_xpath(\"//button[@class='btn']\")\n",
    "search_btn"
   ]
  },
  {
   "cell_type": "code",
   "execution_count": null,
   "metadata": {},
   "outputs": [],
   "source": [
    "search_btn.click()"
   ]
  },
  {
   "cell_type": "code",
   "execution_count": null,
   "metadata": {},
   "outputs": [],
   "source": [
    "search_loc = driver.find_element_by_xpath(\"//span[@title='Delhi / NCR']\")\n",
    "\n",
    "search_loc.click()"
   ]
  },
  {
   "cell_type": "code",
   "execution_count": null,
   "metadata": {},
   "outputs": [],
   "source": [
    "search_sal = driver.find_element_by_xpath(\"//span[@title='3-6 Lakhs']\")\n",
    "\n",
    "search_sal.click()"
   ]
  },
  {
   "cell_type": "code",
   "execution_count": null,
   "metadata": {},
   "outputs": [],
   "source": [
    "titles_tags = driver.find_elements_by_xpath(\"//a[@class='title fw500 ellipsis']\")\n",
    "\n",
    "job_titles = [] #empty list\n",
    "for i in titles_tags:\n",
    "    job_titles.append(i.text)\n",
    "    \n",
    "\n",
    "\n",
    "company_name = driver.find_elements_by_xpath(\"//a[@class='subTitle ellipsis fleft']\")\n",
    "\n",
    "comp_name = [] #empty list\n",
    "for i in company_name:\n",
    "    comp_name.append(i.text)\n",
    "    \n",
    "\n",
    "\n",
    "exp_tags = driver.find_elements_by_xpath(\"//li[@class='fleft grey-text br2 placeHolderLi experience']//span\")\n",
    "\n",
    "job_experience = [] #empty list\n",
    "for i in exp_tags:\n",
    "    job_experience.append(i.text)\n",
    "    \n",
    "\n",
    "\n",
    "job_location = driver.find_elements_by_xpath(\"//li[@class='fleft grey-text br2 placeHolderLi location']//span[1]\")\n",
    "\n",
    "job_loc = [] #empty list\n",
    "for i in job_location:\n",
    "    job_loc.append(i.text)\n",
    "    \n"
   ]
  },
  {
   "cell_type": "code",
   "execution_count": null,
   "metadata": {},
   "outputs": [],
   "source": [
    "# Make data frame \n",
    "job_details=pd.DataFrame({})\n",
    "job_details['Job Titles']=job_titles\n",
    "job_details['Company']=comp_name\n",
    "job_details['Experience']=job_experience\n",
    "job_details['Location']=job_loc \n",
    "job_details.head(10)"
   ]
  },
  {
   "cell_type": "markdown",
   "metadata": {},
   "source": [
    "# Q4"
   ]
  },
  {
   "cell_type": "code",
   "execution_count": null,
   "metadata": {},
   "outputs": [],
   "source": [
    "# connect to webdriver\n",
    "driver=webdriver.Chrome(\"chromedriver.exe\")"
   ]
  },
  {
   "cell_type": "code",
   "execution_count": null,
   "metadata": {},
   "outputs": [],
   "source": [
    "url = 'https://www.glassdoor.co.in/index.htm'\n",
    "driver.get(url)"
   ]
  },
  {
   "cell_type": "code",
   "execution_count": null,
   "metadata": {},
   "outputs": [],
   "source": [
    "search_job = driver.find_element_by_xpath(\"//input[@name='sc.keyword']\")\n",
    "search_job"
   ]
  },
  {
   "cell_type": "code",
   "execution_count": null,
   "metadata": {},
   "outputs": [],
   "source": [
    "search_job.send_keys(\"Data Scientist\")"
   ]
  },
  {
   "cell_type": "code",
   "execution_count": null,
   "metadata": {},
   "outputs": [],
   "source": [
    "search_loc = driver.find_element_by_xpath(\"//input[@id='sc.location']\")\n",
    "search_loc"
   ]
  },
  {
   "cell_type": "code",
   "execution_count": null,
   "metadata": {},
   "outputs": [],
   "source": [
    "search_loc.send_keys(\"Noida\")"
   ]
  },
  {
   "cell_type": "code",
   "execution_count": null,
   "metadata": {},
   "outputs": [],
   "source": [
    "search_btn = driver.find_element_by_xpath(\"//span[@class='css-8zxfjs']\")\n",
    "search_btn"
   ]
  },
  {
   "cell_type": "code",
   "execution_count": null,
   "metadata": {},
   "outputs": [],
   "source": [
    "search_btn.click()"
   ]
  },
  {
   "cell_type": "code",
   "execution_count": null,
   "metadata": {},
   "outputs": [],
   "source": [
    "Comp_name = driver.find_elements_by_xpath(\"//a[@class=' job-search-key-l2wjgv e1n63ojh0 jobLink']\")\n",
    "\n",
    "company_name = [] #empty list\n",
    "for i in Comp_name:\n",
    "    company_name.append(i.text)\n",
    "    \n",
    "company_name    \n"
   ]
  },
  {
   "cell_type": "code",
   "execution_count": null,
   "metadata": {},
   "outputs": [],
   "source": [
    "No_days = driver.find_elements_by_xpath(\"//div[@class='d-flex align-items-end pl-std css-17n8uzw']\")\n",
    "\n",
    "no_of_days_ago = [] #empty list\n",
    "for i in No_days:\n",
    "    no_of_days_ago.append(i.text)\n",
    "    \n",
    "no_of_days_ago"
   ]
  },
  {
   "cell_type": "code",
   "execution_count": null,
   "metadata": {},
   "outputs": [],
   "source": [
    "url = driver.find_elements_by_xpath(\"//a[@class=' job-search-key-l2wjgv e1n63ojh0 jobLink']\")\n",
    "\n",
    "job_opening_urls = []\n",
    "\n",
    "for i in url:\n",
    "    job_opening_urls.append(i.get_attribute(\"href\"))\n",
    "    \n",
    "job_opening_urls"
   ]
  },
  {
   "cell_type": "code",
   "execution_count": null,
   "metadata": {},
   "outputs": [],
   "source": [
    "#rating = driver.find_elements_by_xpath(\"//span[@class=' job-search-key-srfzj0 e1cjmv6j0']\")\n",
    "\n",
    "rating = [] #empty list\n",
    "#for i in rating:\n",
    "#   comp_rating.append(i.text)\n",
    "    \n",
    "#comp_rating\n",
    "\n",
    "for i in job_opening_urls:\n",
    "    driver.get(i)\n",
    "    # extracting rating\n",
    "    try:\n",
    "        comp_rating = driver.find_element_by_xpath(\"//span[@class='css-1pmc6te e11nt52q4']\")\n",
    "        rating.append(comp_rating.text.replace(\"\\n\", \"\"))\n",
    "    except:\n",
    "        rating.append('N/A')\n",
    "\n",
    "rating"
   ]
  },
  {
   "cell_type": "code",
   "execution_count": null,
   "metadata": {},
   "outputs": [],
   "source": [
    "job_details=pd.DataFrame({}) \n",
    "job_details['Company']=company_name  \n",
    "job_details['No of Days Ago']=no_of_days_ago\n",
    "job_details['Rating']=rating \n",
    "job_details.head(10)"
   ]
  },
  {
   "cell_type": "markdown",
   "metadata": {},
   "source": [
    "# Q5"
   ]
  },
  {
   "cell_type": "code",
   "execution_count": null,
   "metadata": {},
   "outputs": [],
   "source": [
    "# connect to webdriver\n",
    "driver=webdriver.Chrome(\"chromedriver.exe\")"
   ]
  },
  {
   "cell_type": "code",
   "execution_count": null,
   "metadata": {},
   "outputs": [],
   "source": [
    "url = 'https://www.glassdoor.co.in/Salaries/index.htm'\n",
    "driver.get(url)"
   ]
  },
  {
   "cell_type": "code",
   "execution_count": null,
   "metadata": {},
   "outputs": [],
   "source": [
    "search_job = driver.find_element_by_xpath(\"//input[@id='KeywordSearch']\")\n",
    "search_job"
   ]
  },
  {
   "cell_type": "code",
   "execution_count": null,
   "metadata": {},
   "outputs": [],
   "source": [
    "search_loc = driver.find_element_by_xpath(\"//input[@id='LocationSearch']\")\n",
    "search_loc"
   ]
  },
  {
   "cell_type": "code",
   "execution_count": null,
   "metadata": {},
   "outputs": [],
   "source": [
    "search_job.send_keys(\"Data Scientist\")"
   ]
  },
  {
   "cell_type": "code",
   "execution_count": null,
   "metadata": {},
   "outputs": [],
   "source": [
    "search_loc.send_keys(\"Noida\")"
   ]
  },
  {
   "cell_type": "code",
   "execution_count": null,
   "metadata": {},
   "outputs": [],
   "source": [
    "search_btn = driver.find_element_by_xpath(\"//button[@id='HeroSearchButton']\")\n",
    "search_btn"
   ]
  },
  {
   "cell_type": "code",
   "execution_count": null,
   "metadata": {},
   "outputs": [],
   "source": [
    "search_btn.click()"
   ]
  },
  {
   "cell_type": "code",
   "execution_count": null,
   "metadata": {},
   "outputs": [],
   "source": [
    "Comp_name = driver.find_elements_by_xpath(\"//a[@class='css-f3vw95 e1aj7ssy3']\")\n",
    "\n",
    "company_name = [] #empty list\n",
    "for i in Comp_name:\n",
    "    company_name.append(i.text)\n",
    "    \n",
    "company_name"
   ]
  },
  {
   "cell_type": "code",
   "execution_count": null,
   "metadata": {},
   "outputs": [],
   "source": [
    "salary_no = driver.find_elements_by_xpath(\"//div[@class='col-12 col-lg-auto']//span\")\n",
    "\n",
    "no_of_sal = [] #empty list\n",
    "for i in salary_no:\n",
    "    no_of_sal.append(i.text)\n",
    "    \n",
    "no_of_sal"
   ]
  },
  {
   "cell_type": "code",
   "execution_count": null,
   "metadata": {},
   "outputs": [],
   "source": [
    "avg_sal = driver.find_elements_by_xpath(\"//div[@class='col-12 col-lg-4 px-lg-0 d-flex align-items-baseline']//h3\")\n",
    "\n",
    "Avg_salary = [] #empty list\n",
    "for i in avg_sal:\n",
    "    Avg_salary.append(i.text)\n",
    "    \n",
    "Avg_salary"
   ]
  },
  {
   "cell_type": "code",
   "execution_count": null,
   "metadata": {},
   "outputs": [],
   "source": [
    "min_max = driver.find_elements_by_xpath(\"//span[@class='d-block d-lg-none m-0 css-1b6bxoo']\")\n",
    "\n",
    "min_to_max_sal = [] #empty list\n",
    "for i in min_max:\n",
    "    min_to_max_sal.append(i.text)\n",
    "    \n",
    "min_to_max_sal"
   ]
  },
  {
   "cell_type": "code",
   "execution_count": null,
   "metadata": {},
   "outputs": [],
   "source": [
    "Rating = driver.find_elements_by_xpath(\"//span[@class='m-0 css-kyx745']\")\n",
    "\n",
    "comp_rating = [] #empty list\n",
    "for i in Rating:\n",
    "    comp_rating.append(i.text)\n",
    "    \n",
    "comp_rating"
   ]
  },
  {
   "cell_type": "code",
   "execution_count": null,
   "metadata": {},
   "outputs": [],
   "source": [
    "job_details=pd.DataFrame({}) \n",
    "job_details['Company']=company_name  \n",
    "job_details['No of Salary']=no_of_sal\n",
    "job_details['Average Salary']=Avg_salary\n",
    "job_details['Min and Max Salary range']=min_to_max_sal\n",
    "job_details['Rating']=comp_rating\n",
    "job_details.head(10)"
   ]
  },
  {
   "cell_type": "markdown",
   "metadata": {},
   "source": [
    "# Q6"
   ]
  },
  {
   "cell_type": "code",
   "execution_count": null,
   "metadata": {},
   "outputs": [],
   "source": [
    "# connect to webdriver\n",
    "driver=webdriver.Chrome(\"chromedriver.exe\")"
   ]
  },
  {
   "cell_type": "code",
   "execution_count": null,
   "metadata": {},
   "outputs": [],
   "source": [
    "url = 'https://www.flipkart.com/'\n",
    "driver.get(url)"
   ]
  },
  {
   "cell_type": "code",
   "execution_count": null,
   "metadata": {},
   "outputs": [],
   "source": [
    "search_product = driver.find_element_by_xpath(\"//input[@title='Search for products, brands and more']\")\n",
    "search_product"
   ]
  },
  {
   "cell_type": "code",
   "execution_count": null,
   "metadata": {},
   "outputs": [],
   "source": [
    "search_product.send_keys(\"sunglasses\")"
   ]
  },
  {
   "cell_type": "code",
   "execution_count": null,
   "metadata": {},
   "outputs": [],
   "source": [
    "search_btn = driver.find_element_by_xpath(\"//button[@class='L0Z3Pu']\")\n",
    "search_btn"
   ]
  },
  {
   "cell_type": "code",
   "execution_count": null,
   "metadata": {},
   "outputs": [],
   "source": [
    "search_btn.click()"
   ]
  },
  {
   "cell_type": "code",
   "execution_count": null,
   "metadata": {
    "scrolled": true
   },
   "outputs": [],
   "source": [
    "brand_name = driver.find_elements_by_xpath(\"//div[@class='_2WkVRV']\")\n",
    "Product_desc = driver.find_elements_by_xpath(\"//a[@class='IRpwTa']\")\n",
    "prod_price = driver.find_elements_by_xpath(\"//div[@class='_30jeq3']\")\n",
    "disc_perc = driver.find_elements_by_xpath(\"//div[@class='_3Ay6Sb']\")\n",
    "\n",
    "brand = [] #empty list\n",
    "product = [] #empty list\n",
    "price = [] #empty list\n",
    "discount = [] #empty list\n",
    "\n",
    "for i in brand_name:\n",
    "    brand.append(i.text)\n",
    "\n",
    "for i in Product_desc:\n",
    "    product.append(i.text)\n",
    "\n",
    "for i in prod_price:\n",
    "    price.append(i.text)\n",
    "\n",
    "for i in disc_perc:\n",
    "    discount.append(i.text)\n",
    "    \n",
    "\n",
    "next_btn = driver.find_element_by_xpath(\"//a[@class='_1LKTO3']\")  #Next page button\n",
    "next_btn.click()\n",
    "\n"
   ]
  },
  {
   "cell_type": "code",
   "execution_count": null,
   "metadata": {
    "scrolled": true
   },
   "outputs": [],
   "source": [
    "brand_name1 = driver.find_elements_by_xpath(\"//div[@class='_2WkVRV']\")\n",
    "Product_desc1 = driver.find_elements_by_xpath(\"//a[@class='IRpwTa']\")\n",
    "prod_price1 = driver.find_elements_by_xpath(\"//div[@class='_30jeq3']\")\n",
    "disc_perc1 = driver.find_elements_by_xpath(\"//div[@class='_3Ay6Sb']\")\n",
    "\n",
    "for i in brand_name1:\n",
    "    brand.append(i.text)\n",
    "    \n",
    "for i in Product_desc1:\n",
    "    product.append(i.text)\n",
    "\n",
    "for i in prod_price1:\n",
    "    price.append(i.text)\n",
    "\n",
    "for i in disc_perc1:\n",
    "    discount.append(i.text)\n",
    "    \n",
    "next_btn1 = driver.find_element_by_xpath(\"//nav[@class='yFHi8N']//a[12]\") #Next page button\n",
    "next_btn1.click()\n"
   ]
  },
  {
   "cell_type": "code",
   "execution_count": null,
   "metadata": {
    "scrolled": true
   },
   "outputs": [],
   "source": [
    "brand_name2 = driver.find_elements_by_xpath(\"//div[@class='_2WkVRV']\")\n",
    "Product_desc2 = driver.find_elements_by_xpath(\"//a[@class='IRpwTa']\")\n",
    "prod_price2 = driver.find_elements_by_xpath(\"//div[@class='_30jeq3']\")\n",
    "disc_perc2 = driver.find_elements_by_xpath(\"//div[@class='_3Ay6Sb']\")\n",
    "\n",
    "for i in brand_name2[:20]:\n",
    "    brand.append(i.text)\n",
    "    \n",
    "for i in Product_desc2[:20]:\n",
    "    product.append(i.text)\n",
    "\n",
    "for i in prod_price2[:20]:\n",
    "    price.append(i.text)\n",
    "\n",
    "for i in disc_perc2[:20]:\n",
    "    discount.append(i.text)\n",
    "\n"
   ]
  },
  {
   "cell_type": "code",
   "execution_count": null,
   "metadata": {},
   "outputs": [],
   "source": [
    "sunglasses=pd.DataFrame({}) \n",
    "sunglasses['Brand Name']=brand  \n",
    "sunglasses['Description']=pd.Series(product)\n",
    "sunglasses['Price']=price\n",
    "sunglasses['Discount Percent']=discount\n",
    "sunglasses"
   ]
  },
  {
   "cell_type": "markdown",
   "metadata": {},
   "source": [
    "# Q7"
   ]
  },
  {
   "cell_type": "code",
   "execution_count": null,
   "metadata": {},
   "outputs": [],
   "source": [
    "# connect to webdriver\n",
    "driver=webdriver.Chrome(\"chromedriver.exe\")"
   ]
  },
  {
   "cell_type": "code",
   "execution_count": null,
   "metadata": {},
   "outputs": [],
   "source": [
    "url = 'https://www.flipkart.com/apple-iphone-11-black-64-gb-includesearpods-poweradapter/p/itm0f37c2240b217?pid=MOBFKCTSVZAXUHGR&lid=LSTMOBFKCTSVZAXUHGREPBFGI&marketplace'\n",
    "driver.get(url)"
   ]
  },
  {
   "cell_type": "code",
   "execution_count": null,
   "metadata": {},
   "outputs": [],
   "source": [
    "All_reviews = driver.find_element_by_xpath(\"//div[@class='_3UAT2v _16PBlm']//span\")\n",
    "All_reviews"
   ]
  },
  {
   "cell_type": "code",
   "execution_count": null,
   "metadata": {},
   "outputs": [],
   "source": [
    "All_reviews.click()"
   ]
  },
  {
   "cell_type": "code",
   "execution_count": null,
   "metadata": {},
   "outputs": [],
   "source": [
    "#first 10 reveiws for one page\n",
    "\n",
    "product_rating = driver.find_elements_by_xpath(\"//div[@class='_3LWZlK _1BLPMq']\")\n",
    "short_reveiw = driver.find_elements_by_xpath(\"//p[@class='_2-N8zT']\")\n",
    "reveiw_full = driver.find_elements_by_xpath(\"//div[@class='t-ZTKy']\")\n",
    "\n",
    "\n",
    "rating = [] #empty list\n",
    "review_summary  = [] #empty list\n",
    "full_review = [] #empty list\n",
    "\n",
    "\n",
    "for i in product_rating:\n",
    "    rating.append(i.text)\n",
    "\n",
    "for i in short_reveiw:\n",
    "    review_summary.append(i.text)\n",
    "\n",
    "for i in reveiw_full:\n",
    "    full_review.append(i.text)\n",
    "    \n",
    "next_btn = driver.find_element_by_xpath(\"//nav[@class='yFHi8N']//a[11]\")  #Next page button\n",
    "next_btn.click()"
   ]
  },
  {
   "cell_type": "code",
   "execution_count": null,
   "metadata": {},
   "outputs": [],
   "source": [
    "product_rating = driver.find_elements_by_xpath(\"//div[@class='_3LWZlK _1BLPMq']\")\n",
    "short_reveiw = driver.find_elements_by_xpath(\"//p[@class='_2-N8zT']\")\n",
    "reveiw_full = driver.find_elements_by_xpath(\"//div[@class='t-ZTKy']\")\n",
    "\n",
    "\n",
    "for i in product_rating:\n",
    "    rating.append(i.text)\n",
    "\n",
    "for i in short_reveiw:\n",
    "    review_summary.append(i.text)\n",
    "\n",
    "for i in reveiw_full:\n",
    "    full_review.append(i.text)\n",
    "    \n",
    "next_btn = driver.find_element_by_xpath(\"//nav[@class='yFHi8N']//a[12]\")  #Next page button\n",
    "next_btn.click()"
   ]
  },
  {
   "cell_type": "code",
   "execution_count": null,
   "metadata": {},
   "outputs": [],
   "source": [
    "product_rating = driver.find_elements_by_xpath(\"//div[@class='_3LWZlK _1BLPMq']\")\n",
    "short_reveiw = driver.find_elements_by_xpath(\"//p[@class='_2-N8zT']\")\n",
    "reveiw_full = driver.find_elements_by_xpath(\"//div[@class='t-ZTKy']\")\n",
    "\n",
    "\n",
    "for i in product_rating:\n",
    "    rating.append(i.text)\n",
    "\n",
    "for i in short_reveiw:\n",
    "    review_summary.append(i.text)\n",
    "\n",
    "for i in reveiw_full:\n",
    "    full_review.append(i.text)\n",
    "    \n",
    "next_btn = driver.find_element_by_xpath(\"//nav[@class='yFHi8N']//a[12]\")  #Next page button\n",
    "next_btn.click()"
   ]
  },
  {
   "cell_type": "code",
   "execution_count": null,
   "metadata": {},
   "outputs": [],
   "source": [
    "product_rating = driver.find_elements_by_xpath(\"//div[@class='_3LWZlK _1BLPMq']\")\n",
    "short_reveiw = driver.find_elements_by_xpath(\"//p[@class='_2-N8zT']\")\n",
    "reveiw_full = driver.find_elements_by_xpath(\"//div[@class='t-ZTKy']\")\n",
    "\n",
    "\n",
    "for i in product_rating:\n",
    "    rating.append(i.text)\n",
    "\n",
    "for i in short_reveiw:\n",
    "    review_summary.append(i.text)\n",
    "\n",
    "for i in reveiw_full:\n",
    "    full_review.append(i.text)\n",
    "    \n",
    "next_btn = driver.find_element_by_xpath(\"//nav[@class='yFHi8N']//a[12]\")  #Next page button\n",
    "next_btn.click()"
   ]
  },
  {
   "cell_type": "code",
   "execution_count": null,
   "metadata": {},
   "outputs": [],
   "source": [
    "product_rating = driver.find_elements_by_xpath(\"//div[@class='_3LWZlK _1BLPMq']\")\n",
    "short_reveiw = driver.find_elements_by_xpath(\"//p[@class='_2-N8zT']\")\n",
    "reveiw_full = driver.find_elements_by_xpath(\"//div[@class='t-ZTKy']\")\n",
    "\n",
    "\n",
    "for i in product_rating:\n",
    "    rating.append(i.text)\n",
    "\n",
    "for i in short_reveiw:\n",
    "    review_summary.append(i.text)\n",
    "\n",
    "for i in reveiw_full:\n",
    "    full_review.append(i.text)\n",
    "    \n",
    "next_btn = driver.find_element_by_xpath(\"//nav[@class='yFHi8N']//a[12]\")  #Next page button\n",
    "next_btn.click()"
   ]
  },
  {
   "cell_type": "code",
   "execution_count": null,
   "metadata": {},
   "outputs": [],
   "source": [
    "product_rating = driver.find_elements_by_xpath(\"//div[@class='_3LWZlK _1BLPMq']\")\n",
    "short_reveiw = driver.find_elements_by_xpath(\"//p[@class='_2-N8zT']\")\n",
    "reveiw_full = driver.find_elements_by_xpath(\"//div[@class='t-ZTKy']\")\n",
    "\n",
    "\n",
    "for i in product_rating:\n",
    "    rating.append(i.text)\n",
    "\n",
    "for i in short_reveiw:\n",
    "    review_summary.append(i.text)\n",
    "\n",
    "for i in reveiw_full:\n",
    "    full_review.append(i.text)\n",
    "    \n",
    "next_btn = driver.find_element_by_xpath(\"//nav[@class='yFHi8N']//a[12]\")  #Next page button\n",
    "next_btn.click()"
   ]
  },
  {
   "cell_type": "code",
   "execution_count": null,
   "metadata": {},
   "outputs": [],
   "source": [
    "product_rating = driver.find_elements_by_xpath(\"//div[@class='_3LWZlK _1BLPMq']\")\n",
    "short_reveiw = driver.find_elements_by_xpath(\"//p[@class='_2-N8zT']\")\n",
    "reveiw_full = driver.find_elements_by_xpath(\"//div[@class='t-ZTKy']\")\n",
    "\n",
    "\n",
    "for i in product_rating:\n",
    "    rating.append(i.text)\n",
    "\n",
    "for i in short_reveiw:\n",
    "    review_summary.append(i.text)\n",
    "\n",
    "for i in reveiw_full:\n",
    "    full_review.append(i.text)\n",
    "    \n",
    "next_btn = driver.find_element_by_xpath(\"//nav[@class='yFHi8N']//a[12]\")  #Next page button\n",
    "next_btn.click()"
   ]
  },
  {
   "cell_type": "code",
   "execution_count": null,
   "metadata": {},
   "outputs": [],
   "source": [
    "product_rating = driver.find_elements_by_xpath(\"//div[@class='_3LWZlK _1BLPMq']\")\n",
    "short_reveiw = driver.find_elements_by_xpath(\"//p[@class='_2-N8zT']\")\n",
    "reveiw_full = driver.find_elements_by_xpath(\"//div[@class='t-ZTKy']\")\n",
    "\n",
    "\n",
    "for i in product_rating:\n",
    "    rating.append(i.text)\n",
    "\n",
    "for i in short_reveiw:\n",
    "    review_summary.append(i.text)\n",
    "\n",
    "for i in reveiw_full:\n",
    "    full_review.append(i.text)\n",
    "    \n",
    "next_btn = driver.find_element_by_xpath(\"//nav[@class='yFHi8N']//a[12]\")  #Next page button\n",
    "next_btn.click()"
   ]
  },
  {
   "cell_type": "code",
   "execution_count": null,
   "metadata": {},
   "outputs": [],
   "source": [
    "product_rating = driver.find_elements_by_xpath(\"//div[@class='_3LWZlK _1BLPMq']\")\n",
    "short_reveiw = driver.find_elements_by_xpath(\"//p[@class='_2-N8zT']\")\n",
    "reveiw_full = driver.find_elements_by_xpath(\"//div[@class='t-ZTKy']\")\n",
    "\n",
    "\n",
    "for i in product_rating:\n",
    "    rating.append(i.text)\n",
    "\n",
    "for i in short_reveiw:\n",
    "    review_summary.append(i.text)\n",
    "\n",
    "for i in reveiw_full:\n",
    "    full_review.append(i.text)\n",
    "    \n",
    "next_btn = driver.find_element_by_xpath(\"//nav[@class='yFHi8N']//a[12]\")  #Next page button\n",
    "next_btn.click()"
   ]
  },
  {
   "cell_type": "code",
   "execution_count": null,
   "metadata": {},
   "outputs": [],
   "source": [
    "product_rating = driver.find_elements_by_xpath(\"//div[@class='_3LWZlK _1BLPMq']\")\n",
    "short_reveiw = driver.find_elements_by_xpath(\"//p[@class='_2-N8zT']\")\n",
    "reveiw_full = driver.find_elements_by_xpath(\"//div[@class='t-ZTKy']\")\n",
    "\n",
    "\n",
    "for i in product_rating:\n",
    "    rating.append(i.text)\n",
    "\n",
    "for i in short_reveiw:\n",
    "    review_summary.append(i.text)\n",
    "\n",
    "for i in reveiw_full:\n",
    "    full_review.append(i.text)\n",
    "    \n",
    "next_btn = driver.find_element_by_xpath(\"//nav[@class='yFHi8N']//a[12]\")  #Next page button\n",
    "next_btn.click()"
   ]
  },
  {
   "cell_type": "code",
   "execution_count": null,
   "metadata": {},
   "outputs": [],
   "source": [
    "product_rating = driver.find_elements_by_xpath(\"//div[@class='_3LWZlK _1BLPMq']\")\n",
    "short_reveiw = driver.find_elements_by_xpath(\"//p[@class='_2-N8zT']\")\n",
    "reveiw_full = driver.find_elements_by_xpath(\"//div[@class='t-ZTKy']\")\n",
    "\n",
    "\n",
    "for i in product_rating[:2]:\n",
    "    rating.append(i.text)\n",
    "\n",
    "for i in short_reveiw[:2]:\n",
    "    review_summary.append(i.text)\n",
    "\n",
    "for i in reveiw_full[:2]:\n",
    "    full_review.append(i.text)"
   ]
  },
  {
   "cell_type": "code",
   "execution_count": null,
   "metadata": {},
   "outputs": [],
   "source": [
    "Iphone11=pd.DataFrame({}) \n",
    "Iphone11['Rating']=rating  \n",
    "Iphone11['Reveiw Summary']=pd.Series(review_summary)\n",
    "Iphone11['Full Review']=pd.Series(full_review)\n",
    "Iphone11"
   ]
  },
  {
   "cell_type": "markdown",
   "metadata": {},
   "source": [
    "# Q8"
   ]
  },
  {
   "cell_type": "code",
   "execution_count": null,
   "metadata": {},
   "outputs": [],
   "source": [
    "# connect to webdriver\n",
    "driver=webdriver.Chrome(\"chromedriver.exe\")"
   ]
  },
  {
   "cell_type": "code",
   "execution_count": null,
   "metadata": {},
   "outputs": [],
   "source": [
    "url = 'https://www.flipkart.com/'\n",
    "driver.get(url)"
   ]
  },
  {
   "cell_type": "code",
   "execution_count": null,
   "metadata": {},
   "outputs": [],
   "source": [
    "search_product = driver.find_element_by_xpath(\"//input[@title='Search for products, brands and more']\")\n",
    "search_product"
   ]
  },
  {
   "cell_type": "code",
   "execution_count": null,
   "metadata": {},
   "outputs": [],
   "source": [
    "search_product.send_keys(\"sneakers\")"
   ]
  },
  {
   "cell_type": "code",
   "execution_count": null,
   "metadata": {},
   "outputs": [],
   "source": [
    "search_btn = driver.find_element_by_xpath(\"//button[@class='L0Z3Pu']\")\n",
    "search_btn"
   ]
  },
  {
   "cell_type": "code",
   "execution_count": null,
   "metadata": {},
   "outputs": [],
   "source": [
    "search_btn.click()"
   ]
  },
  {
   "cell_type": "code",
   "execution_count": null,
   "metadata": {},
   "outputs": [],
   "source": [
    "brand_name = driver.find_elements_by_xpath(\"//div[@class='_2WkVRV']\")\n",
    "Product_desc = driver.find_elements_by_xpath(\"//a[@class='IRpwTa']\")\n",
    "prod_price = driver.find_elements_by_xpath(\"//div[@class='_30jeq3']\")\n",
    "disc_perc = driver.find_elements_by_xpath(\"//div[@class='_3Ay6Sb']\")\n",
    "\n",
    "brand = [] #empty list\n",
    "product = [] #empty list\n",
    "price = [] #empty list\n",
    "discount = [] #empty list\n",
    "\n",
    "for i in brand_name:\n",
    "    brand.append(i.text)\n",
    "\n",
    "for i in Product_desc:\n",
    "    product.append(i.text)\n",
    "\n",
    "for i in prod_price:\n",
    "    price.append(i.text)\n",
    "\n",
    "for i in disc_perc:\n",
    "    discount.append(i.text)\n",
    "    \n",
    "\n",
    "next_btn = driver.find_element_by_xpath(\"//nav[@class='yFHi8N']//a[11]\")  #Next page button\n",
    "next_btn.click()"
   ]
  },
  {
   "cell_type": "code",
   "execution_count": null,
   "metadata": {},
   "outputs": [],
   "source": [
    "brand_name = driver.find_elements_by_xpath(\"//div[@class='_2WkVRV']\")\n",
    "Product_desc = driver.find_elements_by_xpath(\"//a[@class='IRpwTa'] \")\n",
    "prod_price = driver.find_elements_by_xpath(\"//div[@class='_30jeq3']\")\n",
    "disc_perc = driver.find_elements_by_xpath(\"//div[@class='_3Ay6Sb']\")\n",
    "\n",
    "\n",
    "for i in brand_name:\n",
    "    brand.append(i.text)\n",
    "\n",
    "for i in Product_desc:\n",
    "    product.append(i.text)\n",
    "\n",
    "for i in prod_price:\n",
    "    price.append(i.text)\n",
    "\n",
    "for i in disc_perc:\n",
    "    discount.append(i.text)\n",
    "    \n",
    "\n",
    "next_btn = driver.find_element_by_xpath(\"//nav[@class='yFHi8N']//a[12]\")  #Next page button\n",
    "next_btn.click()"
   ]
  },
  {
   "cell_type": "code",
   "execution_count": null,
   "metadata": {},
   "outputs": [],
   "source": [
    "brand_name = driver.find_elements_by_xpath(\"//div[@class='_2WkVRV']\")\n",
    "Product_desc = driver.find_elements_by_xpath(\"//a[@class='IRpwTa']\")\n",
    "prod_price = driver.find_elements_by_xpath(\"//div[@class='_30jeq3']\")\n",
    "disc_perc = driver.find_elements_by_xpath(\"//div[@class='_3Ay6Sb']\")\n",
    "\n",
    "\n",
    "for i in brand_name[:20]:\n",
    "    brand.append(i.text)\n",
    "\n",
    "for i in Product_desc[:20]:\n",
    "    product.append(i.text)\n",
    "\n",
    "for i in prod_price[:20]:\n",
    "    price.append(i.text)\n",
    "\n",
    "for i in disc_perc[:20]:\n",
    "    discount.append(i.text)"
   ]
  },
  {
   "cell_type": "code",
   "execution_count": null,
   "metadata": {},
   "outputs": [],
   "source": [
    "sneakers=pd.DataFrame({}) \n",
    "sneakers['Brand Name']=brand\n",
    "sneakers['Description']=pd.Series(product)\n",
    "sneakers['Price']=price\n",
    "sneakers['Discount Percent']=discount\n",
    "sneakers"
   ]
  },
  {
   "cell_type": "markdown",
   "metadata": {},
   "source": [
    "# Q9 - not completed"
   ]
  },
  {
   "cell_type": "code",
   "execution_count": null,
   "metadata": {},
   "outputs": [],
   "source": [
    "# connect to webdriver\n",
    "driver=webdriver.Chrome(\"chromedriver.exe\")"
   ]
  },
  {
   "cell_type": "code",
   "execution_count": null,
   "metadata": {},
   "outputs": [],
   "source": [
    "url = 'https://www.myntra.com/shoes'\n",
    "driver.get(url)"
   ]
  },
  {
   "cell_type": "code",
   "execution_count": null,
   "metadata": {},
   "outputs": [],
   "source": [
    "color_filter = driver.find_elements_by_xpath(\"//input[@class='price-input']\")\n",
    "\n",
    "for i in color_filter:\n",
    "    if i.text == 'Rs. 6871 to Rs. 13578':\n",
    "        i.click()\n",
    "        break"
   ]
  },
  {
   "cell_type": "markdown",
   "metadata": {},
   "source": [
    "# Q10"
   ]
  },
  {
   "cell_type": "code",
   "execution_count": null,
   "metadata": {},
   "outputs": [],
   "source": [
    "# connect to webdriver\n",
    "driver=webdriver.Chrome(\"chromedriver.exe\")"
   ]
  },
  {
   "cell_type": "code",
   "execution_count": null,
   "metadata": {},
   "outputs": [],
   "source": [
    "url = 'https://www.amazon.in/'\n",
    "driver.get(url)"
   ]
  },
  {
   "cell_type": "code",
   "execution_count": null,
   "metadata": {},
   "outputs": [],
   "source": [
    "search_tag = driver.find_element_by_xpath(\"//input[@id='twotabsearchtextbox']\")\n",
    "search_tag"
   ]
  },
  {
   "cell_type": "code",
   "execution_count": null,
   "metadata": {},
   "outputs": [],
   "source": [
    "search_tag.send_keys(\"Laptop\")"
   ]
  },
  {
   "cell_type": "code",
   "execution_count": null,
   "metadata": {},
   "outputs": [],
   "source": [
    "search_btn = driver.find_element_by_xpath(\"//input[@id='nav-search-submit-button']\")\n",
    "search_btn"
   ]
  },
  {
   "cell_type": "code",
   "execution_count": null,
   "metadata": {},
   "outputs": [],
   "source": [
    "search_btn.click()"
   ]
  },
  {
   "cell_type": "code",
   "execution_count": null,
   "metadata": {},
   "outputs": [],
   "source": [
    "filter_button = driver.find_elements_by_xpath(\"//a[@class='a-link-normal s-navigation-item']//span\")\n",
    "\n",
    "for i in filter_button:\n",
    "    if i.text == 'Intel Core i7':\n",
    "        i.click()\n",
    "        break"
   ]
  },
  {
   "cell_type": "code",
   "execution_count": null,
   "metadata": {},
   "outputs": [],
   "source": [
    "filter_button = driver.find_elements_by_xpath(\"//a[@class='a-link-normal s-navigation-item']//span\")\n",
    "\n",
    "for i in filter_button:\n",
    "    if i.text == 'Intel Core i9':\n",
    "        i.click()\n",
    "        break"
   ]
  },
  {
   "cell_type": "code",
   "execution_count": null,
   "metadata": {},
   "outputs": [],
   "source": [
    "title_details = driver.find_elements_by_xpath(\"//span[@class='a-size-medium a-color-base a-text-normal']\")\n",
    "Product_rating = driver.find_elements_by_xpath(\"//span[@class='a-icon-alt']\")\n",
    "prod_price = driver.find_elements_by_xpath(\"//span[@class='a-price-whole']\")\n",
    "\n",
    "title = []\n",
    "ratings = []\n",
    "price = []\n",
    "\n",
    "for i in title_details:\n",
    "    title.append(i.text)\n",
    "\n",
    "for i in Product_rating:\n",
    "    ratings.append(i.text)\n",
    "\n",
    "for i in prod_price:\n",
    "    price.append(i.text)\n",
    "\n"
   ]
  },
  {
   "cell_type": "code",
   "execution_count": null,
   "metadata": {},
   "outputs": [],
   "source": [
    "laptop=pd.DataFrame({}) \n",
    "laptop['Brand Name']=title\n",
    "laptop['Rating']=pd.Series(ratings)\n",
    "laptop['Price']=pd.Series(price)\n",
    "laptop.head(10)"
   ]
  },
  {
   "cell_type": "code",
   "execution_count": null,
   "metadata": {},
   "outputs": [],
   "source": []
  }
 ],
 "metadata": {
  "kernelspec": {
   "display_name": "Python 3",
   "language": "python",
   "name": "python3"
  },
  "language_info": {
   "codemirror_mode": {
    "name": "ipython",
    "version": 3
   },
   "file_extension": ".py",
   "mimetype": "text/x-python",
   "name": "python",
   "nbconvert_exporter": "python",
   "pygments_lexer": "ipython3",
   "version": "3.8.5"
  }
 },
 "nbformat": 4,
 "nbformat_minor": 4
}
